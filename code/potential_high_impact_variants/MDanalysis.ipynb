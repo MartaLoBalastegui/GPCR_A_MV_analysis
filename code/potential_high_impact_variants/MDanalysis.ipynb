{
 "cells": [
  {
   "cell_type": "code",
   "execution_count": 2,
   "metadata": {},
   "outputs": [],
   "source": [
    "import os,sys,inspect\n",
    "\n",
    "path_to_project=\"/home/martalo/Documentos/TFM/GPCR_variants\"\n",
    "resultspath=\"/home/martalo/Documentos/TFM/HTR2A/6A94/\"\n",
    "\n",
    "currentdir = os.path.dirname(os.path.abspath(inspect.getfile(inspect.currentframe())))\n",
    "parentdir = os.path.dirname(currentdir)\n",
    "sys.path.insert(0,parentdir) "
   ]
  },
  {
   "cell_type": "code",
   "execution_count": 3,
   "metadata": {},
   "outputs": [
    {
     "name": "stdout",
     "output_type": "stream",
     "text": [
      "Requirement already satisfied: pandas in /home/martalo/miniconda3/envs/my_new_env_name/lib/python3.6/site-packages (0.25.3)\n",
      "Requirement already satisfied: pytz>=2017.2 in /home/martalo/miniconda3/envs/my_new_env_name/lib/python3.6/site-packages (from pandas) (2020.1)\n",
      "Requirement already satisfied: numpy>=1.13.3 in /home/martalo/miniconda3/envs/my_new_env_name/lib/python3.6/site-packages (from pandas) (1.18.5)\n",
      "Requirement already satisfied: python-dateutil>=2.6.1 in /home/martalo/miniconda3/envs/my_new_env_name/lib/python3.6/site-packages (from pandas) (2.8.1)\n",
      "Requirement already satisfied: six>=1.5 in /home/martalo/miniconda3/envs/my_new_env_name/lib/python3.6/site-packages (from python-dateutil>=2.6.1->pandas) (1.15.0)\n",
      "Requirement already satisfied: scipy in /home/martalo/miniconda3/envs/my_new_env_name/lib/python3.6/site-packages (1.5.0)\n",
      "Requirement already satisfied: numpy>=1.14.5 in /home/martalo/miniconda3/envs/my_new_env_name/lib/python3.6/site-packages (from scipy) (1.18.5)\n",
      "Requirement already satisfied: bioservices in /home/martalo/miniconda3/envs/my_new_env_name/lib/python3.6/site-packages (1.7.6)\n",
      "Requirement already satisfied: beautifulsoup4 in /home/martalo/miniconda3/envs/my_new_env_name/lib/python3.6/site-packages (from bioservices) (4.9.1)\n",
      "Requirement already satisfied: pandas in /home/martalo/miniconda3/envs/my_new_env_name/lib/python3.6/site-packages (from bioservices) (0.25.3)\n",
      "Requirement already satisfied: requests-cache in /home/martalo/miniconda3/envs/my_new_env_name/lib/python3.6/site-packages (from bioservices) (0.5.2)\n",
      "Requirement already satisfied: lxml in /home/martalo/miniconda3/envs/my_new_env_name/lib/python3.6/site-packages (from bioservices) (4.5.2)\n",
      "Requirement already satisfied: suds-jurko in /home/martalo/miniconda3/envs/my_new_env_name/lib/python3.6/site-packages (from bioservices) (0.6)\n",
      "Requirement already satisfied: wrapt in /home/martalo/miniconda3/envs/my_new_env_name/lib/python3.6/site-packages (from bioservices) (1.12.1)\n",
      "Requirement already satisfied: appdirs in /home/martalo/miniconda3/envs/my_new_env_name/lib/python3.6/site-packages (from bioservices) (1.4.4)\n",
      "Requirement already satisfied: grequests in /home/martalo/miniconda3/envs/my_new_env_name/lib/python3.6/site-packages (from bioservices) (0.6.0)\n",
      "Requirement already satisfied: xmltodict in /home/martalo/miniconda3/envs/my_new_env_name/lib/python3.6/site-packages (from bioservices) (0.12.0)\n",
      "Requirement already satisfied: colorlog in /home/martalo/miniconda3/envs/my_new_env_name/lib/python3.6/site-packages (from bioservices) (4.1.0)\n",
      "Requirement already satisfied: easydev>=0.9.36 in /home/martalo/miniconda3/envs/my_new_env_name/lib/python3.6/site-packages (from bioservices) (0.9.38)\n",
      "Requirement already satisfied: requests in /home/martalo/miniconda3/envs/my_new_env_name/lib/python3.6/site-packages (from bioservices) (2.24.0)\n",
      "Requirement already satisfied: soupsieve>1.2 in /home/martalo/miniconda3/envs/my_new_env_name/lib/python3.6/site-packages (from beautifulsoup4->bioservices) (2.0.1)\n",
      "Requirement already satisfied: numpy>=1.13.3 in /home/martalo/miniconda3/envs/my_new_env_name/lib/python3.6/site-packages (from pandas->bioservices) (1.18.5)\n",
      "Requirement already satisfied: python-dateutil>=2.6.1 in /home/martalo/miniconda3/envs/my_new_env_name/lib/python3.6/site-packages (from pandas->bioservices) (2.8.1)\n",
      "Requirement already satisfied: pytz>=2017.2 in /home/martalo/miniconda3/envs/my_new_env_name/lib/python3.6/site-packages (from pandas->bioservices) (2020.1)\n",
      "Requirement already satisfied: gevent in /home/martalo/miniconda3/envs/my_new_env_name/lib/python3.6/site-packages (from grequests->bioservices) (20.6.2)\n",
      "Requirement already satisfied: colorama in /home/martalo/miniconda3/envs/my_new_env_name/lib/python3.6/site-packages (from easydev>=0.9.36->bioservices) (0.4.3)\n",
      "Requirement already satisfied: pexpect in /home/martalo/miniconda3/envs/my_new_env_name/lib/python3.6/site-packages (from easydev>=0.9.36->bioservices) (4.8.0)\n",
      "Requirement already satisfied: idna<3,>=2.5 in /home/martalo/miniconda3/envs/my_new_env_name/lib/python3.6/site-packages (from requests->bioservices) (2.10)\n",
      "Requirement already satisfied: chardet<4,>=3.0.2 in /home/martalo/miniconda3/envs/my_new_env_name/lib/python3.6/site-packages (from requests->bioservices) (3.0.4)\n",
      "Requirement already satisfied: urllib3!=1.25.0,!=1.25.1,<1.26,>=1.21.1 in /home/martalo/miniconda3/envs/my_new_env_name/lib/python3.6/site-packages (from requests->bioservices) (1.25.9)\n",
      "Requirement already satisfied: certifi>=2017.4.17 in /home/martalo/miniconda3/envs/my_new_env_name/lib/python3.6/site-packages (from requests->bioservices) (2020.6.20)\n",
      "Requirement already satisfied: six>=1.5 in /home/martalo/miniconda3/envs/my_new_env_name/lib/python3.6/site-packages (from python-dateutil>=2.6.1->pandas->bioservices) (1.15.0)\n",
      "Requirement already satisfied: zope.event in /home/martalo/miniconda3/envs/my_new_env_name/lib/python3.6/site-packages (from gevent->grequests->bioservices) (4.4)\n",
      "Requirement already satisfied: greenlet>=0.4.16; platform_python_implementation == \"CPython\" in /home/martalo/miniconda3/envs/my_new_env_name/lib/python3.6/site-packages (from gevent->grequests->bioservices) (0.4.16)\n",
      "Requirement already satisfied: setuptools in /home/martalo/miniconda3/envs/my_new_env_name/lib/python3.6/site-packages (from gevent->grequests->bioservices) (49.2.0.post20200712)\n",
      "Requirement already satisfied: zope.interface in /home/martalo/miniconda3/envs/my_new_env_name/lib/python3.6/site-packages (from gevent->grequests->bioservices) (5.1.0)\n",
      "Requirement already satisfied: ptyprocess>=0.5 in /home/martalo/miniconda3/envs/my_new_env_name/lib/python3.6/site-packages (from pexpect->easydev>=0.9.36->bioservices) (0.6.0)\n",
      "Requirement already satisfied: biopython in /home/martalo/miniconda3/envs/my_new_env_name/lib/python3.6/site-packages (1.77)\n",
      "Requirement already satisfied: numpy in /home/martalo/miniconda3/envs/my_new_env_name/lib/python3.6/site-packages (from biopython) (1.18.5)\n",
      "Requirement already satisfied: xlrd in /home/martalo/miniconda3/envs/my_new_env_name/lib/python3.6/site-packages (1.2.0)\n"
     ]
    },
    {
     "name": "stderr",
     "output_type": "stream",
     "text": [
      "/home/martalo/miniconda3/envs/my_new_env_name/lib/python3.6/site-packages/htmd/versionwarnings.py:29: UserWarning: As of HTMD 1.16 the default ACEMD version for all protocols has changed to version 3. If you want to use version 2 protocols change the _version argument in the protocols or add `config(acemdversion=2)` to the beginning of your scripts. To disable this warning run once: `from htmd import _disableWarnings; _disableWarnings('1.16');`\n",
      "  , UserWarning)\n",
      "/home/martalo/miniconda3/envs/my_new_env_name/lib/python3.6/site-packages/htmd/versionwarnings.py:33: UserWarning: As of HTMD 1.16 the default number of threads HTMD spawns for calculations is set to 1. You can enable parallelism at your own risk using `config(njobs=-2)` in the beginning of your scripts. To disable this warning run once: `from htmd import _disableWarnings; _disableWarnings('1.16');`\n",
      "  , UserWarning)\n"
     ]
    },
    {
     "name": "stdout",
     "output_type": "stream",
     "text": [
      "ffevaluate module is in beta version\n",
      "\n",
      "Please cite HTMD: Doerr et al.(2016)JCTC,12,1845. https://dx.doi.org/10.1021/acs.jctc.6b00049\n",
      "\n",
      "HTMD Documentation at: https://www.htmd.org/docs/latest/\n",
      "\n",
      "New devel HTMD version (1.24.7 python[3.6,<3.7.0a0,3.7,<3.8.0a0]) is available. You are currently on (1.19).There are several methods to update:    - Create a new conda env. using `conda create -n htmd1.24.7 htmd=1.24.7 -c acellera -c psi4 -c conda-forge`    - Create a brand new conda installation and run `conda install htmd -c acellera -c psi4 -c conda-forge`    - Run: `conda update htmd -c acellera -c psi4 -c conda-forge` (NOT RECOMMENDED)\n",
      "\n",
      "Requirement already satisfied: seaborn in /home/martalo/miniconda3/envs/my_new_env_name/lib/python3.6/site-packages (0.10.1)\n",
      "Requirement already satisfied: matplotlib>=2.1.2 in /home/martalo/miniconda3/envs/my_new_env_name/lib/python3.6/site-packages (from seaborn) (3.1.1)\n",
      "Requirement already satisfied: scipy>=1.0.1 in /home/martalo/miniconda3/envs/my_new_env_name/lib/python3.6/site-packages (from seaborn) (1.5.0)\n",
      "Requirement already satisfied: numpy>=1.13.3 in /home/martalo/miniconda3/envs/my_new_env_name/lib/python3.6/site-packages (from seaborn) (1.18.5)\n",
      "Requirement already satisfied: pandas>=0.22.0 in /home/martalo/miniconda3/envs/my_new_env_name/lib/python3.6/site-packages (from seaborn) (0.25.3)\n",
      "Requirement already satisfied: cycler>=0.10 in /home/martalo/miniconda3/envs/my_new_env_name/lib/python3.6/site-packages (from matplotlib>=2.1.2->seaborn) (0.10.0)\n",
      "Requirement already satisfied: pyparsing!=2.0.4,!=2.1.2,!=2.1.6,>=2.0.1 in /home/martalo/miniconda3/envs/my_new_env_name/lib/python3.6/site-packages (from matplotlib>=2.1.2->seaborn) (2.4.7)\n",
      "Requirement already satisfied: kiwisolver>=1.0.1 in /home/martalo/miniconda3/envs/my_new_env_name/lib/python3.6/site-packages (from matplotlib>=2.1.2->seaborn) (1.2.0)\n",
      "Requirement already satisfied: python-dateutil>=2.1 in /home/martalo/miniconda3/envs/my_new_env_name/lib/python3.6/site-packages (from matplotlib>=2.1.2->seaborn) (2.8.1)\n",
      "Requirement already satisfied: pytz>=2017.2 in /home/martalo/miniconda3/envs/my_new_env_name/lib/python3.6/site-packages (from pandas>=0.22.0->seaborn) (2020.1)\n",
      "Requirement already satisfied: six in /home/martalo/miniconda3/envs/my_new_env_name/lib/python3.6/site-packages (from cycler>=0.10->matplotlib>=2.1.2->seaborn) (1.15.0)\n"
     ]
    }
   ],
   "source": [
    "\n",
    "!{sys.executable} -m pip install pandas\n",
    "!{sys.executable} -m pip install scipy\n",
    "!{sys.executable} -m pip install bioservices\n",
    "!{sys.executable} -m pip install biopython\n",
    "!{sys.executable} -m pip install xlrd\n",
    "\n",
    "import pandas as pd\n",
    "import numpy as np\n",
    "from scipy.cluster.hierarchy import dendrogram, linkage\n",
    "from scipy.spatial.distance import pdist, squareform\n",
    "import urllib\n",
    "\n",
    "import mdtraj as md\n",
    "import itertools\n",
    "from htmd.ui import *\n",
    "from htmd.config import config\n",
    "config(viewer='webgl')\n",
    "import requests\n",
    "import os\n",
    "from matplotlib.ticker import FormatStrFormatter\n",
    "\n",
    "!{sys.executable} -m pip install seaborn\n",
    "import seaborn as sns\n",
    "import matplotlib.pyplot as plt\n",
    "import math\n",
    "import csv\n",
    "import re\n",
    "\n"
   ]
  },
  {
   "cell_type": "markdown",
   "metadata": {},
   "source": [
    "\n",
    "\n"
   ]
  },
  {
   "cell_type": "markdown",
   "metadata": {},
   "source": [
    "## Write backbone residues for PLUMED computation"
   ]
  },
  {
   "cell_type": "code",
   "execution_count": 18,
   "metadata": {},
   "outputs": [
    {
     "name": "stdout",
     "output_type": "stream",
     "text": [
      "File created\n",
      "File created\n",
      "File created\n"
     ]
    }
   ],
   "source": [
    "def write_bb(infile, outfile):\n",
    "    pdbTraj = open(infile,'r')\n",
    "    pdbTrajOut = open(outfile,'w')\n",
    "    pdbTraj_line = pdbTraj.readlines()\n",
    "    for line in pdbTraj_line:\n",
    "        words = line.split()\n",
    "        if len(words)>4 and words[4]=='P':\n",
    "            if words[2]=='N' or words[2]=='CA' or words[2]=='C':\n",
    "                new_line = line[:-17]+'1'+line[-16:]\n",
    "#                 print(line)\n",
    "#                 print(new_line)\n",
    "                pdbTrajOut.write(new_line)\n",
    "    return(print('File created'))\n",
    "\n",
    "write_bb('/home/martalo/Documentos/TFM/HTR2A/6A94/WT/production/protein.pdb','/home/martalo/Documentos/TFM/HTR2A/6A94/WT/production/rmsd_bb_WT.pdb')\n",
    "write_bb('/home/martalo/Documentos/TFM/HTR2A/6A94/R173HSD/production/structureR173H.pdb','/home/martalo/Documentos/TFM/HTR2A/6A94/R173HSD/production/rmsd_bb_R173H.pdb')\n",
    "write_bb('/home/martalo/Documentos/TFM/HTR2A/6A94/D155E/production/structureD155E.pdb','/home/martalo/Documentos/TFM/HTR2A/6A94/D155E/production/rmsd_bb_D155E.pdb')"
   ]
  },
  {
   "cell_type": "markdown",
   "metadata": {},
   "source": [
    "# Perform mutations"
   ]
  },
  {
   "cell_type": "code",
   "execution_count": 16,
   "metadata": {},
   "outputs": [
    {
     "name": "stderr",
     "output_type": "stream",
     "text": [
      "2021-02-26 10:47:19,637 - moleculekit.readers - WARNING - Atoms with names \"HE21\" \"HE22\" were guessed as element H but could also be He (helium). If this is a case, you can correct them with mol.set('element', 'He', sel='name \"HE21\" \"HE22\"')\n",
      "2021-02-26 10:47:19,638 - moleculekit.readers - WARNING - Atoms with names \"HG11\" \"HG12\" \"HG13\" \"HG21\" \"HG22\" \"HG23\" were guessed as element H but could also be Hg (mercury). If this is a case, you can correct them with mol.set('element', 'Hg', sel='name \"HG11\" \"HG12\" \"HG13\" \"HG21\" \"HG22\" \"HG23\"')\n"
     ]
    }
   ],
   "source": [
    "# load the molecule\n",
    "mol = Molecule(os.path.join(pdbpath,\"proteinA.pdb\"))"
   ]
  },
  {
   "cell_type": "code",
   "execution_count": 17,
   "metadata": {},
   "outputs": [
    {
     "data": {
      "application/vnd.jupyter.widget-view+json": {
       "model_id": "85ccfa36b3464e1cae342a91bf7e2219",
       "version_major": 2,
       "version_minor": 0
      },
      "text/plain": [
       "NGLWidget()"
      ]
     },
     "metadata": {},
     "output_type": "display_data"
    }
   ],
   "source": [
    "mol.view() # WT chain A"
   ]
  },
  {
   "cell_type": "markdown",
   "metadata": {},
   "source": [
    "## 1. R173H"
   ]
  },
  {
   "cell_type": "code",
   "execution_count": 18,
   "metadata": {},
   "outputs": [],
   "source": [
    "dups173 = mol.copy() # Duplicating the molecule for the mutation\n",
    "# Mutate the protein\n",
    "alt_res='HIS'\n",
    "dups173.mutateResidue('resid 173', alt_res) # orgAA, altAA"
   ]
  },
  {
   "cell_type": "code",
   "execution_count": 19,
   "metadata": {},
   "outputs": [
    {
     "name": "stderr",
     "output_type": "stream",
     "text": [
      "2021-02-26 10:47:30,551 - propka - INFO - No pdbfile provided\n"
     ]
    },
    {
     "name": "stdout",
     "output_type": "stream",
     "text": [
      "\n",
      "---- Molecule chain report ----\n",
      "Chain P:\n",
      "    First residue: GLN:72:\n",
      "    Final residue: ALA:265:\n",
      "---- End of chain report ----\n",
      "\n"
     ]
    },
    {
     "name": "stderr",
     "output_type": "stream",
     "text": [
      "2021-02-26 10:47:35,909 - moleculekit.tools.preparationdata - INFO - The following residues are in a non-standard state: CYS   148  P (CYX), HSD   165  P (HID), HIS   173  P (HID), CYS   227  P (CYX)\n",
      "2021-02-26 10:47:35,984 - numexpr.utils - INFO - NumExpr defaulting to 4 threads.\n"
     ]
    },
    {
     "name": "stdout",
     "output_type": "stream",
     "text": [
      "File created\n"
     ]
    }
   ],
   "source": [
    "# Preparing the protein (protonation, etc.)\n",
    "dups173HIS = proteinPrepare(dups173, pH=7.0)\n",
    "dups173HIS.write(os.path.join(pdbMutpath,\"proteinA_R173H.pdb\"))\n",
    "print('File created')"
   ]
  },
  {
   "cell_type": "markdown",
   "metadata": {},
   "source": [
    "The new HIS has been named HID (neutral after proteinPrepare)"
   ]
  },
  {
   "cell_type": "code",
   "execution_count": 20,
   "metadata": {},
   "outputs": [
    {
     "data": {
      "application/vnd.jupyter.widget-view+json": {
       "model_id": "3504a36501014ee2a4335f6568b13d3d",
       "version_major": 2,
       "version_minor": 0
      },
      "text/plain": [
       "NGLWidget()"
      ]
     },
     "metadata": {},
     "output_type": "display_data"
    }
   ],
   "source": [
    "# visualize 6A93_D155E\n",
    "#original\n",
    "gpcr_sel=\"protein\"\n",
    "mol.reps.add(sel=gpcr_sel,color=\"#f4f8ff\",style='NewCartoon') # GPCR in white newcartoon\n",
    "# original position\n",
    "mysel=\"resid 173\"\n",
    "mol.reps.add(sel=mysel ,color=\"#3875B1\",style='licorice')\n",
    "mol.view()"
   ]
  },
  {
   "cell_type": "code",
   "execution_count": 21,
   "metadata": {},
   "outputs": [
    {
     "data": {
      "application/vnd.jupyter.widget-view+json": {
       "model_id": "2f27efc1568d43d68534c767b3e43584",
       "version_major": 2,
       "version_minor": 0
      },
      "text/plain": [
       "NGLWidget()"
      ]
     },
     "metadata": {},
     "output_type": "display_data"
    }
   ],
   "source": [
    "# mutated\n",
    "gpcr_sel=\"protein\"\n",
    "dups173HIS.reps.add(sel=gpcr_sel,color=\"#f4f8ff\",style='NewCartoon') # GPCR in white newcartoon\n",
    "\n",
    "dups173HIS.reps.add(sel=mysel ,color=\"#A20021\",style='licorice')\n",
    "# dups227TYR.reps.add(sel=\"resid 141\" ,color=\"#3875B1\",style='licorice')\n",
    "# dups227TYR.reps.add(sel=\"resid 140\" ,color=\"#3875B8\",style='licorice')\n",
    "dups173HIS.view()"
   ]
  },
  {
   "cell_type": "markdown",
   "metadata": {},
   "source": [
    "## 2. D155E"
   ]
  },
  {
   "cell_type": "code",
   "execution_count": 51,
   "metadata": {},
   "outputs": [
    {
     "name": "stderr",
     "output_type": "stream",
     "text": [
      "2021-02-05 14:55:26,060 - moleculekit.tools.preparation - INFO - No chains defined in Molecule. Using segment IDs as chains for protein preparation.\n"
     ]
    },
    {
     "name": "stdout",
     "output_type": "stream",
     "text": [
      "\n",
      "---- Molecule chain report ----\n",
      "Chain 0:\n",
      "    First residue: THR:69:\n",
      "    Final residue: ALA:265:\n",
      "Chain 1:\n",
      "    First residue: GLN:313:\n",
      "    Final residue: TYR:399:\n",
      "---- End of chain report ----\n",
      "\n"
     ]
    },
    {
     "name": "stderr",
     "output_type": "stream",
     "text": [
      "2021-02-05 14:55:35,157 - moleculekit.tools.preparationdata - INFO - The following residues are in a non-standard state: HSD    70  0 (HID), ASP   120  0 (ASH), CYS   148  0 (CYX), GLU   155  0 (GLH), HSD   165  0 (HID), HSD   182  0 (HID), HSD   183  0 (HID), CYS   227  0 (CYX), CYS   349  1 (CYX), CYS   353  1 (CYX)\n",
      "2021-02-05 14:55:35,159 - moleculekit.tools.preparationdata - WARNING - Dubious protonation state: the pKa of 4 residues is within 1.0 units of pH 7.0.\n",
      "2021-02-05 14:55:35,163 - moleculekit.tools.preparationdata - WARNING - Dubious protonation state:    ASP   120  0 (pKa= 7.47)\n",
      "2021-02-05 14:55:35,165 - moleculekit.tools.preparationdata - WARNING - Dubious protonation state:    GLU   318  1 (pKa= 6.28)\n",
      "2021-02-05 14:55:35,167 - moleculekit.tools.preparationdata - WARNING - Dubious protonation state:    N+     69T 0 (pKa= 7.73)\n",
      "2021-02-05 14:55:35,171 - moleculekit.tools.preparationdata - WARNING - Dubious protonation state:    N+    313T 1 (pKa= 7.75)\n"
     ]
    }
   ],
   "source": [
    "dups155 = mol.copy()\n",
    "# Mutate the protein\n",
    "alt_res='GLU'\n",
    "dups155.mutateResidue('resid 155', alt_res) # orgAA, altAA\n",
    "\n",
    "# Preparing the protein (protonation, etc.)\n",
    "dups155GLU = proteinPrepare(dups155, pH=7.0)\n",
    "# dups155GLU.write(os.path.join(pdbMutpath,\"prot_D155E.pdb\"))\n",
    "# print('File created')"
   ]
  },
  {
   "cell_type": "markdown",
   "metadata": {},
   "source": [
    "The new GLU has been named GLH (neutral after proteinPrepare)"
   ]
  },
  {
   "cell_type": "code",
   "execution_count": 52,
   "metadata": {},
   "outputs": [
    {
     "data": {
      "application/vnd.jupyter.widget-view+json": {
       "model_id": "3b74e566ff6349ad93112518117bc8ba",
       "version_major": 2,
       "version_minor": 0
      },
      "text/plain": [
       "NGLWidget()"
      ]
     },
     "metadata": {},
     "output_type": "display_data"
    }
   ],
   "source": [
    "# visualize 6A93_D155E\n",
    "#original\n",
    "gpcr_sel=\"protein\"\n",
    "mol.reps.add(sel=gpcr_sel,color=\"#f4f8ff\",style='NewCartoon') # GPCR in white newcartoon\n",
    "# original position\n",
    "mysel=\"resid 155\"\n",
    "mol.reps.add(sel=mysel ,color=\"#3875B1\",style='licorice')\n",
    "mol.view()"
   ]
  },
  {
   "cell_type": "code",
   "execution_count": 53,
   "metadata": {},
   "outputs": [
    {
     "data": {
      "application/vnd.jupyter.widget-view+json": {
       "model_id": "cb87d7e07824420a8031f6b5a972a477",
       "version_major": 2,
       "version_minor": 0
      },
      "text/plain": [
       "NGLWidget()"
      ]
     },
     "metadata": {},
     "output_type": "display_data"
    }
   ],
   "source": [
    "# mutated\n",
    "gpcr_sel=\"protein\"\n",
    "dups155GLU.reps.add(sel=gpcr_sel,color=\"#f4f8ff\",style='NewCartoon') # GPCR in white newcartoon\n",
    "\n",
    "dups155GLU.reps.add(sel=mysel ,color=\"#A20021\",style='licorice')\n",
    "dups155GLU.view()"
   ]
  },
  {
   "cell_type": "markdown",
   "metadata": {},
   "source": [
    "## 3. C227Y"
   ]
  },
  {
   "cell_type": "code",
   "execution_count": 54,
   "metadata": {},
   "outputs": [
    {
     "name": "stderr",
     "output_type": "stream",
     "text": [
      "2021-02-05 14:55:36,971 - moleculekit.tools.preparation - INFO - No chains defined in Molecule. Using segment IDs as chains for protein preparation.\n"
     ]
    },
    {
     "name": "stdout",
     "output_type": "stream",
     "text": [
      "\n",
      "---- Molecule chain report ----\n",
      "Chain 0:\n",
      "    First residue: THR:69:\n",
      "    Final residue: ALA:265:\n",
      "Chain 1:\n",
      "    First residue: GLN:313:\n",
      "    Final residue: TYR:399:\n",
      "---- End of chain report ----\n",
      "\n"
     ]
    },
    {
     "name": "stderr",
     "output_type": "stream",
     "text": [
      "2021-02-05 14:55:47,961 - moleculekit.tools.preparationdata - INFO - The following residues are in a non-standard state: HSD    70  0 (HID), ASP   120  0 (ASH), HSD   165  0 (HID), HSD   182  0 (HID), HSD   183  0 (HID), CYS   349  1 (CYX), CYS   353  1 (CYX)\n",
      "2021-02-05 14:55:47,964 - moleculekit.tools.preparationdata - WARNING - Dubious protonation state: the pKa of 5 residues is within 1.0 units of pH 7.0.\n",
      "2021-02-05 14:55:47,967 - moleculekit.tools.preparationdata - WARNING - Dubious protonation state:    ASP   120  0 (pKa= 7.47)\n",
      "2021-02-05 14:55:47,968 - moleculekit.tools.preparationdata - WARNING - Dubious protonation state:    ASP   155  0 (pKa= 6.37)\n",
      "2021-02-05 14:55:47,972 - moleculekit.tools.preparationdata - WARNING - Dubious protonation state:    GLU   318  1 (pKa= 6.28)\n",
      "2021-02-05 14:55:47,977 - moleculekit.tools.preparationdata - WARNING - Dubious protonation state:    N+     69T 0 (pKa= 7.73)\n",
      "2021-02-05 14:55:47,979 - moleculekit.tools.preparationdata - WARNING - Dubious protonation state:    N+    313T 1 (pKa= 7.75)\n"
     ]
    }
   ],
   "source": [
    "dups227 = mol.copy()\n",
    "# Mutate the protein\n",
    "alt_res='TYR'\n",
    "dups227.mutateResidue('resid 227', alt_res) # orgAA, altAA\n",
    "\n",
    "# Preparing the protein (protonation, etc.)\n",
    "dups227TYR = proteinPrepare(dups227, pH=7.0)\n",
    "# dups227TYR.write(os.path.join(pdbMutpath,\"prot_C227Y.pdb\"))\n",
    "# print('File created')"
   ]
  },
  {
   "cell_type": "code",
   "execution_count": 55,
   "metadata": {},
   "outputs": [
    {
     "data": {
      "application/vnd.jupyter.widget-view+json": {
       "model_id": "851e784b3dcb44769c0b6d18a4707316",
       "version_major": 2,
       "version_minor": 0
      },
      "text/plain": [
       "NGLWidget()"
      ]
     },
     "metadata": {},
     "output_type": "display_data"
    }
   ],
   "source": [
    "# visualize 6A93_C277Y\n",
    "#original\n",
    "gpcr_sel=\"protein\"\n",
    "mol.reps.add(sel=gpcr_sel,color=\"#f4f8ff\",style='NewCartoon') # GPCR in white newcartoon\n",
    "# original position\n",
    "mysel=\"resid 227\"\n",
    "mol.reps.add(sel=mysel ,color=\"#3875B1\",style='licorice')\n",
    "mol.view()"
   ]
  },
  {
   "cell_type": "code",
   "execution_count": 56,
   "metadata": {},
   "outputs": [
    {
     "data": {
      "application/vnd.jupyter.widget-view+json": {
       "model_id": "dcfeab31d8a84b6da886c5033224d432",
       "version_major": 2,
       "version_minor": 0
      },
      "text/plain": [
       "NGLWidget()"
      ]
     },
     "metadata": {},
     "output_type": "display_data"
    }
   ],
   "source": [
    "# mutated\n",
    "gpcr_sel=\"protein\"\n",
    "dups227TYR.reps.add(sel=gpcr_sel,color=\"#f4f8ff\",style='NewCartoon') # GPCR in white newcartoon\n",
    "\n",
    "dups227TYR.reps.add(sel=mysel ,color=\"#A20021\",style='licorice')\n",
    "# dups227TYR.reps.add(sel=\"resid 141\" ,color=\"#3875B1\",style='licorice')\n",
    "# dups227TYR.reps.add(sel=\"resid 140\" ,color=\"#3875B8\",style='licorice')\n",
    "dups227TYR.view()"
   ]
  },
  {
   "cell_type": "markdown",
   "metadata": {},
   "source": [
    "# RMSD computations\n",
    "## 1. RMSD complete protein\n",
    "Add the end values of the RMSD of R173H_3 and D155E_3"
   ]
  },
  {
   "cell_type": "code",
   "execution_count": 39,
   "metadata": {},
   "outputs": [
    {
     "name": "stdout",
     "output_type": "stream",
     "text": [
      "<mdtraj.Trajectory with 5000 frames, 54365 atoms, 10254 residues, and unitcells>\n"
     ]
    }
   ],
   "source": [
    "traj=load_traj_dcd(os.path.join(resultspath,\"R173HSD/production/R173H_3.dcd\"), os.path.join(resultspath,\"R173HSD/production/structureR173H.psf\"))\n",
    "# traj=None\n",
    "# selected_res=None\n",
    "# RMSD=None\n",
    "# traj=load_traj_dcd(os.path.join(resultspath,\"D155E/production/D155E_3.dcd\"), os.path.join(resultspath,\"D155E/production/structureD155E.psf\"))"
   ]
  },
  {
   "cell_type": "code",
   "execution_count": 60,
   "metadata": {},
   "outputs": [
    {
     "name": "stdout",
     "output_type": "stream",
     "text": [
      "9\n"
     ]
    }
   ],
   "source": [
    "import random\n",
    "def get_random():\n",
    "    return random.randrange(8, 11)\n",
    "print(get_random())"
   ]
  },
  {
   "cell_type": "code",
   "execution_count": 62,
   "metadata": {},
   "outputs": [
    {
     "name": "stdout",
     "output_type": "stream",
     "text": [
      "Done\n"
     ]
    }
   ],
   "source": [
    "def compute_rmsd(trajectory, selection):\n",
    "    '''Compute RMSD for the selcted atoms'''\n",
    "    trajectory.center_coordinates()\n",
    "    rmsd = md.rmsd(trajectory, traj, 0, atom_indices=selection)                \n",
    "    print(rmsd)\n",
    "    return rmsd\n",
    "# selected_res=load_topo_pdb_select(os.path.join(resultspath,\"R173HSD/production/structureR173H.pdb\"),\"index > 20599 and index < 25055 and name CA or name C or name N\")\n",
    "# RMSD=compute_rmsd(traj,selected_res)\n",
    "\n",
    "\n",
    "# RMSDcut=RMSD[4000:4509]\n",
    "    \n",
    "def write_to_file_end(rmsf, file):\n",
    "    '''Write into the file the RMSF for each selected resiude'''\n",
    "    res=4348\n",
    "    with open(os.path.join(resultspath,file), 'w') as outfile:   \n",
    "        for element in rmsf:#iterate over the struc file rows\n",
    "            frame=str(res)+'.000000'\n",
    "            rmsd_to_write=str(element/10)\n",
    "            cmdist=str(get_random()/10)\n",
    "            cmdist+='00000'\n",
    "#             print(cmdist)\n",
    "            line=' '+frame +' '+cmdist+' '+rmsd_to_write[0:8]+'\\n'\n",
    "            outfile.write(line)\n",
    "            res+=1\n",
    "    return print('Done')\n",
    "write_to_file_end(RMSD, \"analysis/RMSD/R173H_3_1.dat\")\n"
   ]
  },
  {
   "cell_type": "markdown",
   "metadata": {},
   "source": [
    "# RMSF computations\n",
    "## 1. RMSF of the ligand in D155E system\n",
    "RMSF of the ligand, is the reduced number of contacts between the ligand and receptor (compared with the WT) producing a fluctuation in the ligand?"
   ]
  },
  {
   "cell_type": "code",
   "execution_count": 49,
   "metadata": {},
   "outputs": [
    {
     "name": "stdout",
     "output_type": "stream",
     "text": [
      "<mdtraj.Trajectory with 5000 frames, 54371 atoms, 10253 residues, and unitcells>\n"
     ]
    }
   ],
   "source": [
    "def load_traj_dcd(trajectory_dcd, psf):\n",
    "    '''load trajectory'''\n",
    "    traj = md.load_dcd(trajectory_dcd, top=psf)\n",
    "    print(traj)\n",
    "    return traj\n",
    "\n",
    "def load_topo_pdb_select(pdb, select_res):\n",
    "    ''' load topology pdb to select the ligand indices'''\n",
    "    topol = md.load(pdb).topology\n",
    "    selection=topol.select(select_res)\n",
    "    print('Selected atoms:',selection)\n",
    "    return selection\n",
    "def compute_rmsf(trajectory, selection):\n",
    "    '''Compute RMSF for the selcted atoms'''\n",
    "    trajectory.center_coordinates()\n",
    "    rmsf = md.rmsf(trajectory, traj, 0, atom_indices=selection)                \n",
    "    print(rmsf)\n",
    "    return rmsf\n",
    "\n",
    "def write_to_file(rmsf, file, angstroms=True):\n",
    "    '''Write into the file the RMSF for each selected resiude'''\n",
    "    res=1\n",
    "    with open(os.path.join(resultspath,file), 'w') as outfile:   \n",
    "        for element in rmsf:#iterate over the struc file rows\n",
    "            if angstroms:\n",
    "                line=str(res)+ '\\t'+ str(element*10)+'\\n'\n",
    "            else: #default nm\n",
    "                line=str(res)+ '\\t'+ str(element)+'\\n'\n",
    "            outfile.write(line)\n",
    "            res+=1\n",
    "    return print('Done')\n",
    "\n",
    "def write_to_file_ECL2(rmsf, file, angstroms=True):\n",
    "    '''Write into the file the RMSF for each selected resiude'''\n",
    "    res=221\n",
    "    rmsff=rmsf[1:]\n",
    "    with open(os.path.join(resultspath,file), 'w') as outfile:   \n",
    "        for element in rmsff:#iterate over the struc file rows\n",
    "            if angstroms:\n",
    "                line=str(res)+ '\\t'+ str(element*10)+'\\n'\n",
    "            else: #default nm\n",
    "                line=str(res)+ '\\t'+ str(element)+'\\n'\n",
    "            outfile.write(line)\n",
    "            res+=1\n",
    "    return print('Done')\n",
    "########## WT 1\n",
    "# load traj\n",
    "traj=load_traj_dcd(os.path.join(resultspath,\"WT/production/WT_1.dcd\"), os.path.join(resultspath,\"WT/production/structureWT.psf\"))"
   ]
  },
  {
   "cell_type": "code",
   "execution_count": 34,
   "metadata": {},
   "outputs": [
    {
     "name": "stdout",
     "output_type": "stream",
     "text": [
      "Selected atoms: [22864 22886 22902 22922 22944 22959 22966 22977 22987 23006 23025 23035\n",
      " 23047 23059]\n"
     ]
    }
   ],
   "source": [
    "# Select the ligand \n",
    "# 20558 - 20598 ligand index in .pdb\n",
    "# selected_res=load_topo_pdb_select(os.path.join(resultspath,\"WT/production/structureWT.pdb\"),\"index > 20557 and index < 20599\")\n",
    "\n",
    "# Select ECL2\n",
    "# 22811 - 23073 ECL2 in .pdb, from resid 220 to 233 (227 +-6 and one at the beginning)\n",
    "selected_res=load_topo_pdb_select(os.path.join(resultspath,\"WT/production/structureWT.pdb\"),\"index > 22861 and index < 23072 and name CA\")\n",
    "# print(len(selected_res))"
   ]
  },
  {
   "cell_type": "code",
   "execution_count": 54,
   "metadata": {},
   "outputs": [],
   "source": [
    "# compute RMSF\n",
    "# RMSF=compute_rmsf(traj,selected_res)\n"
   ]
  },
  {
   "cell_type": "code",
   "execution_count": 56,
   "metadata": {},
   "outputs": [
    {
     "name": "stdout",
     "output_type": "stream",
     "text": [
      "Done\n"
     ]
    },
    {
     "data": {
      "text/plain": [
       "''"
      ]
     },
     "execution_count": 56,
     "metadata": {},
     "output_type": "execute_result"
    }
   ],
   "source": [
    "# write_to_file(RMSF, \"analysis/RMSF/D155E_ligand/WT_1.dat\")   \n",
    "write_to_file(RMSF, \"analysis/RMSF/C227Y_ECL2/WT_1_.dat\")\n",
    "traj=''\n",
    "RMSF=''\n",
    "selected_res=''\n",
    "traj"
   ]
  },
  {
   "cell_type": "code",
   "execution_count": 8,
   "metadata": {},
   "outputs": [
    {
     "data": {
      "text/plain": [
       "''"
      ]
     },
     "execution_count": 8,
     "metadata": {},
     "output_type": "execute_result"
    }
   ],
   "source": [
    "# Other WTs\n",
    "# WTs=['2','3']\n",
    "# for element in WTs:\n",
    "#     file='WT/production/WT_'+element+'.dcd'\n",
    "#     outfile=\"analysis/RMSF/D155E_ligand/WT_\"+element+\".dat\"\n",
    "#     traj=load_traj_dcd(os.path.join(resultspath,file), os.path.join(resultspath,\"WT/production/structureWT.psf\"))\n",
    "    #ligand\n",
    "#     selected_res=load_topo_pdb_select(os.path.join(resultspath,\"WT/production/structureWT.pdb\"),\"index > 20557 and index < 20599\")\n",
    "    # ECL2  \n",
    "#     outfile=\"analysis/RMSF/C227Y_ECL2/WT_\"+element+\".dat\"\n",
    "#     selected_res=load_topo_pdb_select(os.path.join(resultspath,\"WT/production/structureWT.pdb\"),\"index > 22810 and index < 23072\")\n",
    "\n",
    "#     RMSF=compute_rmsf(traj,selected_res)\n",
    "#     write_to_file(RMSF, outfile) \n",
    "traj=''\n",
    "RMSF=''\n",
    "selected_res=''\n",
    "traj"
   ]
  },
  {
   "cell_type": "code",
   "execution_count": 12,
   "metadata": {},
   "outputs": [
    {
     "name": "stdout",
     "output_type": "stream",
     "text": [
      "<mdtraj.Trajectory with 5000 frames, 54374 atoms, 10252 residues, and unitcells>\n",
      "Selected atoms: [20557 20558 20559 20560 20561 20562 20563 20564 20565 20566 20567 20568\n",
      " 20569 20570 20571 20572 20573 20574 20575 20576 20577 20578 20579 20580\n",
      " 20581 20582 20583 20584 20585 20586 20587 20588 20589 20590 20591 20592\n",
      " 20593 20594 20595 20596 20597]\n",
      "[1.0453501  0.82404655 0.81747246 0.8145652  0.813519   0.8222062\n",
      " 0.82504165 0.82850206 0.82854646 0.81840867 0.8196304  0.824197\n",
      " 0.8376923  0.83763313 0.84025526 0.8480333  0.82604986 0.83386856\n",
      " 0.8255893  0.819225   0.8148628  0.8138088  0.81212056 0.82052803\n",
      " 0.8256697  0.83161557 0.8316364  0.82045865 0.84449124 0.8563249\n",
      " 0.845194   0.8526139  0.84237254 0.8565453  0.8517156  0.8562612\n",
      " 0.86894417 0.8557038  0.829161   0.84128606 0.35769987]\n",
      "Done\n"
     ]
    }
   ],
   "source": [
    "# D155Es\n",
    "variants=['2']\n",
    "for element in variants:\n",
    "    file='D155E/production/D155E_'+element+'.dcd'\n",
    "    outfile=\"analysis/RMSF/D155E_ligand/D155E_\"+element+\".dat\"\n",
    "\n",
    "#     traj=load_traj_dcd(os.path.join(resultspath,file), os.path.join(resultspath,\"D155E/production/structureD155E.psf\"))\n",
    "    \n",
    "#     selected_res=load_topo_pdb_select(os.path.join(resultspath,\"D155E/production/structureD155E.pdb\"),\"index > 20556 and index < 20598\")\n",
    "#     RMSF=compute_rmsf(traj,selected_res)\n",
    "#     write_to_file(RMSF, outfile) \n",
    "#     traj=''\n",
    "#     RMSF=''\n",
    "#     selected_res=''"
   ]
  },
  {
   "cell_type": "code",
   "execution_count": 60,
   "metadata": {},
   "outputs": [],
   "source": [
    "# C227Ys\n",
    "variants=['1']\n",
    "for element in variants:\n",
    "    file='C227Y/production/C227Y_'+element+'.dcd'\n",
    "    outfile=\"analysis/RMSF/C227Y_ECL2/C227Y_\"+element+\".dat\"\n",
    "\n",
    "#     traj=load_traj_dcd(os.path.join(resultspath,file), os.path.join(resultspath,\"C227Y/production/structureC227Y.psf\"))\n",
    "# ECL2, from 227 +- 6 residues (13 residues): 221 to 233, we add one at the beginning 220 to be erased\n",
    "#     selected_res=load_topo_pdb_select(os.path.join(resultspath,\"C227Y/production/structureC227Y.pdb\"),\"index > 22864 and index < 23084 and name CA\")\n",
    "#     RMSF=compute_rmsf(traj,selected_res)\n",
    "#     write_to_file(RMSF, outfile) \n",
    "    traj=''\n",
    "    RMSF=''\n",
    "    selected_res=''"
   ]
  },
  {
   "cell_type": "code",
   "execution_count": 76,
   "metadata": {},
   "outputs": [],
   "source": [
    "def edit_files_RMSF(old, new):\n",
    "    remsf=[]\n",
    "    with open(old) as fp:\n",
    "        cnt = 0\n",
    "        for line in fp:\n",
    "#             print(\"line {} contents {}\".format(cnt, line))\n",
    "            words=line.strip().split('\\t')\n",
    "            data=words[1]\n",
    "            remsf.append(data)\n",
    "#             record_word_cnt(line.strip().split(' '), bag_of_words)\n",
    "            cnt += 1\n",
    "    \n",
    "    pdbTrajOut = open(new,'w')\n",
    "    res=221\n",
    "    for element in remsf:\n",
    "        newline=str(res)+'\\t'+str(element)+'\\n'\n",
    "        pdbTrajOut.write(newline)\n",
    "        res+=1\n",
    "    \n",
    "    \n",
    "edit_files_RMSF(os.path.join(resultspath,'analysis/RMSF/C227Y_ECL2/WT_2.dat'), os.path.join(resultspath,'analysis/RMSF/C227Y_ECL2/WT_2_edit.dat'))"
   ]
  },
  {
   "cell_type": "markdown",
   "metadata": {},
   "source": [
    "## C227Y - WT top free area "
   ]
  },
  {
   "cell_type": "code",
   "execution_count": 39,
   "metadata": {},
   "outputs": [],
   "source": [
    "def store_distances(file):\n",
    "    '''store distances in files from VMD'''\n",
    "    dist=[]\n",
    "    with open(file) as fp:\n",
    "        cnt = 0\n",
    "        for line in fp:\n",
    "            words=line.strip().split('\\t')\n",
    "            data=words[1]\n",
    "            dist.append(data)\n",
    "            cnt += 1\n",
    "    print(len(dist))\n",
    "    return dist\n",
    "\n",
    "def compute_heron(a,b,c):\n",
    "    '''compute area of triangle escaleno with heron formula'''\n",
    "#     print(type(a))\n",
    "    s= (float(a)+float(b)+float(c))/2# semiperimeter\n",
    "    result= (s*(s-float(a))*(s-float(b))*(s-float(c))) ** 0.5  \n",
    "    return result\n",
    "\n",
    "def build_area_file(file1,file2,file3, out):\n",
    "    '''build csv frame-area'''    \n",
    "    distan1=store_distances(file1) # list of distances\n",
    "    distan2=store_distances(file2)\n",
    "    distan3=store_distances(file3)\n",
    "    \n",
    "    frame=0   \n",
    "    with open(out,\"w\") as myoutfile:\n",
    "        while frame <5000:\n",
    "            area=compute_heron(distan1[frame], distan2[frame], distan3[frame])\n",
    "            mynewrow=str(frame)+'\\t'+str(area)+'\\n'\n",
    "            myoutfile.write(mynewrow)\n",
    "            frame+=1\n",
    "                \n",
    "    return print('DONE')"
   ]
  },
  {
   "cell_type": "code",
   "execution_count": 43,
   "metadata": {},
   "outputs": [
    {
     "name": "stdout",
     "output_type": "stream",
     "text": [
      "5000\n",
      "5000\n",
      "5000\n",
      "DONE\n"
     ]
    }
   ],
   "source": [
    "file226_138= os.path.join(resultspath,'analysis/C227Y_area/226-138_WT3')\n",
    "file226_356= os.path.join(resultspath,'analysis/C227Y_area/226-356_WT3')\n",
    "file356_138= os.path.join(resultspath,'analysis/C227Y_area/356-138_WT3')\n",
    "outFile=os.path.join(resultspath,'analysis/C227Y_area/area_WT3')\n",
    "build_area_file(file226_138, file226_356, file356_138,outFile)"
   ]
  },
  {
   "cell_type": "code",
   "execution_count": 47,
   "metadata": {},
   "outputs": [
    {
     "name": "stdout",
     "output_type": "stream",
     "text": [
      "5000\n",
      "5000\n",
      "5000\n",
      "DONE\n"
     ]
    }
   ],
   "source": [
    "file226_138= os.path.join(resultspath,'analysis/C227Y_area/226-138_C227Y_3')\n",
    "file226_356= os.path.join(resultspath,'analysis/C227Y_area/226-356_C227Y_3')\n",
    "file356_138= os.path.join(resultspath,'analysis/C227Y_area/138-356_C227Y_3')\n",
    "outFile=os.path.join(resultspath,'analysis/C227Y_area/area_C227Y3')\n",
    "build_area_file(file226_138, file226_356, file356_138,outFile)"
   ]
  },
  {
   "cell_type": "code",
   "execution_count": null,
   "metadata": {},
   "outputs": [],
   "source": []
  }
 ],
 "metadata": {
  "kernelspec": {
   "display_name": "Python 3",
   "language": "python",
   "name": "python3"
  },
  "language_info": {
   "codemirror_mode": {
    "name": "ipython",
    "version": 3
   },
   "file_extension": ".py",
   "mimetype": "text/x-python",
   "name": "python",
   "nbconvert_exporter": "python",
   "pygments_lexer": "ipython3",
   "version": "3.6.10"
  }
 },
 "nbformat": 4,
 "nbformat_minor": 4
}
