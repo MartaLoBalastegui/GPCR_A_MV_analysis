{
 "cells": [
  {
   "cell_type": "code",
   "execution_count": 1,
   "metadata": {},
   "outputs": [],
   "source": [
    "import json\n",
    "import pandas as pd"
   ]
  },
  {
   "cell_type": "code",
   "execution_count": 2,
   "metadata": {},
   "outputs": [
    {
     "name": "stderr",
     "output_type": "stream",
     "text": [
      "/home/martalo/miniconda3/envs/my_new_env_name/lib/python3.6/site-packages/htmd/versionwarnings.py:29: UserWarning: As of HTMD 1.16 the default ACEMD version for all protocols has changed to version 3. If you want to use version 2 protocols change the _version argument in the protocols or add `config(acemdversion=2)` to the beginning of your scripts. To disable this warning run once: `from htmd import _disableWarnings; _disableWarnings('1.16');`\n",
      "  , UserWarning)\n",
      "/home/martalo/miniconda3/envs/my_new_env_name/lib/python3.6/site-packages/htmd/versionwarnings.py:33: UserWarning: As of HTMD 1.16 the default number of threads HTMD spawns for calculations is set to 1. You can enable parallelism at your own risk using `config(njobs=-2)` in the beginning of your scripts. To disable this warning run once: `from htmd import _disableWarnings; _disableWarnings('1.16');`\n",
      "  , UserWarning)\n"
     ]
    },
    {
     "name": "stdout",
     "output_type": "stream",
     "text": [
      "ffevaluate module is in beta version\n",
      "\n",
      "Please cite HTMD: Doerr et al.(2016)JCTC,12,1845. https://dx.doi.org/10.1021/acs.jctc.6b00049\n",
      "\n",
      "HTMD Documentation at: https://www.htmd.org/docs/latest/\n",
      "\n",
      "New devel HTMD version (1.23.2 python[3.7,<3.8.0a0,3.6,<3.7.0a0]) is available. You are currently on (1.19).There are several methods to update:    - Create a new conda env. using `conda create -n htmd1.23.2 htmd=1.23.2 -c acellera -c psi4 -c conda-forge`    - Create a brand new conda installation and run `conda install htmd -c acellera -c psi4 -c conda-forge`    - Run: `conda update htmd -c acellera -c psi4 -c conda-forge` (NOT RECOMMENDED)\n",
      "\n"
     ]
    }
   ],
   "source": [
    "from htmd.ui import * \n",
    "config(viewer='webgl')"
   ]
  },
  {
   "cell_type": "code",
   "execution_count": 3,
   "metadata": {},
   "outputs": [],
   "source": [
    "from create_csv import *"
   ]
  },
  {
   "cell_type": "code",
   "execution_count": 4,
   "metadata": {},
   "outputs": [],
   "source": [
    "def create_reps_all(gpcr,var_info):\n",
    "    \n",
    "    name=var_info[gpcr][\"name\"]\n",
    "    print(\"%s (%s)\" % (name,gpcr))\n",
    "    pdb=var_info[gpcr][\"pdb\"]\n",
    "    is_model=var_info[gpcr][\"is_model\"]\n",
    "    gpcr_vars=[]\n",
    "    if len(list(var_info[gpcr].keys())) >1:\n",
    "        gpcr_vars=var_to_display(gpcr)   \n",
    "    affected_vars=[]\n",
    "    unaffected_vars=[]\n",
    "    unknown_vars=[]\n",
    "    rep_chains=set()\n",
    "    for var in gpcr_vars:\n",
    "        affected_pred=var[\"affected_pred\"]\n",
    "        if affected_pred:\n",
    "            if affected_pred==\"?\":\n",
    "                unknown_vars.append(\"(resid \"+var[\"pdb_pos\"][\"pos\"]+\" and chain \"+var[\"pdb_pos\"][\"chain\"]+\")\")\n",
    "            else:\n",
    "                affected_vars.append(\"(resid \"+var[\"pdb_pos\"][\"pos\"]+\" and chain \"+var[\"pdb_pos\"][\"chain\"]+\")\")\n",
    "                #print(\"%s\\t%s\" % (var[\"gpcr_num\"],\", \".join(var[\"affected_items_pred\"])))\n",
    "        else:\n",
    "            unaffected_vars.append(\"(resid \"+var[\"pdb_pos\"][\"pos\"]+\" and chain \"+var[\"pdb_pos\"][\"chain\"]+\")\")\n",
    "        rep_chains.add(\"chain %s\" % var[\"pdb_pos\"][\"chain\"])\n",
    "\n",
    "    unknown_vars_s=\" or \".join(unknown_vars)\n",
    "    affected_vars_s=\" or \".join(affected_vars)\n",
    "    unaffected_vars_s=\" or \".join(unaffected_vars)\n",
    "\n",
    "    gpcr_sel=\"protein and (%s)\" % \" or \".join(rep_chains)\n",
    "\n",
    "    #Create htmd molecule of pdb\n",
    "    #mol = Molecule(\"/home/mariona/Documents/PhD/Discoverx/mapping/pdb_files/\"+pdb+\".pdb\")\n",
    "    mol = Molecule(\"/home/martalo/Documentos/TFM/GPCR_variants/Data/pdb_files/\"+pdb+\".pdb\")\n",
    "    #mol.reps.remove()\n",
    "    mol.reps.add(sel=gpcr_sel,color=\"#f4f8ff\",style='NewCartoon')\n",
    "    if unknown_vars_s:\n",
    "        mol.reps.add(sel=unknown_vars_s ,color=\"#ffdd00\",style='licorice')#yellow\n",
    "    if affected_vars_s:\n",
    "        mol.reps.add(sel=affected_vars_s ,color=\"#f9020a\",style='licorice')#red\n",
    "    if unaffected_vars_s:\n",
    "        mol.reps.add(sel=unaffected_vars_s ,color=\"#00c631\",style='licorice')#green\n",
    "    mol.center()\n",
    "    #mol.view()\n",
    "    return mol\n",
    "#{'interact', 'ptm', 'arrestinInt', 'sodiumP', 'microSwitch', 'DisGeNet_disease', 'activation', 'gprotInt', 'sift_poloP'}"
   ]
  },
  {
   "cell_type": "code",
   "execution_count": 5,
   "metadata": {},
   "outputs": [],
   "source": [
    "def create_reps_affected(gpcr,var_info,show_aff_items=False,restrict_vars=False):\n",
    "    plot_only_del=True\n",
    "    affected_items_d={'interact': {\"color\":\"#3875B1\",\"varsel\":[]}, #dark blue\n",
    "                      'ptm': {\"color\":\"#F67D26\",\"varsel\":[]}, #orange\n",
    "                      'arrestinInt+gprotInt': {\"color\":\"#3EA233\",\"varsel\":[]}, #green \n",
    "                      'sodiumP': {\"color\":\"#CD1E31\",\"varsel\":[]}, #red\n",
    "                      'microSwitch': {\"color\":\"#9161BB\",\"varsel\":[]}, #purple\n",
    "                      'DisGeNet_disease': {\"color\":\"#87554D\",\"varsel\":[]}, #brown\n",
    "                      'activation':{\"color\":\"#DD70C1\",\"varsel\":[]}, #pink\n",
    "                      'sift_poloP':{\"color\":\"#B8BF30\",\"varsel\":[]} #yellow-ish green\n",
    "                     } #https://www.tableau.com/about/blog/2016/7/colors-upgrade-tableau-10-56782\n",
    "    \n",
    "    name=var_info[gpcr][\"name\"]\n",
    "    pdb=var_info[gpcr][\"pdb\"]\n",
    "    print(pdb)\n",
    "    is_model=var_info[gpcr][\"is_model\"]\n",
    "    gpcr_vars=[]\n",
    "    if len(list(var_info[gpcr].keys())) >1:\n",
    "        gpcr_vars=var_to_display(gpcr)   \n",
    "    affected_vars=[]\n",
    "    unaffected_vars=[]\n",
    "    unknown_vars=[]\n",
    "    rep_chains=set()\n",
    "    for var in gpcr_vars:\n",
    "        if  restrict_vars and var[\"gpcr_num\"] not in restrict_vars:\n",
    "            continue\n",
    "        affected_pred=var[\"affected_pred\"]\n",
    "        if affected_pred:\n",
    "            if affected_pred==\"?\":\n",
    "                unknown_vars.append(\"(name CA and resid \"+var[\"pdb_pos\"][\"pos\"]+\" and chain \"+var[\"pdb_pos\"][\"chain\"]+\")\")\n",
    "            else:\n",
    "                affected_vars.append(\"(name CA and resid \"+var[\"pdb_pos\"][\"pos\"]+\" and chain \"+var[\"pdb_pos\"][\"chain\"]+\")\")\n",
    "                if show_aff_items:\n",
    "                    print(\"%s\\t%s\" % (var[\"gpcr_num\"],\", \".join(var[\"affected_items_pred\"])))\n",
    "                affected_items=var[\"affected_items_pred\"] \n",
    "                if \"sodiumP\" in affected_items:\n",
    "                    affected_items_d[\"sodiumP\"][\"varsel\"].append(\"(name CA and resid \"+var[\"pdb_pos\"][\"pos\"]+\" and chain \"+var[\"pdb_pos\"][\"chain\"]+\")\")\n",
    "                    continue\n",
    "                if \"microSwitch\" in affected_items:\n",
    "                    affected_items_d[\"microSwitch\"][\"varsel\"].append(\"(name CA and resid \"+var[\"pdb_pos\"][\"pos\"]+\" and chain \"+var[\"pdb_pos\"][\"chain\"]+\")\")\n",
    "                    continue\n",
    "                if \"activation\" in affected_items:\n",
    "                    affected_items_d[\"activation\"][\"varsel\"].append(\"(name CA and resid \"+var[\"pdb_pos\"][\"pos\"]+\" and chain \"+var[\"pdb_pos\"][\"chain\"]+\")\")\n",
    "                    continue\n",
    "                if \"ptm\" in affected_items:\n",
    "                    affected_items_d[\"ptm\"][\"varsel\"].append(\"(name CA and resid \"+var[\"pdb_pos\"][\"pos\"]+\" and chain \"+var[\"pdb_pos\"][\"chain\"]+\")\")\n",
    "                    continue\n",
    "                if \"arrestinInt\" in affected_items or \"gprotInt\" in affected_items:\n",
    "                    affected_items_d[\"arrestinInt+gprotInt\"][\"varsel\"].append(\"(name CA and resid \"+var[\"pdb_pos\"][\"pos\"]+\" and chain \"+var[\"pdb_pos\"][\"chain\"]+\")\")\n",
    "                    continue\n",
    "                if \"interact\" in affected_items:\n",
    "                    affected_items_d[\"interact\"][\"varsel\"].append(\"(name CA and resid \"+var[\"pdb_pos\"][\"pos\"]+\" and chain \"+var[\"pdb_pos\"][\"chain\"]+\")\")\n",
    "                    continue\n",
    "                if \"DisGeNet_disease\" in affected_items:\n",
    "                    affected_items_d[\"DisGeNet_disease\"][\"varsel\"].append(\"(name CA and resid \"+var[\"pdb_pos\"][\"pos\"]+\" and chain \"+var[\"pdb_pos\"][\"chain\"]+\")\")\n",
    "                    continue\n",
    "                if \"sift_poloP\" in affected_items:\n",
    "                    affected_items_d[\"sift_poloP\"][\"varsel\"].append(\"(name CA and resid \"+var[\"pdb_pos\"][\"pos\"]+\" and chain \"+var[\"pdb_pos\"][\"chain\"]+\")\")\n",
    "                    continue\n",
    "                    \n",
    "        else:\n",
    "            unaffected_vars.append(\"(name CA and resid \"+var[\"pdb_pos\"][\"pos\"]+\" and chain \"+var[\"pdb_pos\"][\"chain\"]+\")\")\n",
    "        rep_chains.add(\"chain %s\" % var[\"pdb_pos\"][\"chain\"])\n",
    "\n",
    "    unknown_vars_s=\" or \".join(unknown_vars)\n",
    "    affected_vars_s=\" or \".join(affected_vars)\n",
    "    unaffected_vars_s=\" or \".join(unaffected_vars)\n",
    "    gpcr_sel=\"protein and (%s)\" % \" or \".join(rep_chains)\n",
    "\n",
    "    #Create htmd molecule of pdb\n",
    "    mol = Molecule(\"/home/martalo/Documentos/TFM/GPCR_variants/Data/pdb_files/\"+pdb+\".pdb\")\n",
    "    #mol.reps.remove()\n",
    "    mol.reps.add(sel=gpcr_sel,color=\"#f4f8ff\",style='NewCartoon')\n",
    "    if unaffected_vars_s:\n",
    "        mol.reps.add(sel=unaffected_vars_s ,color=\"#f4f8ff\",style='VDW')#green\n",
    "    for aff_item in affected_items_d.keys():\n",
    "        if affected_items_d[aff_item][\"varsel\"]:\n",
    "            mysel=\" or \".join(affected_items_d[aff_item][\"varsel\"])\n",
    "            mol.reps.add(sel=mysel ,color=affected_items_d[aff_item][\"color\"],style='VDW')\n",
    "    if unknown_vars_s:\n",
    "        mol.reps.add(sel=unknown_vars_s ,color=\"#adadad\",style='VDW')#grey\n",
    "    mol.center()\n",
    "    #mol.view()\n",
    "    return mol\n",
    "#{'interact', 'ptm', 'arrestinInt', 'sodiumP', 'microSwitch', 'DisGeNet_disease', 'activation', 'gprotInt', 'sift_poloP'}"
   ]
  },
  {
   "cell_type": "code",
   "execution_count": null,
   "metadata": {},
   "outputs": [],
   "source": []
  },
  {
   "cell_type": "code",
   "execution_count": 11,
   "metadata": {
    "scrolled": true
   },
   "outputs": [
    {
     "name": "stdout",
     "output_type": "stream",
     "text": [
      "46\n",
      "{'gpcrdb': '', 'seqN': '19', 'var_aa': 'K', 'wt_aa': 'N', 'sift_poloP': False, 'DisGeNet_disease': False, 'gprotInt': False, 'arrestinInt': False, 'activation': False, 'microSwitch': False, 'sodiumP': False, 'ptm': False, 'interact': False}\n",
      "HRH1 HRH1\n",
      "{'affected_pred': False, 'affected_items_pred': [], 'pdb_pos': {'aa': 'V', 'pos': '31', 'chain': 'A'}, 'gpcr_num': '1x36', 'aa_type_changed': False}\n"
     ]
    }
   ],
   "source": [
    "\n",
    "#test\n",
    "gpcr=\"HRH1\"\n",
    "(var_info,all_gpcrs)=var_pos_in_pdb()\n",
    "print(len(all_gpcrs))# total GPCRs with info of their variants\n",
    "# all_gpcrs list of the names of the GPCRs\n",
    "\n",
    "# var_info: list of dictionaries for each GPCR\n",
    "# as 3rd element the dictionary jey is 'vars', this key has a value that is a list\n",
    "# containing the info of all the variants of each GPCR\n",
    "#print(var_info[gpcr])\n",
    "\n",
    "print(var_info[gpcr][\"vars\"][3])# example, first variant of HRH1, 'raw' values\n",
    "\n",
    "#----\n",
    "gpcr_vars=var_to_display(gpcr) # curated values of the variants-> if it will have effect and where\n",
    "print(gpcr_vars[0])\n",
    "\n",
    "for var in gpcr_vars:\n",
    "    affected_pred=var[\"affected_pred\"]\n",
    "    if affected_pred:\n",
    "        if affected_pred==\"?\":\n",
    "            unknown_vars.append(\"(name CA and resid \"+var[\"pdb_pos\"][\"pos\"]+\" and chain \"+var[\"pdb_pos\"][\"chain\"]+\")\")\n",
    "        \n"
   ]
  },
  {
   "cell_type": "markdown",
   "metadata": {},
   "source": [
    "A. 'var_info'\n",
    "- gprotInt: T/F/? 'GProteinInteraction'-> Infered G protein interaction (col W), True if 'putative'.\n",
    "\n",
    "- arrestinInt: T/F/? 'ArrestinInteraction'-> Infered arrestin interaction (col X), True if 'putative'.\n",
    "\n",
    "- sodiumP: T/F/? 'SodiumPocket'-> SODIUM allosteric sites PMIDid: 24767681 (col AA) True if 'yes'.\n",
    "\n",
    "- interact: T/F/? 'LB_structure'-> ligand binding interaction observed in a crystal structure (col AH), True if 'interacting'.\n",
    "\n",
    "- microSwitch: T/F/? 'MicroSwitch'-> Microswitch positions including the PIF motif PMIDid: 22300046 (col Z) True if 'yes'.\n",
    "\n",
    "- DisGeNet_disease: T/F/? 'DisGeNet disease Name' -> DisGeNet disease Name (col AE) \n",
    "\n",
    "- activation: T/F/? 'ActivationPathway'-> Class A activation pathway positions: '3x46','6x37','7x53', PMIDid: 27525504 (col Y), True if 'active'.\n",
    "\n",
    "- sift_poloP: T/F if 'sift_word'-> sorting intolerant from tolerant, category (col S) or 'polyphen_word'-> polymorphism phenotypingt, category (col U) are 'deleterious'/'damaging' -> True or 'tolerated'/'benign' -> False\n",
    "\n",
    "- ptm: T/F/?, 'PTMsite'-> PTM site (yes/no) (col AG), True if 'yes'.\n",
    "\n",
    "B. 'gpcr_vars':\n",
    "- affected_pred: if some of the above is True\n",
    "- affected_items_pred: which of the above are True\n",
    "- pdb_pos: of the variant\n",
    "- gpcr_num: of the variant\n",
    "- aa_type_changed: to know if homologous/non-homologous\n"
   ]
  },
  {
   "cell_type": "code",
   "execution_count": 7,
   "metadata": {},
   "outputs": [],
   "source": [
    "# The following file 'var_info.json' comes from the code in 'Variants_general/create_csv.py':\n",
    "##(var_info,all_gpcrs)=var_pos_in_pdb()\n",
    "##out_name=\"var_info.json\"\n",
    "##with open(\"//home/martalo/Documentos/TFM/GPCR_variants/Results/gpcr_to_pdb/\"+out_name, 'w') as outfile:\n",
    "##    json.dump(var_info, outfile)\n",
    "# So it stores the variants info for the GPCRs\n",
    "\n",
    "json_file=open(\"/home/martalo/Documentos/TFM/GPCR_variants/Results/gpcr_to_pdb/var_info.json\")\n",
    "json_str = json_file.read()\n",
    "var_info=pd.io.json.loads(json_str)\n",
    "#for gpcr in var_info.keys():\n",
    "#    if len(list(var_info[gpcr].keys())) >1:\n",
    "#        var_to_display(gpcr)    \n",
    "all_gpcrs=list(var_info.keys())\n"
   ]
  },
  {
   "cell_type": "code",
   "execution_count": 8,
   "metadata": {},
   "outputs": [
    {
     "name": "stdout",
     "output_type": "stream",
     "text": [
      "3RZE\n",
      "HRH1 HRH1\n"
     ]
    },
    {
     "name": "stderr",
     "output_type": "stream",
     "text": [
      "2020-10-02 10:11:39,521 - moleculekit.molecule - WARNING - Alternative atom locations detected. Only altloc A was kept. If you prefer to keep all use the keepaltloc=\"all\" option when reading the file.\n",
      "2020-10-02 10:11:39,525 - moleculekit.molecule - INFO - Removed 21 atoms. 3534 atoms remaining in the molecule.\n"
     ]
    },
    {
     "data": {
      "application/vnd.jupyter.widget-view+json": {
       "model_id": "3dac294fd19e4fe58ac5c3b3e1c1b513",
       "version_major": 2,
       "version_minor": 0
      },
      "text/plain": [
       "_ColormakerRegistry()"
      ]
     },
     "metadata": {},
     "output_type": "display_data"
    },
    {
     "data": {
      "application/vnd.jupyter.widget-view+json": {
       "model_id": "17e52e367f2343338117cd3fcefe9b79",
       "version_major": 2,
       "version_minor": 0
      },
      "text/plain": [
       "NGLWidget()"
      ]
     },
     "metadata": {},
     "output_type": "display_data"
    }
   ],
   "source": [
    "create_reps_affected(\"HRH1\",var_info).view()"
   ]
  },
  {
   "cell_type": "markdown",
   "metadata": {},
   "source": [
    "Display an example of a GPCR with the computed variants (in the file myprot_list_strucNvar.csv) in different colors depending on the 'True' values of 'var_info'. "
   ]
  },
  {
   "cell_type": "code",
   "execution_count": 9,
   "metadata": {
    "scrolled": false
   },
   "outputs": [
    {
     "name": "stdout",
     "output_type": "stream",
     "text": [
      "6CM4\n",
      "DRD2 DRD2\n"
     ]
    },
    {
     "data": {
      "application/vnd.jupyter.widget-view+json": {
       "model_id": "dca1f37dd8ba4e00a4aa7932bfa8ac6c",
       "version_major": 2,
       "version_minor": 0
      },
      "text/plain": [
       "NGLWidget()"
      ]
     },
     "metadata": {},
     "output_type": "display_data"
    }
   ],
   "source": [
    "create_reps_affected(\"DRD2\",var_info).view()"
   ]
  },
  {
   "cell_type": "code",
   "execution_count": null,
   "metadata": {},
   "outputs": [],
   "source": [
    "#create_reps_affected(\"driv\",var_info).view()\n"
   ]
  },
  {
   "cell_type": "code",
   "execution_count": 16,
   "metadata": {},
   "outputs": [
    {
     "name": "stdout",
     "output_type": "stream",
     "text": [
      "5CXV\n",
      "CHRM1 CHRM1\n"
     ]
    },
    {
     "data": {
      "application/vnd.jupyter.widget-view+json": {
       "model_id": "bd26c41364de4df7b420e31ed9dcf7b8",
       "version_major": 2,
       "version_minor": 0
      },
      "text/plain": [
       "NGLWidget()"
      ]
     },
     "metadata": {},
     "output_type": "display_data"
    }
   ],
   "source": [
    "create_reps_affected(\"CHRM1\",var_info).view()\n"
   ]
  },
  {
   "cell_type": "code",
   "execution_count": 17,
   "metadata": {},
   "outputs": [
    {
     "name": "stdout",
     "output_type": "stream",
     "text": [
      "4IAQ\n",
      "HTR1B HTR1B\n"
     ]
    },
    {
     "data": {
      "application/vnd.jupyter.widget-view+json": {
       "model_id": "55d7453b43bb4877bceb51654b823ed9",
       "version_major": 2,
       "version_minor": 0
      },
      "text/plain": [
       "NGLWidget()"
      ]
     },
     "metadata": {},
     "output_type": "display_data"
    }
   ],
   "source": [
    "create_reps_affected(\"HTR1B\",var_info).view()\n"
   ]
  },
  {
   "cell_type": "code",
   "execution_count": 19,
   "metadata": {},
   "outputs": [
    {
     "name": "stdout",
     "output_type": "stream",
     "text": [
      "5UZ7\n",
      "CALCR CALCR\n"
     ]
    },
    {
     "ename": "FileNotFoundError",
     "evalue": "File /home/martalo/Documentos/TFM/GPCR_variants/Data/pdb_files/5UZ7.pdb was not found.",
     "output_type": "error",
     "traceback": [
      "\u001b[0;31m---------------------------------------------------------------------------\u001b[0m",
      "\u001b[0;31mFileNotFoundError\u001b[0m                         Traceback (most recent call last)",
      "\u001b[0;32m<ipython-input-19-672fefc78bc1>\u001b[0m in \u001b[0;36m<module>\u001b[0;34m\u001b[0m\n\u001b[1;32m      1\u001b[0m \u001b[0mgpcr\u001b[0m\u001b[0;34m=\u001b[0m\u001b[0mall_gpcrs\u001b[0m\u001b[0;34m.\u001b[0m\u001b[0mpop\u001b[0m\u001b[0;34m(\u001b[0m\u001b[0;34m)\u001b[0m\u001b[0;34m\u001b[0m\u001b[0;34m\u001b[0m\u001b[0m\n\u001b[0;32m----> 2\u001b[0;31m \u001b[0mcreate_reps_affected\u001b[0m\u001b[0;34m(\u001b[0m\u001b[0;34m\"CALCR\"\u001b[0m\u001b[0;34m,\u001b[0m\u001b[0mvar_info\u001b[0m\u001b[0;34m)\u001b[0m\u001b[0;34m.\u001b[0m\u001b[0mview\u001b[0m\u001b[0;34m(\u001b[0m\u001b[0;34m)\u001b[0m\u001b[0;34m\u001b[0m\u001b[0;34m\u001b[0m\u001b[0m\n\u001b[0m",
      "\u001b[0;32m<ipython-input-11-0b4e5728f3b6>\u001b[0m in \u001b[0;36mcreate_reps_affected\u001b[0;34m(gpcr, var_info, show_aff_items, restrict_vars)\u001b[0m\n\u001b[1;32m     69\u001b[0m \u001b[0;34m\u001b[0m\u001b[0m\n\u001b[1;32m     70\u001b[0m     \u001b[0;31m#Create htmd molecule of pdb\u001b[0m\u001b[0;34m\u001b[0m\u001b[0;34m\u001b[0m\u001b[0;34m\u001b[0m\u001b[0m\n\u001b[0;32m---> 71\u001b[0;31m     \u001b[0mmol\u001b[0m \u001b[0;34m=\u001b[0m \u001b[0mMolecule\u001b[0m\u001b[0;34m(\u001b[0m\u001b[0;34m\"/home/martalo/Documentos/TFM/GPCR_variants/Data/pdb_files/\"\u001b[0m\u001b[0;34m+\u001b[0m\u001b[0mpdb\u001b[0m\u001b[0;34m+\u001b[0m\u001b[0;34m\".pdb\"\u001b[0m\u001b[0;34m)\u001b[0m\u001b[0;34m\u001b[0m\u001b[0;34m\u001b[0m\u001b[0m\n\u001b[0m\u001b[1;32m     72\u001b[0m     \u001b[0;31m#mol.reps.remove()\u001b[0m\u001b[0;34m\u001b[0m\u001b[0;34m\u001b[0m\u001b[0;34m\u001b[0m\u001b[0m\n\u001b[1;32m     73\u001b[0m     \u001b[0mmol\u001b[0m\u001b[0;34m.\u001b[0m\u001b[0mreps\u001b[0m\u001b[0;34m.\u001b[0m\u001b[0madd\u001b[0m\u001b[0;34m(\u001b[0m\u001b[0msel\u001b[0m\u001b[0;34m=\u001b[0m\u001b[0mgpcr_sel\u001b[0m\u001b[0;34m,\u001b[0m\u001b[0mcolor\u001b[0m\u001b[0;34m=\u001b[0m\u001b[0;34m\"#f4f8ff\"\u001b[0m\u001b[0;34m,\u001b[0m\u001b[0mstyle\u001b[0m\u001b[0;34m=\u001b[0m\u001b[0;34m'NewCartoon'\u001b[0m\u001b[0;34m)\u001b[0m\u001b[0;34m\u001b[0m\u001b[0;34m\u001b[0m\u001b[0m\n",
      "\u001b[0;32m~/miniconda3/envs/my_new_env_name/lib/python3.6/site-packages/moleculekit/molecule.py\u001b[0m in \u001b[0;36m__init__\u001b[0;34m(self, filename, name, **kwargs)\u001b[0m\n\u001b[1;32m    268\u001b[0m \u001b[0;34m\u001b[0m\u001b[0m\n\u001b[1;32m    269\u001b[0m         \u001b[0;32mif\u001b[0m \u001b[0mfilename\u001b[0m \u001b[0;32mis\u001b[0m \u001b[0;32mnot\u001b[0m \u001b[0;32mNone\u001b[0m\u001b[0;34m:\u001b[0m\u001b[0;34m\u001b[0m\u001b[0;34m\u001b[0m\u001b[0m\n\u001b[0;32m--> 270\u001b[0;31m             \u001b[0mself\u001b[0m\u001b[0;34m.\u001b[0m\u001b[0mread\u001b[0m\u001b[0;34m(\u001b[0m\u001b[0mfilename\u001b[0m\u001b[0;34m,\u001b[0m \u001b[0;34m**\u001b[0m\u001b[0mkwargs\u001b[0m\u001b[0;34m)\u001b[0m\u001b[0;34m\u001b[0m\u001b[0;34m\u001b[0m\u001b[0m\n\u001b[0m\u001b[1;32m    271\u001b[0m \u001b[0;34m\u001b[0m\u001b[0m\n\u001b[1;32m    272\u001b[0m     \u001b[0;34m@\u001b[0m\u001b[0mstaticmethod\u001b[0m\u001b[0;34m\u001b[0m\u001b[0;34m\u001b[0m\u001b[0m\n",
      "\u001b[0;32m~/miniconda3/envs/my_new_env_name/lib/python3.6/site-packages/moleculekit/molecule.py\u001b[0m in \u001b[0;36mread\u001b[0;34m(self, filename, type, skip, frames, append, overwrite, keepaltloc, guess, guessNE, _logger, **kwargs)\u001b[0m\n\u001b[1;32m   1071\u001b[0m                 \u001b[0;32mand\u001b[0m \u001b[0;32mnot\u001b[0m \u001b[0mos\u001b[0m\u001b[0;34m.\u001b[0m\u001b[0mpath\u001b[0m\u001b[0;34m.\u001b[0m\u001b[0mexists\u001b[0m\u001b[0;34m(\u001b[0m\u001b[0mf\u001b[0m\u001b[0;34m)\u001b[0m\u001b[0;34m\u001b[0m\u001b[0;34m\u001b[0m\u001b[0m\n\u001b[1;32m   1072\u001b[0m             ):\n\u001b[0;32m-> 1073\u001b[0;31m                 \u001b[0;32mraise\u001b[0m \u001b[0mFileNotFoundError\u001b[0m\u001b[0;34m(\u001b[0m\u001b[0;34m\"File {} was not found.\"\u001b[0m\u001b[0;34m.\u001b[0m\u001b[0mformat\u001b[0m\u001b[0;34m(\u001b[0m\u001b[0mf\u001b[0m\u001b[0;34m)\u001b[0m\u001b[0;34m)\u001b[0m\u001b[0;34m\u001b[0m\u001b[0;34m\u001b[0m\u001b[0m\n\u001b[0m\u001b[1;32m   1074\u001b[0m \u001b[0;34m\u001b[0m\u001b[0m\n\u001b[1;32m   1075\u001b[0m         \u001b[0;32mif\u001b[0m \u001b[0mlen\u001b[0m\u001b[0;34m(\u001b[0m\u001b[0mfilename\u001b[0m\u001b[0;34m)\u001b[0m \u001b[0;34m==\u001b[0m \u001b[0;36m1\u001b[0m \u001b[0;32mand\u001b[0m \u001b[0misinstance\u001b[0m\u001b[0;34m(\u001b[0m\u001b[0mfilename\u001b[0m\u001b[0;34m[\u001b[0m\u001b[0;36m0\u001b[0m\u001b[0;34m]\u001b[0m\u001b[0;34m,\u001b[0m \u001b[0mSim\u001b[0m\u001b[0;34m)\u001b[0m\u001b[0;34m:\u001b[0m\u001b[0;34m\u001b[0m\u001b[0;34m\u001b[0m\u001b[0m\n",
      "\u001b[0;31mFileNotFoundError\u001b[0m: File /home/martalo/Documentos/TFM/GPCR_variants/Data/pdb_files/5UZ7.pdb was not found."
     ]
    }
   ],
   "source": [
    "gpcr=all_gpcrs.pop()\n",
    "create_reps_affected(\"CALCR\",var_info).view()"
   ]
  },
  {
   "cell_type": "code",
   "execution_count": 39,
   "metadata": {},
   "outputs": [
    {
     "name": "stdout",
     "output_type": "stream",
     "text": [
      "5TZY\n",
      "FFAR1\n"
     ]
    },
    {
     "ename": "FileNotFoundError",
     "evalue": "[Errno 2] No such file or directory: '/home/mariona/Documents/PhD/Research_projects/Pharmacogenomics/Results/gpcr_to_pdb/5TZY_conv.json'",
     "output_type": "error",
     "traceback": [
      "\u001b[0;31m---------------------------------------------------------------------------\u001b[0m",
      "\u001b[0;31mFileNotFoundError\u001b[0m                         Traceback (most recent call last)",
      "\u001b[0;32m<ipython-input-39-a023568c588d>\u001b[0m in \u001b[0;36m<module>\u001b[0;34m\u001b[0m\n\u001b[1;32m      1\u001b[0m \u001b[0mgpcr\u001b[0m\u001b[0;34m=\u001b[0m\u001b[0mall_gpcrs\u001b[0m\u001b[0;34m.\u001b[0m\u001b[0mpop\u001b[0m\u001b[0;34m(\u001b[0m\u001b[0;34m)\u001b[0m\u001b[0;34m\u001b[0m\u001b[0;34m\u001b[0m\u001b[0m\n\u001b[0;32m----> 2\u001b[0;31m \u001b[0mcreate_reps_affected\u001b[0m\u001b[0;34m(\u001b[0m\u001b[0;34m\"FFAR1\"\u001b[0m\u001b[0;34m,\u001b[0m\u001b[0mvar_info\u001b[0m\u001b[0;34m)\u001b[0m\u001b[0;34m.\u001b[0m\u001b[0mview\u001b[0m\u001b[0;34m(\u001b[0m\u001b[0;34m)\u001b[0m\u001b[0;34m\u001b[0m\u001b[0;34m\u001b[0m\u001b[0m\n\u001b[0m",
      "\u001b[0;32m<ipython-input-33-0b4e5728f3b6>\u001b[0m in \u001b[0;36mcreate_reps_affected\u001b[0;34m(gpcr, var_info, show_aff_items, restrict_vars)\u001b[0m\n\u001b[1;32m     17\u001b[0m     \u001b[0mgpcr_vars\u001b[0m\u001b[0;34m=\u001b[0m\u001b[0;34m[\u001b[0m\u001b[0;34m]\u001b[0m\u001b[0;34m\u001b[0m\u001b[0;34m\u001b[0m\u001b[0m\n\u001b[1;32m     18\u001b[0m     \u001b[0;32mif\u001b[0m \u001b[0mlen\u001b[0m\u001b[0;34m(\u001b[0m\u001b[0mlist\u001b[0m\u001b[0;34m(\u001b[0m\u001b[0mvar_info\u001b[0m\u001b[0;34m[\u001b[0m\u001b[0mgpcr\u001b[0m\u001b[0;34m]\u001b[0m\u001b[0;34m.\u001b[0m\u001b[0mkeys\u001b[0m\u001b[0;34m(\u001b[0m\u001b[0;34m)\u001b[0m\u001b[0;34m)\u001b[0m\u001b[0;34m)\u001b[0m \u001b[0;34m>\u001b[0m\u001b[0;36m1\u001b[0m\u001b[0;34m:\u001b[0m\u001b[0;34m\u001b[0m\u001b[0;34m\u001b[0m\u001b[0m\n\u001b[0;32m---> 19\u001b[0;31m         \u001b[0mgpcr_vars\u001b[0m\u001b[0;34m=\u001b[0m\u001b[0mvar_to_display\u001b[0m\u001b[0;34m(\u001b[0m\u001b[0mgpcr\u001b[0m\u001b[0;34m)\u001b[0m\u001b[0;34m\u001b[0m\u001b[0;34m\u001b[0m\u001b[0m\n\u001b[0m\u001b[1;32m     20\u001b[0m     \u001b[0maffected_vars\u001b[0m\u001b[0;34m=\u001b[0m\u001b[0;34m[\u001b[0m\u001b[0;34m]\u001b[0m\u001b[0;34m\u001b[0m\u001b[0;34m\u001b[0m\u001b[0m\n\u001b[1;32m     21\u001b[0m     \u001b[0munaffected_vars\u001b[0m\u001b[0;34m=\u001b[0m\u001b[0;34m[\u001b[0m\u001b[0;34m]\u001b[0m\u001b[0;34m\u001b[0m\u001b[0;34m\u001b[0m\u001b[0m\n",
      "\u001b[0;32m~/Documentos/TFM/GPCR_variants/Code/Variants_general/create_csv.py\u001b[0m in \u001b[0;36mvar_to_display\u001b[0;34m(ex_gpcr, define_pdb, gnum_type)\u001b[0m\n\u001b[1;32m    362\u001b[0m     \u001b[0;32melse\u001b[0m\u001b[0;34m:\u001b[0m\u001b[0;34m\u001b[0m\u001b[0;34m\u001b[0m\u001b[0m\n\u001b[1;32m    363\u001b[0m         \u001b[0;32mif\u001b[0m \u001b[0;34m\"pdb\"\u001b[0m \u001b[0;32min\u001b[0m \u001b[0mvar_info\u001b[0m\u001b[0;34m[\u001b[0m\u001b[0mex_gpcr\u001b[0m\u001b[0;34m]\u001b[0m\u001b[0;34m.\u001b[0m\u001b[0mkeys\u001b[0m\u001b[0;34m(\u001b[0m\u001b[0;34m)\u001b[0m\u001b[0;34m:\u001b[0m\u001b[0;34m\u001b[0m\u001b[0;34m\u001b[0m\u001b[0m\n\u001b[0;32m--> 364\u001b[0;31m             \u001b[0mpdbname\u001b[0m\u001b[0;34m=\u001b[0m\u001b[0mvar_info\u001b[0m\u001b[0;34m[\u001b[0m\u001b[0mex_gpcr\u001b[0m\u001b[0;34m]\u001b[0m\u001b[0;34m[\u001b[0m\u001b[0;34m\"pdb\"\u001b[0m\u001b[0;34m]\u001b[0m\u001b[0;34m\u001b[0m\u001b[0;34m\u001b[0m\u001b[0m\n\u001b[0m\u001b[1;32m    365\u001b[0m         \u001b[0;32melse\u001b[0m\u001b[0;34m:\u001b[0m\u001b[0;34m\u001b[0m\u001b[0;34m\u001b[0m\u001b[0m\n\u001b[1;32m    366\u001b[0m             \u001b[0mprint\u001b[0m\u001b[0;34m(\u001b[0m\u001b[0;34m\"No pdb found for %s\"\u001b[0m\u001b[0;34m%\u001b[0m\u001b[0mex_gpcr\u001b[0m\u001b[0;34m)\u001b[0m\u001b[0;34m\u001b[0m\u001b[0;34m\u001b[0m\u001b[0m\n",
      "\u001b[0;32m~/Documentos/TFM/GPCR_variants/Code/Variants_general/create_csv.py\u001b[0m in \u001b[0;36mgpcr_pdb_dict_fom_json\u001b[0;34m(json_filepath, gnum_type)\u001b[0m\n\u001b[1;32m    339\u001b[0m \u001b[0;32mdef\u001b[0m \u001b[0mopen_json\u001b[0m\u001b[0;34m(\u001b[0m\u001b[0mjson_filepath\u001b[0m\u001b[0;34m)\u001b[0m\u001b[0;34m:\u001b[0m\u001b[0;34m\u001b[0m\u001b[0;34m\u001b[0m\u001b[0m\n\u001b[1;32m    340\u001b[0m     \u001b[0mjson_file\u001b[0m\u001b[0;34m=\u001b[0m\u001b[0mopen\u001b[0m\u001b[0;34m(\u001b[0m\u001b[0mjson_filepath\u001b[0m\u001b[0;34m)\u001b[0m\u001b[0;34m\u001b[0m\u001b[0;34m\u001b[0m\u001b[0m\n\u001b[0;32m--> 341\u001b[0;31m     \u001b[0mjson_str\u001b[0m \u001b[0;34m=\u001b[0m \u001b[0mjson_file\u001b[0m\u001b[0;34m.\u001b[0m\u001b[0mread\u001b[0m\u001b[0;34m(\u001b[0m\u001b[0;34m)\u001b[0m\u001b[0;34m\u001b[0m\u001b[0;34m\u001b[0m\u001b[0m\n\u001b[0m\u001b[1;32m    342\u001b[0m     \u001b[0mjson_dict\u001b[0m\u001b[0;34m=\u001b[0m\u001b[0mpd\u001b[0m\u001b[0;34m.\u001b[0m\u001b[0mio\u001b[0m\u001b[0;34m.\u001b[0m\u001b[0mjson\u001b[0m\u001b[0;34m.\u001b[0m\u001b[0mloads\u001b[0m\u001b[0;34m(\u001b[0m\u001b[0mjson_str\u001b[0m\u001b[0;34m)\u001b[0m\u001b[0;34m\u001b[0m\u001b[0;34m\u001b[0m\u001b[0m\n\u001b[1;32m    343\u001b[0m     \u001b[0;32mreturn\u001b[0m \u001b[0mjson_dict\u001b[0m\u001b[0;34m\u001b[0m\u001b[0;34m\u001b[0m\u001b[0m\n",
      "\u001b[0;32m~/Documentos/TFM/GPCR_variants/Code/Variants_general/create_csv.py\u001b[0m in \u001b[0;36mopen_json\u001b[0;34m(json_filepath)\u001b[0m\n\u001b[1;32m    333\u001b[0m     \u001b[0;32melif\u001b[0m \u001b[0;32mnot\u001b[0m \u001b[0mthis_var\u001b[0m\u001b[0;34m[\u001b[0m\u001b[0mvar_to_check\u001b[0m\u001b[0;34m]\u001b[0m\u001b[0;34m:\u001b[0m\u001b[0;34m\u001b[0m\u001b[0;34m\u001b[0m\u001b[0m\n\u001b[1;32m    334\u001b[0m         \u001b[0;32mif\u001b[0m \u001b[0mpred_affect\u001b[0m\u001b[0;34m==\u001b[0m\u001b[0;34m\"?\"\u001b[0m\u001b[0;34m:\u001b[0m\u001b[0;34m\u001b[0m\u001b[0;34m\u001b[0m\u001b[0m\n\u001b[0;32m--> 335\u001b[0;31m             \u001b[0mpred_affect\u001b[0m\u001b[0;34m=\u001b[0m\u001b[0;32mFalse\u001b[0m\u001b[0;34m\u001b[0m\u001b[0;34m\u001b[0m\u001b[0m\n\u001b[0m\u001b[1;32m    336\u001b[0m     \u001b[0;32mreturn\u001b[0m\u001b[0;34m(\u001b[0m\u001b[0mpred_affect\u001b[0m\u001b[0;34m,\u001b[0m\u001b[0mpred_items\u001b[0m\u001b[0;34m)\u001b[0m\u001b[0;34m\u001b[0m\u001b[0;34m\u001b[0m\u001b[0m\n\u001b[1;32m    337\u001b[0m \u001b[0;34m\u001b[0m\u001b[0m\n",
      "\u001b[0;31mFileNotFoundError\u001b[0m: [Errno 2] No such file or directory: '/home/mariona/Documents/PhD/Research_projects/Pharmacogenomics/Results/gpcr_to_pdb/5TZY_conv.json'"
     ]
    }
   ],
   "source": [
    "gpcr=all_gpcrs.pop()\n",
    "create_reps_affected(\"FFAR1\",var_info).view()\n"
   ]
  },
  {
   "cell_type": "code",
   "execution_count": 15,
   "metadata": {},
   "outputs": [
    {
     "name": "stdout",
     "output_type": "stream",
     "text": [
      "3VG9\n"
     ]
    },
    {
     "name": "stderr",
     "output_type": "stream",
     "text": [
      "/home/mariona/anaconda3/lib/python3.6/site-packages/htmd/molecule/readers.py:599: FutureWarning: Method .as_matrix will be removed in a future version. Use .values instead.\n",
      "  crystalinfo['rotations'] = parsedsymmetry[['rot1', 'rot2', 'rot3']].as_matrix().reshape((numcopies, 3, 3))\n",
      "/home/mariona/anaconda3/lib/python3.6/site-packages/htmd/molecule/readers.py:600: FutureWarning: Method .as_matrix will be removed in a future version. Use .values instead.\n",
      "  crystalinfo['translations'] = parsedsymmetry['trans'].as_matrix().reshape((numcopies, 3))\n",
      "/home/mariona/anaconda3/lib/python3.6/site-packages/htmd/molecule/readers.py:606: FutureWarning: Method .as_matrix will be removed in a future version. Use .values instead.\n",
      "  serials = parsedtopo.serial.as_matrix()\n"
     ]
    },
    {
     "data": {
      "application/vnd.jupyter.widget-view+json": {
       "model_id": "05e8555e25a14f958f07a3be5664797c",
       "version_major": 2,
       "version_minor": 0
      },
      "text/html": [
       "<p>Failed to display Jupyter Widget of type <code>NGLWidget</code>.</p>\n",
       "<p>\n",
       "  If you're reading this message in the Jupyter Notebook or JupyterLab Notebook, it may mean\n",
       "  that the widgets JavaScript is still loading. If this message persists, it\n",
       "  likely means that the widgets JavaScript library is either not installed or\n",
       "  not enabled. See the <a href=\"https://ipywidgets.readthedocs.io/en/stable/user_install.html\">Jupyter\n",
       "  Widgets Documentation</a> for setup instructions.\n",
       "</p>\n",
       "<p>\n",
       "  If you're reading this message in another frontend (for example, a static\n",
       "  rendering on GitHub or <a href=\"https://nbviewer.jupyter.org/\">NBViewer</a>),\n",
       "  it may mean that your frontend doesn't currently support widgets.\n",
       "</p>\n"
      ],
      "text/plain": [
       "NGLWidget()"
      ]
     },
     "metadata": {},
     "output_type": "display_data"
    }
   ],
   "source": [
    "gpcr=all_gpcrs.pop()\n",
    "create_reps_affected(\"FSHR\",var_info).view()"
   ]
  },
  {
   "cell_type": "code",
   "execution_count": 16,
   "metadata": {},
   "outputs": [
    {
     "name": "stdout",
     "output_type": "stream",
     "text": [
      "3SN6\n"
     ]
    },
    {
     "name": "stderr",
     "output_type": "stream",
     "text": [
      "/home/mariona/anaconda3/lib/python3.6/site-packages/htmd/molecule/readers.py:599: FutureWarning: Method .as_matrix will be removed in a future version. Use .values instead.\n",
      "  crystalinfo['rotations'] = parsedsymmetry[['rot1', 'rot2', 'rot3']].as_matrix().reshape((numcopies, 3, 3))\n",
      "/home/mariona/anaconda3/lib/python3.6/site-packages/htmd/molecule/readers.py:600: FutureWarning: Method .as_matrix will be removed in a future version. Use .values instead.\n",
      "  crystalinfo['translations'] = parsedsymmetry['trans'].as_matrix().reshape((numcopies, 3))\n",
      "/home/mariona/anaconda3/lib/python3.6/site-packages/htmd/molecule/readers.py:606: FutureWarning: Method .as_matrix will be removed in a future version. Use .values instead.\n",
      "  serials = parsedtopo.serial.as_matrix()\n"
     ]
    },
    {
     "data": {
      "application/vnd.jupyter.widget-view+json": {
       "model_id": "6b8fc1f322484bcc9b7601b4cfe737af",
       "version_major": 2,
       "version_minor": 0
      },
      "text/html": [
       "<p>Failed to display Jupyter Widget of type <code>NGLWidget</code>.</p>\n",
       "<p>\n",
       "  If you're reading this message in the Jupyter Notebook or JupyterLab Notebook, it may mean\n",
       "  that the widgets JavaScript is still loading. If this message persists, it\n",
       "  likely means that the widgets JavaScript library is either not installed or\n",
       "  not enabled. See the <a href=\"https://ipywidgets.readthedocs.io/en/stable/user_install.html\">Jupyter\n",
       "  Widgets Documentation</a> for setup instructions.\n",
       "</p>\n",
       "<p>\n",
       "  If you're reading this message in another frontend (for example, a static\n",
       "  rendering on GitHub or <a href=\"https://nbviewer.jupyter.org/\">NBViewer</a>),\n",
       "  it may mean that your frontend doesn't currently support widgets.\n",
       "</p>\n"
      ],
      "text/plain": [
       "NGLWidget()"
      ]
     },
     "metadata": {},
     "output_type": "display_data"
    }
   ],
   "source": [
    "gpcr=all_gpcrs.pop()\n",
    "create_reps_affected(\"ADRB2\",var_info).view()"
   ]
  },
  {
   "cell_type": "code",
   "execution_count": 17,
   "metadata": {},
   "outputs": [
    {
     "name": "stdout",
     "output_type": "stream",
     "text": [
      "3ODU\n"
     ]
    },
    {
     "name": "stderr",
     "output_type": "stream",
     "text": [
      "/home/mariona/anaconda3/lib/python3.6/site-packages/htmd/molecule/readers.py:599: FutureWarning: Method .as_matrix will be removed in a future version. Use .values instead.\n",
      "  crystalinfo['rotations'] = parsedsymmetry[['rot1', 'rot2', 'rot3']].as_matrix().reshape((numcopies, 3, 3))\n",
      "/home/mariona/anaconda3/lib/python3.6/site-packages/htmd/molecule/readers.py:600: FutureWarning: Method .as_matrix will be removed in a future version. Use .values instead.\n",
      "  crystalinfo['translations'] = parsedsymmetry['trans'].as_matrix().reshape((numcopies, 3))\n",
      "/home/mariona/anaconda3/lib/python3.6/site-packages/htmd/molecule/readers.py:606: FutureWarning: Method .as_matrix will be removed in a future version. Use .values instead.\n",
      "  serials = parsedtopo.serial.as_matrix()\n",
      "2018-11-12 17:17:57,140 - htmd.molecule.molecule - WARNING - Alternative atom locations detected. Only altloc A was kept. If you prefer to keep all use the keepaltloc=\"all\" option when reading the file.\n",
      "2018-11-12 17:17:57,144 - htmd.molecule.molecule - INFO - Removed 28 atoms. 7777 atoms remaining in the molecule.\n"
     ]
    },
    {
     "data": {
      "application/vnd.jupyter.widget-view+json": {
       "model_id": "911a2bef265f40609e740bc042ceab99",
       "version_major": 2,
       "version_minor": 0
      },
      "text/html": [
       "<p>Failed to display Jupyter Widget of type <code>NGLWidget</code>.</p>\n",
       "<p>\n",
       "  If you're reading this message in the Jupyter Notebook or JupyterLab Notebook, it may mean\n",
       "  that the widgets JavaScript is still loading. If this message persists, it\n",
       "  likely means that the widgets JavaScript library is either not installed or\n",
       "  not enabled. See the <a href=\"https://ipywidgets.readthedocs.io/en/stable/user_install.html\">Jupyter\n",
       "  Widgets Documentation</a> for setup instructions.\n",
       "</p>\n",
       "<p>\n",
       "  If you're reading this message in another frontend (for example, a static\n",
       "  rendering on GitHub or <a href=\"https://nbviewer.jupyter.org/\">NBViewer</a>),\n",
       "  it may mean that your frontend doesn't currently support widgets.\n",
       "</p>\n"
      ],
      "text/plain": [
       "NGLWidget()"
      ]
     },
     "metadata": {},
     "output_type": "display_data"
    }
   ],
   "source": [
    "gpcr=all_gpcrs.pop()\n",
    "create_reps_affected(\"CXCR4\",var_info).view()"
   ]
  },
  {
   "cell_type": "code",
   "execution_count": 18,
   "metadata": {},
   "outputs": [
    {
     "name": "stdout",
     "output_type": "stream",
     "text": [
      "5UIW\n"
     ]
    },
    {
     "name": "stderr",
     "output_type": "stream",
     "text": [
      "/home/mariona/anaconda3/lib/python3.6/site-packages/htmd/molecule/readers.py:599: FutureWarning: Method .as_matrix will be removed in a future version. Use .values instead.\n",
      "  crystalinfo['rotations'] = parsedsymmetry[['rot1', 'rot2', 'rot3']].as_matrix().reshape((numcopies, 3, 3))\n",
      "/home/mariona/anaconda3/lib/python3.6/site-packages/htmd/molecule/readers.py:600: FutureWarning: Method .as_matrix will be removed in a future version. Use .values instead.\n",
      "  crystalinfo['translations'] = parsedsymmetry['trans'].as_matrix().reshape((numcopies, 3))\n",
      "/home/mariona/anaconda3/lib/python3.6/site-packages/htmd/molecule/readers.py:606: FutureWarning: Method .as_matrix will be removed in a future version. Use .values instead.\n",
      "  serials = parsedtopo.serial.as_matrix()\n",
      "2018-11-12 17:17:58,842 - htmd.molecule.molecule - WARNING - Alternative atom locations detected. Only altloc A was kept. If you prefer to keep all use the keepaltloc=\"all\" option when reading the file.\n",
      "2018-11-12 17:17:58,845 - htmd.molecule.molecule - INFO - Removed 6 atoms. 3437 atoms remaining in the molecule.\n"
     ]
    },
    {
     "data": {
      "application/vnd.jupyter.widget-view+json": {
       "model_id": "38070a226b5740289c9bef315f63c83b",
       "version_major": 2,
       "version_minor": 0
      },
      "text/html": [
       "<p>Failed to display Jupyter Widget of type <code>NGLWidget</code>.</p>\n",
       "<p>\n",
       "  If you're reading this message in the Jupyter Notebook or JupyterLab Notebook, it may mean\n",
       "  that the widgets JavaScript is still loading. If this message persists, it\n",
       "  likely means that the widgets JavaScript library is either not installed or\n",
       "  not enabled. See the <a href=\"https://ipywidgets.readthedocs.io/en/stable/user_install.html\">Jupyter\n",
       "  Widgets Documentation</a> for setup instructions.\n",
       "</p>\n",
       "<p>\n",
       "  If you're reading this message in another frontend (for example, a static\n",
       "  rendering on GitHub or <a href=\"https://nbviewer.jupyter.org/\">NBViewer</a>),\n",
       "  it may mean that your frontend doesn't currently support widgets.\n",
       "</p>\n"
      ],
      "text/plain": [
       "NGLWidget()"
      ]
     },
     "metadata": {},
     "output_type": "display_data"
    }
   ],
   "source": [
    "gpcr=all_gpcrs.pop()\n",
    "create_reps_affected(\"CCR8\",var_info).view()"
   ]
  },
  {
   "cell_type": "code",
   "execution_count": 19,
   "metadata": {},
   "outputs": [
    {
     "name": "stdout",
     "output_type": "stream",
     "text": [
      "6B73\n"
     ]
    },
    {
     "name": "stderr",
     "output_type": "stream",
     "text": [
      "/home/mariona/anaconda3/lib/python3.6/site-packages/htmd/molecule/readers.py:599: FutureWarning: Method .as_matrix will be removed in a future version. Use .values instead.\n",
      "  crystalinfo['rotations'] = parsedsymmetry[['rot1', 'rot2', 'rot3']].as_matrix().reshape((numcopies, 3, 3))\n",
      "/home/mariona/anaconda3/lib/python3.6/site-packages/htmd/molecule/readers.py:600: FutureWarning: Method .as_matrix will be removed in a future version. Use .values instead.\n",
      "  crystalinfo['translations'] = parsedsymmetry['trans'].as_matrix().reshape((numcopies, 3))\n",
      "/home/mariona/anaconda3/lib/python3.6/site-packages/htmd/molecule/readers.py:606: FutureWarning: Method .as_matrix will be removed in a future version. Use .values instead.\n",
      "  serials = parsedtopo.serial.as_matrix()\n"
     ]
    },
    {
     "data": {
      "application/vnd.jupyter.widget-view+json": {
       "model_id": "5826504a69b34c18bc50ce18ec35cd38",
       "version_major": 2,
       "version_minor": 0
      },
      "text/html": [
       "<p>Failed to display Jupyter Widget of type <code>NGLWidget</code>.</p>\n",
       "<p>\n",
       "  If you're reading this message in the Jupyter Notebook or JupyterLab Notebook, it may mean\n",
       "  that the widgets JavaScript is still loading. If this message persists, it\n",
       "  likely means that the widgets JavaScript library is either not installed or\n",
       "  not enabled. See the <a href=\"https://ipywidgets.readthedocs.io/en/stable/user_install.html\">Jupyter\n",
       "  Widgets Documentation</a> for setup instructions.\n",
       "</p>\n",
       "<p>\n",
       "  If you're reading this message in another frontend (for example, a static\n",
       "  rendering on GitHub or <a href=\"https://nbviewer.jupyter.org/\">NBViewer</a>),\n",
       "  it may mean that your frontend doesn't currently support widgets.\n",
       "</p>\n"
      ],
      "text/plain": [
       "NGLWidget()"
      ]
     },
     "metadata": {},
     "output_type": "display_data"
    }
   ],
   "source": [
    "gpcr=all_gpcrs.pop()\n",
    "create_reps_affected(\"MCHR1\",var_info).view()"
   ]
  },
  {
   "cell_type": "code",
   "execution_count": 20,
   "metadata": {},
   "outputs": [
    {
     "name": "stdout",
     "output_type": "stream",
     "text": [
      "5TGZ\n"
     ]
    },
    {
     "name": "stderr",
     "output_type": "stream",
     "text": [
      "/home/mariona/anaconda3/lib/python3.6/site-packages/htmd/molecule/readers.py:599: FutureWarning: Method .as_matrix will be removed in a future version. Use .values instead.\n",
      "  crystalinfo['rotations'] = parsedsymmetry[['rot1', 'rot2', 'rot3']].as_matrix().reshape((numcopies, 3, 3))\n",
      "/home/mariona/anaconda3/lib/python3.6/site-packages/htmd/molecule/readers.py:600: FutureWarning: Method .as_matrix will be removed in a future version. Use .values instead.\n",
      "  crystalinfo['translations'] = parsedsymmetry['trans'].as_matrix().reshape((numcopies, 3))\n",
      "/home/mariona/anaconda3/lib/python3.6/site-packages/htmd/molecule/readers.py:606: FutureWarning: Method .as_matrix will be removed in a future version. Use .values instead.\n",
      "  serials = parsedtopo.serial.as_matrix()\n",
      "2018-11-12 17:18:00,984 - htmd.molecule.molecule - WARNING - Alternative atom locations detected. Only altloc A was kept. If you prefer to keep all use the keepaltloc=\"all\" option when reading the file.\n",
      "2018-11-12 17:18:00,987 - htmd.molecule.molecule - INFO - Removed 8 atoms. 3542 atoms remaining in the molecule.\n"
     ]
    },
    {
     "data": {
      "application/vnd.jupyter.widget-view+json": {
       "model_id": "ccdaf72ae7d04b48ae5ed588ec8b9598",
       "version_major": 2,
       "version_minor": 0
      },
      "text/html": [
       "<p>Failed to display Jupyter Widget of type <code>NGLWidget</code>.</p>\n",
       "<p>\n",
       "  If you're reading this message in the Jupyter Notebook or JupyterLab Notebook, it may mean\n",
       "  that the widgets JavaScript is still loading. If this message persists, it\n",
       "  likely means that the widgets JavaScript library is either not installed or\n",
       "  not enabled. See the <a href=\"https://ipywidgets.readthedocs.io/en/stable/user_install.html\">Jupyter\n",
       "  Widgets Documentation</a> for setup instructions.\n",
       "</p>\n",
       "<p>\n",
       "  If you're reading this message in another frontend (for example, a static\n",
       "  rendering on GitHub or <a href=\"https://nbviewer.jupyter.org/\">NBViewer</a>),\n",
       "  it may mean that your frontend doesn't currently support widgets.\n",
       "</p>\n"
      ],
      "text/plain": [
       "NGLWidget()"
      ]
     },
     "metadata": {},
     "output_type": "display_data"
    }
   ],
   "source": [
    "gpcr=all_gpcrs.pop()\n",
    "create_reps_affected(\"CNR2\",var_info).view()"
   ]
  },
  {
   "cell_type": "code",
   "execution_count": 21,
   "metadata": {},
   "outputs": [
    {
     "name": "stdout",
     "output_type": "stream",
     "text": [
      "6B73\n"
     ]
    },
    {
     "name": "stderr",
     "output_type": "stream",
     "text": [
      "/home/mariona/anaconda3/lib/python3.6/site-packages/htmd/molecule/readers.py:599: FutureWarning: Method .as_matrix will be removed in a future version. Use .values instead.\n",
      "  crystalinfo['rotations'] = parsedsymmetry[['rot1', 'rot2', 'rot3']].as_matrix().reshape((numcopies, 3, 3))\n",
      "/home/mariona/anaconda3/lib/python3.6/site-packages/htmd/molecule/readers.py:600: FutureWarning: Method .as_matrix will be removed in a future version. Use .values instead.\n",
      "  crystalinfo['translations'] = parsedsymmetry['trans'].as_matrix().reshape((numcopies, 3))\n",
      "/home/mariona/anaconda3/lib/python3.6/site-packages/htmd/molecule/readers.py:606: FutureWarning: Method .as_matrix will be removed in a future version. Use .values instead.\n",
      "  serials = parsedtopo.serial.as_matrix()\n"
     ]
    },
    {
     "data": {
      "application/vnd.jupyter.widget-view+json": {
       "model_id": "6b3921e7cf7f4fcca1fe4032426ca07f",
       "version_major": 2,
       "version_minor": 0
      },
      "text/html": [
       "<p>Failed to display Jupyter Widget of type <code>NGLWidget</code>.</p>\n",
       "<p>\n",
       "  If you're reading this message in the Jupyter Notebook or JupyterLab Notebook, it may mean\n",
       "  that the widgets JavaScript is still loading. If this message persists, it\n",
       "  likely means that the widgets JavaScript library is either not installed or\n",
       "  not enabled. See the <a href=\"https://ipywidgets.readthedocs.io/en/stable/user_install.html\">Jupyter\n",
       "  Widgets Documentation</a> for setup instructions.\n",
       "</p>\n",
       "<p>\n",
       "  If you're reading this message in another frontend (for example, a static\n",
       "  rendering on GitHub or <a href=\"https://nbviewer.jupyter.org/\">NBViewer</a>),\n",
       "  it may mean that your frontend doesn't currently support widgets.\n",
       "</p>\n"
      ],
      "text/plain": [
       "NGLWidget()"
      ]
     },
     "metadata": {},
     "output_type": "display_data"
    }
   ],
   "source": [
    "gpcr=all_gpcrs.pop()\n",
    "create_reps_affected(\"GPR18\",var_info).view()"
   ]
  },
  {
   "cell_type": "code",
   "execution_count": 25,
   "metadata": {},
   "outputs": [
    {
     "name": "stderr",
     "output_type": "stream",
     "text": [
      "/home/mariona/anaconda3/lib/python3.6/site-packages/htmd/molecule/readers.py:599: FutureWarning: Method .as_matrix will be removed in a future version. Use .values instead.\n",
      "  crystalinfo['rotations'] = parsedsymmetry[['rot1', 'rot2', 'rot3']].as_matrix().reshape((numcopies, 3, 3))\n",
      "/home/mariona/anaconda3/lib/python3.6/site-packages/htmd/molecule/readers.py:600: FutureWarning: Method .as_matrix will be removed in a future version. Use .values instead.\n",
      "  crystalinfo['translations'] = parsedsymmetry['trans'].as_matrix().reshape((numcopies, 3))\n",
      "/home/mariona/anaconda3/lib/python3.6/site-packages/htmd/molecule/readers.py:606: FutureWarning: Method .as_matrix will be removed in a future version. Use .values instead.\n",
      "  serials = parsedtopo.serial.as_matrix()\n"
     ]
    },
    {
     "data": {
      "application/vnd.jupyter.widget-view+json": {
       "model_id": "4be80ce9288c4923a449caedd195e667",
       "version_major": 2,
       "version_minor": 0
      },
      "text/html": [
       "<p>Failed to display Jupyter Widget of type <code>NGLWidget</code>.</p>\n",
       "<p>\n",
       "  If you're reading this message in the Jupyter Notebook or JupyterLab Notebook, it may mean\n",
       "  that the widgets JavaScript is still loading. If this message persists, it\n",
       "  likely means that the widgets JavaScript library is either not installed or\n",
       "  not enabled. See the <a href=\"https://ipywidgets.readthedocs.io/en/stable/user_install.html\">Jupyter\n",
       "  Widgets Documentation</a> for setup instructions.\n",
       "</p>\n",
       "<p>\n",
       "  If you're reading this message in another frontend (for example, a static\n",
       "  rendering on GitHub or <a href=\"https://nbviewer.jupyter.org/\">NBViewer</a>),\n",
       "  it may mean that your frontend doesn't currently support widgets.\n",
       "</p>\n"
      ],
      "text/plain": [
       "NGLWidget()"
      ]
     },
     "metadata": {},
     "output_type": "display_data"
    }
   ],
   "source": [
    "gpcr=all_gpcrs.pop()\n",
    "create_reps_affected(\"TAAR1\",var_info).view()"
   ]
  },
  {
   "cell_type": "code",
   "execution_count": 26,
   "metadata": {},
   "outputs": [
    {
     "name": "stderr",
     "output_type": "stream",
     "text": [
      "/home/mariona/anaconda3/lib/python3.6/site-packages/htmd/molecule/readers.py:599: FutureWarning: Method .as_matrix will be removed in a future version. Use .values instead.\n",
      "  crystalinfo['rotations'] = parsedsymmetry[['rot1', 'rot2', 'rot3']].as_matrix().reshape((numcopies, 3, 3))\n",
      "/home/mariona/anaconda3/lib/python3.6/site-packages/htmd/molecule/readers.py:600: FutureWarning: Method .as_matrix will be removed in a future version. Use .values instead.\n",
      "  crystalinfo['translations'] = parsedsymmetry['trans'].as_matrix().reshape((numcopies, 3))\n",
      "/home/mariona/anaconda3/lib/python3.6/site-packages/htmd/molecule/readers.py:606: FutureWarning: Method .as_matrix will be removed in a future version. Use .values instead.\n",
      "  serials = parsedtopo.serial.as_matrix()\n"
     ]
    },
    {
     "data": {
      "application/vnd.jupyter.widget-view+json": {
       "model_id": "8bb251d8be9c4e1b995b3b2c087c001f",
       "version_major": 2,
       "version_minor": 0
      },
      "text/html": [
       "<p>Failed to display Jupyter Widget of type <code>NGLWidget</code>.</p>\n",
       "<p>\n",
       "  If you're reading this message in the Jupyter Notebook or JupyterLab Notebook, it may mean\n",
       "  that the widgets JavaScript is still loading. If this message persists, it\n",
       "  likely means that the widgets JavaScript library is either not installed or\n",
       "  not enabled. See the <a href=\"https://ipywidgets.readthedocs.io/en/stable/user_install.html\">Jupyter\n",
       "  Widgets Documentation</a> for setup instructions.\n",
       "</p>\n",
       "<p>\n",
       "  If you're reading this message in another frontend (for example, a static\n",
       "  rendering on GitHub or <a href=\"https://nbviewer.jupyter.org/\">NBViewer</a>),\n",
       "  it may mean that your frontend doesn't currently support widgets.\n",
       "</p>\n"
      ],
      "text/plain": [
       "NGLWidget()"
      ]
     },
     "metadata": {},
     "output_type": "display_data"
    }
   ],
   "source": [
    "gpcr=all_gpcrs.pop()\n",
    "create_reps_affected(\"HRH4\",var_info).view()"
   ]
  },
  {
   "cell_type": "code",
   "execution_count": 27,
   "metadata": {},
   "outputs": [
    {
     "name": "stderr",
     "output_type": "stream",
     "text": [
      "/home/mariona/anaconda3/lib/python3.6/site-packages/htmd/molecule/readers.py:599: FutureWarning: Method .as_matrix will be removed in a future version. Use .values instead.\n",
      "  crystalinfo['rotations'] = parsedsymmetry[['rot1', 'rot2', 'rot3']].as_matrix().reshape((numcopies, 3, 3))\n",
      "/home/mariona/anaconda3/lib/python3.6/site-packages/htmd/molecule/readers.py:600: FutureWarning: Method .as_matrix will be removed in a future version. Use .values instead.\n",
      "  crystalinfo['translations'] = parsedsymmetry['trans'].as_matrix().reshape((numcopies, 3))\n",
      "/home/mariona/anaconda3/lib/python3.6/site-packages/htmd/molecule/readers.py:606: FutureWarning: Method .as_matrix will be removed in a future version. Use .values instead.\n",
      "  serials = parsedtopo.serial.as_matrix()\n",
      "2018-11-07 17:18:21,685 - htmd.molecule.molecule - WARNING - Alternative atom locations detected. Only altloc A was kept. If you prefer to keep all use the keepaltloc=\"all\" option when reading the file.\n",
      "2018-11-07 17:18:21,689 - htmd.molecule.molecule - INFO - Removed 21 atoms. 3534 atoms remaining in the molecule.\n"
     ]
    },
    {
     "data": {
      "application/vnd.jupyter.widget-view+json": {
       "model_id": "ab7008e71fae406fbf0b9971d735c2f6",
       "version_major": 2,
       "version_minor": 0
      },
      "text/html": [
       "<p>Failed to display Jupyter Widget of type <code>NGLWidget</code>.</p>\n",
       "<p>\n",
       "  If you're reading this message in the Jupyter Notebook or JupyterLab Notebook, it may mean\n",
       "  that the widgets JavaScript is still loading. If this message persists, it\n",
       "  likely means that the widgets JavaScript library is either not installed or\n",
       "  not enabled. See the <a href=\"https://ipywidgets.readthedocs.io/en/stable/user_install.html\">Jupyter\n",
       "  Widgets Documentation</a> for setup instructions.\n",
       "</p>\n",
       "<p>\n",
       "  If you're reading this message in another frontend (for example, a static\n",
       "  rendering on GitHub or <a href=\"https://nbviewer.jupyter.org/\">NBViewer</a>),\n",
       "  it may mean that your frontend doesn't currently support widgets.\n",
       "</p>\n"
      ],
      "text/plain": [
       "NGLWidget()"
      ]
     },
     "metadata": {},
     "output_type": "display_data"
    }
   ],
   "source": [
    "gpcr=all_gpcrs.pop()\n",
    "create_reps_affected(\"HRH3\",var_info).view()"
   ]
  },
  {
   "cell_type": "code",
   "execution_count": 28,
   "metadata": {},
   "outputs": [
    {
     "name": "stderr",
     "output_type": "stream",
     "text": [
      "/home/mariona/anaconda3/lib/python3.6/site-packages/htmd/molecule/readers.py:599: FutureWarning: Method .as_matrix will be removed in a future version. Use .values instead.\n",
      "  crystalinfo['rotations'] = parsedsymmetry[['rot1', 'rot2', 'rot3']].as_matrix().reshape((numcopies, 3, 3))\n",
      "/home/mariona/anaconda3/lib/python3.6/site-packages/htmd/molecule/readers.py:600: FutureWarning: Method .as_matrix will be removed in a future version. Use .values instead.\n",
      "  crystalinfo['translations'] = parsedsymmetry['trans'].as_matrix().reshape((numcopies, 3))\n",
      "/home/mariona/anaconda3/lib/python3.6/site-packages/htmd/molecule/readers.py:606: FutureWarning: Method .as_matrix will be removed in a future version. Use .values instead.\n",
      "  serials = parsedtopo.serial.as_matrix()\n"
     ]
    },
    {
     "data": {
      "application/vnd.jupyter.widget-view+json": {
       "model_id": "de72d45d079245c5b028adfcf2f84262",
       "version_major": 2,
       "version_minor": 0
      },
      "text/html": [
       "<p>Failed to display Jupyter Widget of type <code>NGLWidget</code>.</p>\n",
       "<p>\n",
       "  If you're reading this message in the Jupyter Notebook or JupyterLab Notebook, it may mean\n",
       "  that the widgets JavaScript is still loading. If this message persists, it\n",
       "  likely means that the widgets JavaScript library is either not installed or\n",
       "  not enabled. See the <a href=\"https://ipywidgets.readthedocs.io/en/stable/user_install.html\">Jupyter\n",
       "  Widgets Documentation</a> for setup instructions.\n",
       "</p>\n",
       "<p>\n",
       "  If you're reading this message in another frontend (for example, a static\n",
       "  rendering on GitHub or <a href=\"https://nbviewer.jupyter.org/\">NBViewer</a>),\n",
       "  it may mean that your frontend doesn't currently support widgets.\n",
       "</p>\n"
      ],
      "text/plain": [
       "NGLWidget()"
      ]
     },
     "metadata": {},
     "output_type": "display_data"
    }
   ],
   "source": [
    "gpcr=all_gpcrs.pop()\n",
    "create_reps_affected(\"HRH2\",var_info).view()"
   ]
  },
  {
   "cell_type": "code",
   "execution_count": 29,
   "metadata": {},
   "outputs": [
    {
     "name": "stderr",
     "output_type": "stream",
     "text": [
      "/home/mariona/anaconda3/lib/python3.6/site-packages/htmd/molecule/readers.py:599: FutureWarning: Method .as_matrix will be removed in a future version. Use .values instead.\n",
      "  crystalinfo['rotations'] = parsedsymmetry[['rot1', 'rot2', 'rot3']].as_matrix().reshape((numcopies, 3, 3))\n",
      "/home/mariona/anaconda3/lib/python3.6/site-packages/htmd/molecule/readers.py:600: FutureWarning: Method .as_matrix will be removed in a future version. Use .values instead.\n",
      "  crystalinfo['translations'] = parsedsymmetry['trans'].as_matrix().reshape((numcopies, 3))\n",
      "/home/mariona/anaconda3/lib/python3.6/site-packages/htmd/molecule/readers.py:606: FutureWarning: Method .as_matrix will be removed in a future version. Use .values instead.\n",
      "  serials = parsedtopo.serial.as_matrix()\n",
      "2018-11-07 17:18:24,004 - htmd.molecule.molecule - WARNING - Alternative atom locations detected. Only altloc A was kept. If you prefer to keep all use the keepaltloc=\"all\" option when reading the file.\n",
      "2018-11-07 17:18:24,007 - htmd.molecule.molecule - INFO - Removed 21 atoms. 3534 atoms remaining in the molecule.\n"
     ]
    },
    {
     "data": {
      "application/vnd.jupyter.widget-view+json": {
       "model_id": "b01a775099e84e74a97ac537b2a933e7",
       "version_major": 2,
       "version_minor": 0
      },
      "text/html": [
       "<p>Failed to display Jupyter Widget of type <code>NGLWidget</code>.</p>\n",
       "<p>\n",
       "  If you're reading this message in the Jupyter Notebook or JupyterLab Notebook, it may mean\n",
       "  that the widgets JavaScript is still loading. If this message persists, it\n",
       "  likely means that the widgets JavaScript library is either not installed or\n",
       "  not enabled. See the <a href=\"https://ipywidgets.readthedocs.io/en/stable/user_install.html\">Jupyter\n",
       "  Widgets Documentation</a> for setup instructions.\n",
       "</p>\n",
       "<p>\n",
       "  If you're reading this message in another frontend (for example, a static\n",
       "  rendering on GitHub or <a href=\"https://nbviewer.jupyter.org/\">NBViewer</a>),\n",
       "  it may mean that your frontend doesn't currently support widgets.\n",
       "</p>\n"
      ],
      "text/plain": [
       "NGLWidget()"
      ]
     },
     "metadata": {},
     "output_type": "display_data"
    }
   ],
   "source": [
    "gpcr=all_gpcrs.pop()\n",
    "create_reps_affected(\"HRH1\",var_info).view()"
   ]
  },
  {
   "cell_type": "code",
   "execution_count": 30,
   "metadata": {},
   "outputs": [
    {
     "name": "stderr",
     "output_type": "stream",
     "text": [
      "/home/mariona/anaconda3/lib/python3.6/site-packages/htmd/molecule/readers.py:599: FutureWarning: Method .as_matrix will be removed in a future version. Use .values instead.\n",
      "  crystalinfo['rotations'] = parsedsymmetry[['rot1', 'rot2', 'rot3']].as_matrix().reshape((numcopies, 3, 3))\n",
      "/home/mariona/anaconda3/lib/python3.6/site-packages/htmd/molecule/readers.py:600: FutureWarning: Method .as_matrix will be removed in a future version. Use .values instead.\n",
      "  crystalinfo['translations'] = parsedsymmetry['trans'].as_matrix().reshape((numcopies, 3))\n",
      "/home/mariona/anaconda3/lib/python3.6/site-packages/htmd/molecule/readers.py:606: FutureWarning: Method .as_matrix will be removed in a future version. Use .values instead.\n",
      "  serials = parsedtopo.serial.as_matrix()\n"
     ]
    },
    {
     "data": {
      "application/vnd.jupyter.widget-view+json": {
       "model_id": "92fb725369f042d790ca2552ec190980",
       "version_major": 2,
       "version_minor": 0
      },
      "text/html": [
       "<p>Failed to display Jupyter Widget of type <code>NGLWidget</code>.</p>\n",
       "<p>\n",
       "  If you're reading this message in the Jupyter Notebook or JupyterLab Notebook, it may mean\n",
       "  that the widgets JavaScript is still loading. If this message persists, it\n",
       "  likely means that the widgets JavaScript library is either not installed or\n",
       "  not enabled. See the <a href=\"https://ipywidgets.readthedocs.io/en/stable/user_install.html\">Jupyter\n",
       "  Widgets Documentation</a> for setup instructions.\n",
       "</p>\n",
       "<p>\n",
       "  If you're reading this message in another frontend (for example, a static\n",
       "  rendering on GitHub or <a href=\"https://nbviewer.jupyter.org/\">NBViewer</a>),\n",
       "  it may mean that your frontend doesn't currently support widgets.\n",
       "</p>\n"
      ],
      "text/plain": [
       "NGLWidget()"
      ]
     },
     "metadata": {},
     "output_type": "display_data"
    }
   ],
   "source": [
    "gpcr=all_gpcrs.pop()\n",
    "create_reps_affected(\"DRD5\",var_info).view()"
   ]
  },
  {
   "cell_type": "code",
   "execution_count": 31,
   "metadata": {},
   "outputs": [
    {
     "name": "stderr",
     "output_type": "stream",
     "text": [
      "/home/mariona/anaconda3/lib/python3.6/site-packages/htmd/molecule/readers.py:599: FutureWarning: Method .as_matrix will be removed in a future version. Use .values instead.\n",
      "  crystalinfo['rotations'] = parsedsymmetry[['rot1', 'rot2', 'rot3']].as_matrix().reshape((numcopies, 3, 3))\n",
      "/home/mariona/anaconda3/lib/python3.6/site-packages/htmd/molecule/readers.py:600: FutureWarning: Method .as_matrix will be removed in a future version. Use .values instead.\n",
      "  crystalinfo['translations'] = parsedsymmetry['trans'].as_matrix().reshape((numcopies, 3))\n",
      "/home/mariona/anaconda3/lib/python3.6/site-packages/htmd/molecule/readers.py:606: FutureWarning: Method .as_matrix will be removed in a future version. Use .values instead.\n",
      "  serials = parsedtopo.serial.as_matrix()\n",
      "2018-11-07 17:18:26,546 - htmd.molecule.molecule - WARNING - Alternative atom locations detected. Only altloc A was kept. If you prefer to keep all use the keepaltloc=\"all\" option when reading the file.\n",
      "2018-11-07 17:18:26,550 - htmd.molecule.molecule - INFO - Removed 38 atoms. 3111 atoms remaining in the molecule.\n"
     ]
    },
    {
     "data": {
      "application/vnd.jupyter.widget-view+json": {
       "model_id": "aaee14e909104e73bb74b0541dcc8c64",
       "version_major": 2,
       "version_minor": 0
      },
      "text/html": [
       "<p>Failed to display Jupyter Widget of type <code>NGLWidget</code>.</p>\n",
       "<p>\n",
       "  If you're reading this message in the Jupyter Notebook or JupyterLab Notebook, it may mean\n",
       "  that the widgets JavaScript is still loading. If this message persists, it\n",
       "  likely means that the widgets JavaScript library is either not installed or\n",
       "  not enabled. See the <a href=\"https://ipywidgets.readthedocs.io/en/stable/user_install.html\">Jupyter\n",
       "  Widgets Documentation</a> for setup instructions.\n",
       "</p>\n",
       "<p>\n",
       "  If you're reading this message in another frontend (for example, a static\n",
       "  rendering on GitHub or <a href=\"https://nbviewer.jupyter.org/\">NBViewer</a>),\n",
       "  it may mean that your frontend doesn't currently support widgets.\n",
       "</p>\n"
      ],
      "text/plain": [
       "NGLWidget()"
      ]
     },
     "metadata": {},
     "output_type": "display_data"
    }
   ],
   "source": [
    "gpcr=all_gpcrs.pop()\n",
    "create_reps_affected(\"DRD4\",var_info).view()"
   ]
  },
  {
   "cell_type": "code",
   "execution_count": 93,
   "metadata": {},
   "outputs": [
    {
     "name": "stdout",
     "output_type": "stream",
     "text": [
      "dopamine receptor D3 (DRD3)\n"
     ]
    },
    {
     "name": "stderr",
     "output_type": "stream",
     "text": [
      "/home/mariona/anaconda3/lib/python3.6/site-packages/htmd/molecule/readers.py:599: FutureWarning: Method .as_matrix will be removed in a future version. Use .values instead.\n",
      "  crystalinfo['rotations'] = parsedsymmetry[['rot1', 'rot2', 'rot3']].as_matrix().reshape((numcopies, 3, 3))\n",
      "/home/mariona/anaconda3/lib/python3.6/site-packages/htmd/molecule/readers.py:600: FutureWarning: Method .as_matrix will be removed in a future version. Use .values instead.\n",
      "  crystalinfo['translations'] = parsedsymmetry['trans'].as_matrix().reshape((numcopies, 3))\n",
      "/home/mariona/anaconda3/lib/python3.6/site-packages/htmd/molecule/readers.py:606: FutureWarning: Method .as_matrix will be removed in a future version. Use .values instead.\n",
      "  serials = parsedtopo.serial.as_matrix()\n"
     ]
    },
    {
     "data": {
      "application/vnd.jupyter.widget-view+json": {
       "model_id": "d64df3805dba42c9b0487c0bb0397446",
       "version_major": 2,
       "version_minor": 0
      },
      "text/html": [
       "<p>Failed to display Jupyter Widget of type <code>NGLWidget</code>.</p>\n",
       "<p>\n",
       "  If you're reading this message in the Jupyter Notebook or JupyterLab Notebook, it may mean\n",
       "  that the widgets JavaScript is still loading. If this message persists, it\n",
       "  likely means that the widgets JavaScript library is either not installed or\n",
       "  not enabled. See the <a href=\"https://ipywidgets.readthedocs.io/en/stable/user_install.html\">Jupyter\n",
       "  Widgets Documentation</a> for setup instructions.\n",
       "</p>\n",
       "<p>\n",
       "  If you're reading this message in another frontend (for example, a static\n",
       "  rendering on GitHub or <a href=\"https://nbviewer.jupyter.org/\">NBViewer</a>),\n",
       "  it may mean that your frontend doesn't currently support widgets.\n",
       "</p>\n"
      ],
      "text/plain": [
       "NGLWidget()"
      ]
     },
     "metadata": {},
     "output_type": "display_data"
    }
   ],
   "source": [
    "gpcr=all_gpcrs.pop()\n",
    "create_reps_affected(gpcr,var_info).view()"
   ]
  },
  {
   "cell_type": "code",
   "execution_count": 94,
   "metadata": {},
   "outputs": [
    {
     "name": "stdout",
     "output_type": "stream",
     "text": [
      "dopamine receptor D2 (DRD2)\n"
     ]
    },
    {
     "name": "stderr",
     "output_type": "stream",
     "text": [
      "/home/mariona/anaconda3/lib/python3.6/site-packages/htmd/molecule/readers.py:599: FutureWarning: Method .as_matrix will be removed in a future version. Use .values instead.\n",
      "  crystalinfo['rotations'] = parsedsymmetry[['rot1', 'rot2', 'rot3']].as_matrix().reshape((numcopies, 3, 3))\n",
      "/home/mariona/anaconda3/lib/python3.6/site-packages/htmd/molecule/readers.py:600: FutureWarning: Method .as_matrix will be removed in a future version. Use .values instead.\n",
      "  crystalinfo['translations'] = parsedsymmetry['trans'].as_matrix().reshape((numcopies, 3))\n",
      "/home/mariona/anaconda3/lib/python3.6/site-packages/htmd/molecule/readers.py:606: FutureWarning: Method .as_matrix will be removed in a future version. Use .values instead.\n",
      "  serials = parsedtopo.serial.as_matrix()\n"
     ]
    },
    {
     "data": {
      "application/vnd.jupyter.widget-view+json": {
       "model_id": "78108ba61da14c558e6949f74e43f8c8",
       "version_major": 2,
       "version_minor": 0
      },
      "text/html": [
       "<p>Failed to display Jupyter Widget of type <code>NGLWidget</code>.</p>\n",
       "<p>\n",
       "  If you're reading this message in the Jupyter Notebook or JupyterLab Notebook, it may mean\n",
       "  that the widgets JavaScript is still loading. If this message persists, it\n",
       "  likely means that the widgets JavaScript library is either not installed or\n",
       "  not enabled. See the <a href=\"https://ipywidgets.readthedocs.io/en/stable/user_install.html\">Jupyter\n",
       "  Widgets Documentation</a> for setup instructions.\n",
       "</p>\n",
       "<p>\n",
       "  If you're reading this message in another frontend (for example, a static\n",
       "  rendering on GitHub or <a href=\"https://nbviewer.jupyter.org/\">NBViewer</a>),\n",
       "  it may mean that your frontend doesn't currently support widgets.\n",
       "</p>\n"
      ],
      "text/plain": [
       "NGLWidget()"
      ]
     },
     "metadata": {},
     "output_type": "display_data"
    }
   ],
   "source": [
    "gpcr=all_gpcrs.pop()\n",
    "create_reps_affected(gpcr,var_info).view()"
   ]
  },
  {
   "cell_type": "code",
   "execution_count": 95,
   "metadata": {},
   "outputs": [
    {
     "name": "stdout",
     "output_type": "stream",
     "text": [
      "dopamine receptor D1 (DRD1)\n"
     ]
    },
    {
     "name": "stderr",
     "output_type": "stream",
     "text": [
      "/home/mariona/anaconda3/lib/python3.6/site-packages/htmd/molecule/readers.py:599: FutureWarning: Method .as_matrix will be removed in a future version. Use .values instead.\n",
      "  crystalinfo['rotations'] = parsedsymmetry[['rot1', 'rot2', 'rot3']].as_matrix().reshape((numcopies, 3, 3))\n",
      "/home/mariona/anaconda3/lib/python3.6/site-packages/htmd/molecule/readers.py:600: FutureWarning: Method .as_matrix will be removed in a future version. Use .values instead.\n",
      "  crystalinfo['translations'] = parsedsymmetry['trans'].as_matrix().reshape((numcopies, 3))\n",
      "/home/mariona/anaconda3/lib/python3.6/site-packages/htmd/molecule/readers.py:606: FutureWarning: Method .as_matrix will be removed in a future version. Use .values instead.\n",
      "  serials = parsedtopo.serial.as_matrix()\n"
     ]
    },
    {
     "data": {
      "application/vnd.jupyter.widget-view+json": {
       "model_id": "82ac40cad99649df8139dc977e5e95ff",
       "version_major": 2,
       "version_minor": 0
      },
      "text/html": [
       "<p>Failed to display Jupyter Widget of type <code>NGLWidget</code>.</p>\n",
       "<p>\n",
       "  If you're reading this message in the Jupyter Notebook or JupyterLab Notebook, it may mean\n",
       "  that the widgets JavaScript is still loading. If this message persists, it\n",
       "  likely means that the widgets JavaScript library is either not installed or\n",
       "  not enabled. See the <a href=\"https://ipywidgets.readthedocs.io/en/stable/user_install.html\">Jupyter\n",
       "  Widgets Documentation</a> for setup instructions.\n",
       "</p>\n",
       "<p>\n",
       "  If you're reading this message in another frontend (for example, a static\n",
       "  rendering on GitHub or <a href=\"https://nbviewer.jupyter.org/\">NBViewer</a>),\n",
       "  it may mean that your frontend doesn't currently support widgets.\n",
       "</p>\n"
      ],
      "text/plain": [
       "NGLWidget()"
      ]
     },
     "metadata": {},
     "output_type": "display_data"
    }
   ],
   "source": [
    "gpcr=all_gpcrs.pop()\n",
    "create_reps_affected(gpcr,var_info).view()"
   ]
  },
  {
   "cell_type": "code",
   "execution_count": 96,
   "metadata": {},
   "outputs": [
    {
     "name": "stdout",
     "output_type": "stream",
     "text": [
      "adrenoceptor beta 3 (ADRB3)\n"
     ]
    },
    {
     "name": "stderr",
     "output_type": "stream",
     "text": [
      "/home/mariona/anaconda3/lib/python3.6/site-packages/htmd/molecule/readers.py:599: FutureWarning: Method .as_matrix will be removed in a future version. Use .values instead.\n",
      "  crystalinfo['rotations'] = parsedsymmetry[['rot1', 'rot2', 'rot3']].as_matrix().reshape((numcopies, 3, 3))\n",
      "/home/mariona/anaconda3/lib/python3.6/site-packages/htmd/molecule/readers.py:600: FutureWarning: Method .as_matrix will be removed in a future version. Use .values instead.\n",
      "  crystalinfo['translations'] = parsedsymmetry['trans'].as_matrix().reshape((numcopies, 3))\n",
      "/home/mariona/anaconda3/lib/python3.6/site-packages/htmd/molecule/readers.py:606: FutureWarning: Method .as_matrix will be removed in a future version. Use .values instead.\n",
      "  serials = parsedtopo.serial.as_matrix()\n"
     ]
    },
    {
     "data": {
      "application/vnd.jupyter.widget-view+json": {
       "model_id": "3f25adabcc6140ba800aa03271a08575",
       "version_major": 2,
       "version_minor": 0
      },
      "text/html": [
       "<p>Failed to display Jupyter Widget of type <code>NGLWidget</code>.</p>\n",
       "<p>\n",
       "  If you're reading this message in the Jupyter Notebook or JupyterLab Notebook, it may mean\n",
       "  that the widgets JavaScript is still loading. If this message persists, it\n",
       "  likely means that the widgets JavaScript library is either not installed or\n",
       "  not enabled. See the <a href=\"https://ipywidgets.readthedocs.io/en/stable/user_install.html\">Jupyter\n",
       "  Widgets Documentation</a> for setup instructions.\n",
       "</p>\n",
       "<p>\n",
       "  If you're reading this message in another frontend (for example, a static\n",
       "  rendering on GitHub or <a href=\"https://nbviewer.jupyter.org/\">NBViewer</a>),\n",
       "  it may mean that your frontend doesn't currently support widgets.\n",
       "</p>\n"
      ],
      "text/plain": [
       "NGLWidget()"
      ]
     },
     "metadata": {},
     "output_type": "display_data"
    }
   ],
   "source": [
    "gpcr=all_gpcrs.pop()\n",
    "create_reps_affected(gpcr,var_info).view()"
   ]
  },
  {
   "cell_type": "code",
   "execution_count": 97,
   "metadata": {},
   "outputs": [
    {
     "name": "stdout",
     "output_type": "stream",
     "text": [
      "adrenoceptor beta 2 (ADRB2)\n"
     ]
    },
    {
     "name": "stderr",
     "output_type": "stream",
     "text": [
      "/home/mariona/anaconda3/lib/python3.6/site-packages/htmd/molecule/readers.py:599: FutureWarning: Method .as_matrix will be removed in a future version. Use .values instead.\n",
      "  crystalinfo['rotations'] = parsedsymmetry[['rot1', 'rot2', 'rot3']].as_matrix().reshape((numcopies, 3, 3))\n",
      "/home/mariona/anaconda3/lib/python3.6/site-packages/htmd/molecule/readers.py:600: FutureWarning: Method .as_matrix will be removed in a future version. Use .values instead.\n",
      "  crystalinfo['translations'] = parsedsymmetry['trans'].as_matrix().reshape((numcopies, 3))\n",
      "/home/mariona/anaconda3/lib/python3.6/site-packages/htmd/molecule/readers.py:606: FutureWarning: Method .as_matrix will be removed in a future version. Use .values instead.\n",
      "  serials = parsedtopo.serial.as_matrix()\n"
     ]
    },
    {
     "data": {
      "application/vnd.jupyter.widget-view+json": {
       "model_id": "a809e02068d049a0a9e957b9637ae7d4",
       "version_major": 2,
       "version_minor": 0
      },
      "text/html": [
       "<p>Failed to display Jupyter Widget of type <code>NGLWidget</code>.</p>\n",
       "<p>\n",
       "  If you're reading this message in the Jupyter Notebook or JupyterLab Notebook, it may mean\n",
       "  that the widgets JavaScript is still loading. If this message persists, it\n",
       "  likely means that the widgets JavaScript library is either not installed or\n",
       "  not enabled. See the <a href=\"https://ipywidgets.readthedocs.io/en/stable/user_install.html\">Jupyter\n",
       "  Widgets Documentation</a> for setup instructions.\n",
       "</p>\n",
       "<p>\n",
       "  If you're reading this message in another frontend (for example, a static\n",
       "  rendering on GitHub or <a href=\"https://nbviewer.jupyter.org/\">NBViewer</a>),\n",
       "  it may mean that your frontend doesn't currently support widgets.\n",
       "</p>\n"
      ],
      "text/plain": [
       "NGLWidget()"
      ]
     },
     "metadata": {},
     "output_type": "display_data"
    }
   ],
   "source": [
    "gpcr=all_gpcrs.pop()\n",
    "create_reps_affected(gpcr,var_info).view()"
   ]
  },
  {
   "cell_type": "code",
   "execution_count": 98,
   "metadata": {},
   "outputs": [
    {
     "name": "stdout",
     "output_type": "stream",
     "text": [
      "adrenoceptor beta 1 (ADRB1)\n"
     ]
    },
    {
     "name": "stderr",
     "output_type": "stream",
     "text": [
      "/home/mariona/anaconda3/lib/python3.6/site-packages/htmd/molecule/readers.py:599: FutureWarning: Method .as_matrix will be removed in a future version. Use .values instead.\n",
      "  crystalinfo['rotations'] = parsedsymmetry[['rot1', 'rot2', 'rot3']].as_matrix().reshape((numcopies, 3, 3))\n",
      "/home/mariona/anaconda3/lib/python3.6/site-packages/htmd/molecule/readers.py:600: FutureWarning: Method .as_matrix will be removed in a future version. Use .values instead.\n",
      "  crystalinfo['translations'] = parsedsymmetry['trans'].as_matrix().reshape((numcopies, 3))\n",
      "/home/mariona/anaconda3/lib/python3.6/site-packages/htmd/molecule/readers.py:606: FutureWarning: Method .as_matrix will be removed in a future version. Use .values instead.\n",
      "  serials = parsedtopo.serial.as_matrix()\n"
     ]
    },
    {
     "data": {
      "application/vnd.jupyter.widget-view+json": {
       "model_id": "6692125558324491a09ddaa8fd603bd8",
       "version_major": 2,
       "version_minor": 0
      },
      "text/html": [
       "<p>Failed to display Jupyter Widget of type <code>NGLWidget</code>.</p>\n",
       "<p>\n",
       "  If you're reading this message in the Jupyter Notebook or JupyterLab Notebook, it may mean\n",
       "  that the widgets JavaScript is still loading. If this message persists, it\n",
       "  likely means that the widgets JavaScript library is either not installed or\n",
       "  not enabled. See the <a href=\"https://ipywidgets.readthedocs.io/en/stable/user_install.html\">Jupyter\n",
       "  Widgets Documentation</a> for setup instructions.\n",
       "</p>\n",
       "<p>\n",
       "  If you're reading this message in another frontend (for example, a static\n",
       "  rendering on GitHub or <a href=\"https://nbviewer.jupyter.org/\">NBViewer</a>),\n",
       "  it may mean that your frontend doesn't currently support widgets.\n",
       "</p>\n"
      ],
      "text/plain": [
       "NGLWidget()"
      ]
     },
     "metadata": {},
     "output_type": "display_data"
    }
   ],
   "source": [
    "gpcr=all_gpcrs.pop()\n",
    "create_reps_affected(gpcr,var_info).view()"
   ]
  },
  {
   "cell_type": "code",
   "execution_count": 99,
   "metadata": {},
   "outputs": [
    {
     "name": "stdout",
     "output_type": "stream",
     "text": [
      "adrenoceptor alpha 2C (ADRA2C)\n"
     ]
    },
    {
     "name": "stderr",
     "output_type": "stream",
     "text": [
      "/home/mariona/anaconda3/lib/python3.6/site-packages/htmd/molecule/readers.py:599: FutureWarning: Method .as_matrix will be removed in a future version. Use .values instead.\n",
      "  crystalinfo['rotations'] = parsedsymmetry[['rot1', 'rot2', 'rot3']].as_matrix().reshape((numcopies, 3, 3))\n",
      "/home/mariona/anaconda3/lib/python3.6/site-packages/htmd/molecule/readers.py:600: FutureWarning: Method .as_matrix will be removed in a future version. Use .values instead.\n",
      "  crystalinfo['translations'] = parsedsymmetry['trans'].as_matrix().reshape((numcopies, 3))\n",
      "/home/mariona/anaconda3/lib/python3.6/site-packages/htmd/molecule/readers.py:606: FutureWarning: Method .as_matrix will be removed in a future version. Use .values instead.\n",
      "  serials = parsedtopo.serial.as_matrix()\n"
     ]
    },
    {
     "data": {
      "application/vnd.jupyter.widget-view+json": {
       "model_id": "641889280d414eaead838e40b8d2b65b",
       "version_major": 2,
       "version_minor": 0
      },
      "text/html": [
       "<p>Failed to display Jupyter Widget of type <code>NGLWidget</code>.</p>\n",
       "<p>\n",
       "  If you're reading this message in the Jupyter Notebook or JupyterLab Notebook, it may mean\n",
       "  that the widgets JavaScript is still loading. If this message persists, it\n",
       "  likely means that the widgets JavaScript library is either not installed or\n",
       "  not enabled. See the <a href=\"https://ipywidgets.readthedocs.io/en/stable/user_install.html\">Jupyter\n",
       "  Widgets Documentation</a> for setup instructions.\n",
       "</p>\n",
       "<p>\n",
       "  If you're reading this message in another frontend (for example, a static\n",
       "  rendering on GitHub or <a href=\"https://nbviewer.jupyter.org/\">NBViewer</a>),\n",
       "  it may mean that your frontend doesn't currently support widgets.\n",
       "</p>\n"
      ],
      "text/plain": [
       "NGLWidget()"
      ]
     },
     "metadata": {},
     "output_type": "display_data"
    }
   ],
   "source": [
    "gpcr=all_gpcrs.pop()\n",
    "create_reps_affected(gpcr,var_info).view()"
   ]
  },
  {
   "cell_type": "code",
   "execution_count": 100,
   "metadata": {},
   "outputs": [
    {
     "name": "stdout",
     "output_type": "stream",
     "text": [
      "adrenoceptor alpha 2B (ADRA2B)\n"
     ]
    },
    {
     "name": "stderr",
     "output_type": "stream",
     "text": [
      "/home/mariona/anaconda3/lib/python3.6/site-packages/htmd/molecule/readers.py:599: FutureWarning: Method .as_matrix will be removed in a future version. Use .values instead.\n",
      "  crystalinfo['rotations'] = parsedsymmetry[['rot1', 'rot2', 'rot3']].as_matrix().reshape((numcopies, 3, 3))\n",
      "/home/mariona/anaconda3/lib/python3.6/site-packages/htmd/molecule/readers.py:600: FutureWarning: Method .as_matrix will be removed in a future version. Use .values instead.\n",
      "  crystalinfo['translations'] = parsedsymmetry['trans'].as_matrix().reshape((numcopies, 3))\n",
      "/home/mariona/anaconda3/lib/python3.6/site-packages/htmd/molecule/readers.py:606: FutureWarning: Method .as_matrix will be removed in a future version. Use .values instead.\n",
      "  serials = parsedtopo.serial.as_matrix()\n"
     ]
    },
    {
     "data": {
      "application/vnd.jupyter.widget-view+json": {
       "model_id": "e2ec61a887b8455f8fab5957c083f445",
       "version_major": 2,
       "version_minor": 0
      },
      "text/html": [
       "<p>Failed to display Jupyter Widget of type <code>NGLWidget</code>.</p>\n",
       "<p>\n",
       "  If you're reading this message in the Jupyter Notebook or JupyterLab Notebook, it may mean\n",
       "  that the widgets JavaScript is still loading. If this message persists, it\n",
       "  likely means that the widgets JavaScript library is either not installed or\n",
       "  not enabled. See the <a href=\"https://ipywidgets.readthedocs.io/en/stable/user_install.html\">Jupyter\n",
       "  Widgets Documentation</a> for setup instructions.\n",
       "</p>\n",
       "<p>\n",
       "  If you're reading this message in another frontend (for example, a static\n",
       "  rendering on GitHub or <a href=\"https://nbviewer.jupyter.org/\">NBViewer</a>),\n",
       "  it may mean that your frontend doesn't currently support widgets.\n",
       "</p>\n"
      ],
      "text/plain": [
       "NGLWidget()"
      ]
     },
     "metadata": {},
     "output_type": "display_data"
    }
   ],
   "source": [
    "gpcr=all_gpcrs.pop()\n",
    "create_reps_affected(gpcr,var_info).view()"
   ]
  },
  {
   "cell_type": "code",
   "execution_count": 101,
   "metadata": {},
   "outputs": [
    {
     "name": "stdout",
     "output_type": "stream",
     "text": [
      "adrenoceptor alpha 2A (ADRA2A)\n"
     ]
    },
    {
     "name": "stderr",
     "output_type": "stream",
     "text": [
      "/home/mariona/anaconda3/lib/python3.6/site-packages/htmd/molecule/readers.py:599: FutureWarning: Method .as_matrix will be removed in a future version. Use .values instead.\n",
      "  crystalinfo['rotations'] = parsedsymmetry[['rot1', 'rot2', 'rot3']].as_matrix().reshape((numcopies, 3, 3))\n",
      "/home/mariona/anaconda3/lib/python3.6/site-packages/htmd/molecule/readers.py:600: FutureWarning: Method .as_matrix will be removed in a future version. Use .values instead.\n",
      "  crystalinfo['translations'] = parsedsymmetry['trans'].as_matrix().reshape((numcopies, 3))\n",
      "/home/mariona/anaconda3/lib/python3.6/site-packages/htmd/molecule/readers.py:606: FutureWarning: Method .as_matrix will be removed in a future version. Use .values instead.\n",
      "  serials = parsedtopo.serial.as_matrix()\n"
     ]
    },
    {
     "data": {
      "application/vnd.jupyter.widget-view+json": {
       "model_id": "cc224929f18e4e5d910b4e2b4cf127e2",
       "version_major": 2,
       "version_minor": 0
      },
      "text/html": [
       "<p>Failed to display Jupyter Widget of type <code>NGLWidget</code>.</p>\n",
       "<p>\n",
       "  If you're reading this message in the Jupyter Notebook or JupyterLab Notebook, it may mean\n",
       "  that the widgets JavaScript is still loading. If this message persists, it\n",
       "  likely means that the widgets JavaScript library is either not installed or\n",
       "  not enabled. See the <a href=\"https://ipywidgets.readthedocs.io/en/stable/user_install.html\">Jupyter\n",
       "  Widgets Documentation</a> for setup instructions.\n",
       "</p>\n",
       "<p>\n",
       "  If you're reading this message in another frontend (for example, a static\n",
       "  rendering on GitHub or <a href=\"https://nbviewer.jupyter.org/\">NBViewer</a>),\n",
       "  it may mean that your frontend doesn't currently support widgets.\n",
       "</p>\n"
      ],
      "text/plain": [
       "NGLWidget()"
      ]
     },
     "metadata": {},
     "output_type": "display_data"
    }
   ],
   "source": [
    "gpcr=all_gpcrs.pop()\n",
    "create_reps_affected(gpcr,var_info).view()"
   ]
  },
  {
   "cell_type": "code",
   "execution_count": null,
   "metadata": {},
   "outputs": [],
   "source": []
  },
  {
   "cell_type": "code",
   "execution_count": null,
   "metadata": {},
   "outputs": [],
   "source": []
  },
  {
   "cell_type": "code",
   "execution_count": null,
   "metadata": {},
   "outputs": [],
   "source": []
  }
 ],
 "metadata": {
  "kernelspec": {
   "display_name": "Python 3",
   "language": "python",
   "name": "python3"
  },
  "language_info": {
   "codemirror_mode": {
    "name": "ipython",
    "version": 3
   },
   "file_extension": ".py",
   "mimetype": "text/x-python",
   "name": "python",
   "nbconvert_exporter": "python",
   "pygments_lexer": "ipython3",
   "version": "3.6.10"
  }
 },
 "nbformat": 4,
 "nbformat_minor": 2
}
