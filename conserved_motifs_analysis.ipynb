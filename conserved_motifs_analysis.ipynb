{
 "cells": [
  {
   "cell_type": "markdown",
   "metadata": {},
   "source": [
    "# Conserved Motifs Analysis"
   ]
  },
  {
   "cell_type": "code",
   "execution_count": 1,
   "metadata": {},
   "outputs": [
    {
     "name": "stdout",
     "output_type": "stream",
     "text": [
      "Requirement already satisfied: pandas in /home/martalo/miniconda3/envs/my_new_env_name/lib/python3.6/site-packages (0.25.3)\n",
      "Requirement already satisfied: python-dateutil>=2.6.1 in /home/martalo/miniconda3/envs/my_new_env_name/lib/python3.6/site-packages (from pandas) (2.8.1)\n",
      "Requirement already satisfied: pytz>=2017.2 in /home/martalo/miniconda3/envs/my_new_env_name/lib/python3.6/site-packages (from pandas) (2020.1)\n",
      "Requirement already satisfied: numpy>=1.13.3 in /home/martalo/miniconda3/envs/my_new_env_name/lib/python3.6/site-packages (from pandas) (1.18.5)\n",
      "Requirement already satisfied: six>=1.5 in /home/martalo/miniconda3/envs/my_new_env_name/lib/python3.6/site-packages (from python-dateutil>=2.6.1->pandas) (1.15.0)\n",
      "Requirement already satisfied: scipy in /home/martalo/miniconda3/envs/my_new_env_name/lib/python3.6/site-packages (1.5.0)\n",
      "Requirement already satisfied: numpy>=1.14.5 in /home/martalo/miniconda3/envs/my_new_env_name/lib/python3.6/site-packages (from scipy) (1.18.5)\n",
      "Requirement already satisfied: bioservices in /home/martalo/miniconda3/envs/my_new_env_name/lib/python3.6/site-packages (1.7.6)\n",
      "Requirement already satisfied: easydev>=0.9.36 in /home/martalo/miniconda3/envs/my_new_env_name/lib/python3.6/site-packages (from bioservices) (0.9.38)\n",
      "Requirement already satisfied: colorlog in /home/martalo/miniconda3/envs/my_new_env_name/lib/python3.6/site-packages (from bioservices) (4.1.0)\n",
      "Requirement already satisfied: beautifulsoup4 in /home/martalo/miniconda3/envs/my_new_env_name/lib/python3.6/site-packages (from bioservices) (4.9.1)\n",
      "Requirement already satisfied: grequests in /home/martalo/miniconda3/envs/my_new_env_name/lib/python3.6/site-packages (from bioservices) (0.6.0)\n",
      "Requirement already satisfied: requests-cache in /home/martalo/miniconda3/envs/my_new_env_name/lib/python3.6/site-packages (from bioservices) (0.5.2)\n",
      "Requirement already satisfied: pandas in /home/martalo/miniconda3/envs/my_new_env_name/lib/python3.6/site-packages (from bioservices) (0.25.3)\n",
      "Requirement already satisfied: wrapt in /home/martalo/miniconda3/envs/my_new_env_name/lib/python3.6/site-packages (from bioservices) (1.12.1)\n",
      "Requirement already satisfied: requests in /home/martalo/miniconda3/envs/my_new_env_name/lib/python3.6/site-packages (from bioservices) (2.24.0)\n",
      "Requirement already satisfied: appdirs in /home/martalo/miniconda3/envs/my_new_env_name/lib/python3.6/site-packages (from bioservices) (1.4.4)\n",
      "Requirement already satisfied: xmltodict in /home/martalo/miniconda3/envs/my_new_env_name/lib/python3.6/site-packages (from bioservices) (0.12.0)\n",
      "Requirement already satisfied: lxml in /home/martalo/miniconda3/envs/my_new_env_name/lib/python3.6/site-packages (from bioservices) (4.5.2)\n",
      "Requirement already satisfied: suds-jurko in /home/martalo/miniconda3/envs/my_new_env_name/lib/python3.6/site-packages (from bioservices) (0.6)\n",
      "Requirement already satisfied: colorama in /home/martalo/miniconda3/envs/my_new_env_name/lib/python3.6/site-packages (from easydev>=0.9.36->bioservices) (0.4.3)\n",
      "Requirement already satisfied: pexpect in /home/martalo/miniconda3/envs/my_new_env_name/lib/python3.6/site-packages (from easydev>=0.9.36->bioservices) (4.8.0)\n",
      "Requirement already satisfied: soupsieve>1.2 in /home/martalo/miniconda3/envs/my_new_env_name/lib/python3.6/site-packages (from beautifulsoup4->bioservices) (2.0.1)\n",
      "Requirement already satisfied: gevent in /home/martalo/miniconda3/envs/my_new_env_name/lib/python3.6/site-packages (from grequests->bioservices) (20.6.2)\n",
      "Requirement already satisfied: pytz>=2017.2 in /home/martalo/miniconda3/envs/my_new_env_name/lib/python3.6/site-packages (from pandas->bioservices) (2020.1)\n",
      "Requirement already satisfied: numpy>=1.13.3 in /home/martalo/miniconda3/envs/my_new_env_name/lib/python3.6/site-packages (from pandas->bioservices) (1.18.5)\n",
      "Requirement already satisfied: python-dateutil>=2.6.1 in /home/martalo/miniconda3/envs/my_new_env_name/lib/python3.6/site-packages (from pandas->bioservices) (2.8.1)\n",
      "Requirement already satisfied: certifi>=2017.4.17 in /home/martalo/miniconda3/envs/my_new_env_name/lib/python3.6/site-packages (from requests->bioservices) (2020.6.20)\n",
      "Requirement already satisfied: idna<3,>=2.5 in /home/martalo/miniconda3/envs/my_new_env_name/lib/python3.6/site-packages (from requests->bioservices) (2.10)\n",
      "Requirement already satisfied: urllib3!=1.25.0,!=1.25.1,<1.26,>=1.21.1 in /home/martalo/miniconda3/envs/my_new_env_name/lib/python3.6/site-packages (from requests->bioservices) (1.25.9)\n",
      "Requirement already satisfied: chardet<4,>=3.0.2 in /home/martalo/miniconda3/envs/my_new_env_name/lib/python3.6/site-packages (from requests->bioservices) (3.0.4)\n",
      "Requirement already satisfied: ptyprocess>=0.5 in /home/martalo/miniconda3/envs/my_new_env_name/lib/python3.6/site-packages (from pexpect->easydev>=0.9.36->bioservices) (0.6.0)\n",
      "Requirement already satisfied: greenlet>=0.4.16; platform_python_implementation == \"CPython\" in /home/martalo/miniconda3/envs/my_new_env_name/lib/python3.6/site-packages (from gevent->grequests->bioservices) (0.4.16)\n",
      "Requirement already satisfied: zope.event in /home/martalo/miniconda3/envs/my_new_env_name/lib/python3.6/site-packages (from gevent->grequests->bioservices) (4.4)\n",
      "Requirement already satisfied: zope.interface in /home/martalo/miniconda3/envs/my_new_env_name/lib/python3.6/site-packages (from gevent->grequests->bioservices) (5.1.0)\n",
      "Requirement already satisfied: setuptools in /home/martalo/miniconda3/envs/my_new_env_name/lib/python3.6/site-packages (from gevent->grequests->bioservices) (49.2.0.post20200712)\n",
      "Requirement already satisfied: six>=1.5 in /home/martalo/miniconda3/envs/my_new_env_name/lib/python3.6/site-packages (from python-dateutil>=2.6.1->pandas->bioservices) (1.15.0)\n",
      "Requirement already satisfied: biopython in /home/martalo/miniconda3/envs/my_new_env_name/lib/python3.6/site-packages (1.77)\n",
      "Requirement already satisfied: numpy in /home/martalo/miniconda3/envs/my_new_env_name/lib/python3.6/site-packages (from biopython) (1.18.5)\n",
      "Requirement already satisfied: xlrd in /home/martalo/miniconda3/envs/my_new_env_name/lib/python3.6/site-packages (1.2.0)\n"
     ]
    },
    {
     "name": "stderr",
     "output_type": "stream",
     "text": [
      "/home/martalo/miniconda3/envs/my_new_env_name/lib/python3.6/site-packages/htmd/versionwarnings.py:29: UserWarning: As of HTMD 1.16 the default ACEMD version for all protocols has changed to version 3. If you want to use version 2 protocols change the _version argument in the protocols or add `config(acemdversion=2)` to the beginning of your scripts. To disable this warning run once: `from htmd import _disableWarnings; _disableWarnings('1.16');`\n",
      "  , UserWarning)\n",
      "/home/martalo/miniconda3/envs/my_new_env_name/lib/python3.6/site-packages/htmd/versionwarnings.py:33: UserWarning: As of HTMD 1.16 the default number of threads HTMD spawns for calculations is set to 1. You can enable parallelism at your own risk using `config(njobs=-2)` in the beginning of your scripts. To disable this warning run once: `from htmd import _disableWarnings; _disableWarnings('1.16');`\n",
      "  , UserWarning)\n"
     ]
    },
    {
     "name": "stdout",
     "output_type": "stream",
     "text": [
      "ffevaluate module is in beta version\n",
      "\n",
      "Please cite HTMD: Doerr et al.(2016)JCTC,12,1845. https://dx.doi.org/10.1021/acs.jctc.6b00049\n",
      "\n",
      "HTMD Documentation at: https://www.htmd.org/docs/latest/\n",
      "\n",
      "New devel HTMD version (1.24.7 python[3.6,<3.7.0a0,3.7,<3.8.0a0]) is available. You are currently on (1.19).There are several methods to update:    - Create a new conda env. using `conda create -n htmd1.24.7 htmd=1.24.7 -c acellera -c psi4 -c conda-forge`    - Create a brand new conda installation and run `conda install htmd -c acellera -c psi4 -c conda-forge`    - Run: `conda update htmd -c acellera -c psi4 -c conda-forge` (NOT RECOMMENDED)\n",
      "\n",
      "Requirement already satisfied: seaborn in /home/martalo/miniconda3/envs/my_new_env_name/lib/python3.6/site-packages (0.10.1)\n",
      "Requirement already satisfied: matplotlib>=2.1.2 in /home/martalo/miniconda3/envs/my_new_env_name/lib/python3.6/site-packages (from seaborn) (3.1.1)\n",
      "Requirement already satisfied: pandas>=0.22.0 in /home/martalo/miniconda3/envs/my_new_env_name/lib/python3.6/site-packages (from seaborn) (0.25.3)\n",
      "Requirement already satisfied: scipy>=1.0.1 in /home/martalo/miniconda3/envs/my_new_env_name/lib/python3.6/site-packages (from seaborn) (1.5.0)\n",
      "Requirement already satisfied: numpy>=1.13.3 in /home/martalo/miniconda3/envs/my_new_env_name/lib/python3.6/site-packages (from seaborn) (1.18.5)\n",
      "Requirement already satisfied: kiwisolver>=1.0.1 in /home/martalo/miniconda3/envs/my_new_env_name/lib/python3.6/site-packages (from matplotlib>=2.1.2->seaborn) (1.2.0)\n",
      "Requirement already satisfied: pyparsing!=2.0.4,!=2.1.2,!=2.1.6,>=2.0.1 in /home/martalo/miniconda3/envs/my_new_env_name/lib/python3.6/site-packages (from matplotlib>=2.1.2->seaborn) (2.4.7)\n",
      "Requirement already satisfied: python-dateutil>=2.1 in /home/martalo/miniconda3/envs/my_new_env_name/lib/python3.6/site-packages (from matplotlib>=2.1.2->seaborn) (2.8.1)\n",
      "Requirement already satisfied: cycler>=0.10 in /home/martalo/miniconda3/envs/my_new_env_name/lib/python3.6/site-packages (from matplotlib>=2.1.2->seaborn) (0.10.0)\n",
      "Requirement already satisfied: pytz>=2017.2 in /home/martalo/miniconda3/envs/my_new_env_name/lib/python3.6/site-packages (from pandas>=0.22.0->seaborn) (2020.1)\n",
      "Requirement already satisfied: six>=1.5 in /home/martalo/miniconda3/envs/my_new_env_name/lib/python3.6/site-packages (from python-dateutil>=2.1->matplotlib>=2.1.2->seaborn) (1.15.0)\n"
     ]
    }
   ],
   "source": [
    "import os,sys,inspect\n",
    "\n",
    "path_to_project=\"/home/martalo/Documentos/TFM/GPCR_variants\"\n",
    "resultspath=\"/home/martalo/Documentos/TFM/GPCR_variants/Results/studied_GPCR_vars\"\n",
    "dictpath=\"/home/martalo/Documentos/TFM/GPCR_variants/Results/gpcr_to_pdb/\"\n",
    "currentdir = os.path.dirname(os.path.abspath(inspect.getfile(inspect.currentframe())))\n",
    "parentdir = os.path.dirname(currentdir)\n",
    "sys.path.insert(0,parentdir) \n",
    "!{sys.executable} -m pip install pandas\n",
    "!{sys.executable} -m pip install scipy\n",
    "!{sys.executable} -m pip install bioservices\n",
    "!{sys.executable} -m pip install biopython\n",
    "!{sys.executable} -m pip install xlrd\n",
    "\n",
    "import pandas as pd\n",
    "import numpy as np\n",
    "from scipy.cluster.hierarchy import dendrogram, linkage\n",
    "from scipy.spatial.distance import pdist, squareform\n",
    "import urllib\n",
    "\n",
    "import mdtraj as md\n",
    "import itertools\n",
    "from htmd.ui import *\n",
    "from htmd.config import config\n",
    "config(viewer='webgl')\n",
    "import requests\n",
    "import os\n",
    "from matplotlib.ticker import FormatStrFormatter\n",
    "\n",
    "!{sys.executable} -m pip install seaborn\n",
    "import seaborn as sns\n",
    "import matplotlib.pyplot as plt\n",
    "import math\n",
    "import csv\n",
    "import re\n",
    "\n",
    "import analysis_common_functions as anls"
   ]
  },
  {
   "cell_type": "code",
   "execution_count": 2,
   "metadata": {},
   "outputs": [
    {
     "name": "stdout",
     "output_type": "stream",
     "text": [
      "   Number               Family                       Subamily  \\\n",
      "0       0  Aminergic receptors  5-Hydroxytryptamine receptors   \n",
      "1       1  Aminergic receptors  5-Hydroxytryptamine receptors   \n",
      "2       2  Aminergic receptors  5-Hydroxytryptamine receptors   \n",
      "3       3  Aminergic receptors  5-Hydroxytryptamine receptors   \n",
      "4       4  Aminergic receptors  5-Hydroxytryptamine receptors   \n",
      "\n",
      "                              Name  Short Uniprot ID Uniprot entry  \\\n",
      "0  5-hydroxytryptamine receptor 1A  HTR1A     P08908   5ht1a_human   \n",
      "1  5-hydroxytryptamine receptor 1A  HTR1A     P08908   5ht1a_human   \n",
      "2  5-hydroxytryptamine receptor 1A  HTR1A     P08908   5ht1a_human   \n",
      "3  5-hydroxytryptamine receptor 1A  HTR1A     P08908   5ht1a_human   \n",
      "4  5-hydroxytryptamine receptor 1A  HTR1A     P08908   5ht1a_human   \n",
      "\n",
      "                                      Struc             gene         varID  \\\n",
      "0  [Model]: 6G79 (Active) & 4IAQ (Inactive)  ENSG00000178394   rs752821044   \n",
      "1  [Model]: 6G79 (Active) & 4IAQ (Inactive)  ENSG00000178394   rs758965208   \n",
      "2  [Model]: 6G79 (Active) & 4IAQ (Inactive)  ENSG00000178394   rs752001226   \n",
      "3  [Model]: 6G79 (Active) & 4IAQ (Inactive)  ENSG00000178394   rs781594054   \n",
      "4  [Model]: 6G79 (Active) & 4IAQ (Inactive)  ENSG00000178394  rs1337905645   \n",
      "\n",
      "   ... diseaseId  score diseaseName related_diseases disease PTM  \\\n",
      "0  ...         ?      ?           ?              NaN      No  No   \n",
      "1  ...         ?      ?           ?              NaN      No  No   \n",
      "2  ...         ?      ?           ?              NaN      No  No   \n",
      "3  ...         ?      ?           ?              NaN      No  No   \n",
      "4  ...         ?      ?           ?              NaN      No  No   \n",
      "\n",
      "  Modified Residue Glycosylation Lipidation Disulfide Bond  \n",
      "0              NaN           NaN        NaN            NaN  \n",
      "1              NaN           NaN        NaN            NaN  \n",
      "2              NaN           NaN        NaN            NaN  \n",
      "3              NaN           NaN        NaN            NaN  \n",
      "4              NaN           NaN        NaN            NaN  \n",
      "\n",
      "[5 rows x 31 columns]\n"
     ]
    },
    {
     "name": "stderr",
     "output_type": "stream",
     "text": [
      "/home/martalo/miniconda3/envs/my_new_env_name/lib/python3.6/site-packages/IPython/core/interactiveshell.py:3072: DtypeWarning: Columns (27,29) have mixed types. Specify dtype option on import or set low_memory=False.\n",
      "  interactivity=interactivity, compiler=compiler, result=result)\n"
     ]
    }
   ],
   "source": [
    "# First read the data file:\n",
    "# build a data frame\n",
    "varDataFile=\"PTM_IMPACT/vars_A_impact_ptm_role4.csv\"\n",
    "df = pd.read_csv(os.path.join(resultspath,varDataFile), delimiter =\";\") \n",
    "print(df.head()) "
   ]
  },
  {
   "cell_type": "code",
   "execution_count": 3,
   "metadata": {},
   "outputs": [
    {
     "name": "stdout",
     "output_type": "stream",
     "text": [
      "Total number of GPCRs(rows of heatmap):  287\n"
     ]
    }
   ],
   "source": [
    "# y axis, names of the class A receptors. Ex: '5-hydroxytryptamine receptor 1a (HTR1A)'\n",
    "all_gpcrs_axes_set=set()\n",
    "long=df['Name'].tolist()\n",
    "short=df['Short'].tolist()\n",
    "for l, s in list(zip(long, short)):    \n",
    "    all_gpcrs_axes_set.add(\"%s (%s)\" % (l,s))\n",
    "all_gpcrs_axes_list=list(all_gpcrs_axes_set)\n",
    "\n",
    "# order y-axis by alphabeticall order\n",
    "all_gpcrs_axes=sorted(all_gpcrs_axes_list, key=str.lower)\n",
    "print('Total number of GPCRs(rows of heatmap): ',len(all_gpcrs_axes))"
   ]
  },
  {
   "cell_type": "markdown",
   "metadata": {},
   "source": [
    "## 1. Score analysis\n",
    "Define the data frame, GPCR in the y axis, positions in the x axis. The colors will be: pale (score 0) for bening MVs, orange (1) for possibly damaging, red (2) damaging, and finally, white (3) for the ones that do not have information."
   ]
  },
  {
   "cell_type": "code",
   "execution_count": 4,
   "metadata": {},
   "outputs": [],
   "source": [
    "# x axis, positions of the residues that form the CM \n",
    "naBS=['2x50', '3x39', '7x45', '7x46'] # Sodium binding site\n",
    "ionicLock=['3x50', '6x30'] # Ionic lock\n",
    "rotTogg=['6x48'] # Rotamer toggle switch\n",
    "cm_gnum= naBS + ionicLock + rotTogg # all positions in a list\n",
    "consMotifs = [naBS, ionicLock, rotTogg] # all conserved motifs, list if lists\n",
    "\n",
    "consMotif = {'naBS':['2x50', '3x39', '7x45', '7x46'], 'ionicLock':['3x50', '6x30'], 'rotTogg':['6x48']} # dictionary\n",
    "\n",
    "# build a data frame to display the heatmaps\n",
    "gpcr_cmpos=anls.build_dataFrame(cm_gnum)\n",
    "# cols are the residues of the binding site of all GPCRs, the rows are the names\n",
    "# of the class A GPCRs\n",
    "# initially all the values of the matrix set to 3 (that will correspond to the cells without data)\n",
    "\n",
    "# Now we have to fill in the df with 0,1,2 depending on the impact score:\n",
    "# gpcr_bspos[cmpos][gpcrname]= 0,1 or 2\n",
    "anls.fill_in_dataFrame(gpcr_cmpos, cm_gnum, df)\n",
    "\n",
    "#display the result as a heatmap\n",
    "# anls.heatmap_only(gpcr_cmpos)"
   ]
  },
  {
   "cell_type": "markdown",
   "metadata": {},
   "source": [
    "Now we will add the option of number of variants order and the sum by column and row. First, sum by row, order by number of varinats or not. We will do the separation score 1 and score 2. "
   ]
  },
  {
   "cell_type": "code",
   "execution_count": 5,
   "metadata": {},
   "outputs": [],
   "source": [
    "# Sum variants of each GPCR\n",
    "# Change the number to display the sum of possibly damaging (1) or damaging (2)\n",
    "# Add 'False' (4th element)  to hide the heatmap, otherwise the barplot will appear below\n",
    "# Add 'True' (5th element) if you want to order the columns by increasing number of MVs\n",
    "\n",
    "# anls.heatmap_horizontal_sum(gpcr_cmpos,cm_gnum,2, False)"
   ]
  },
  {
   "cell_type": "markdown",
   "metadata": {},
   "source": [
    "Now we will put in the same barplot both score 1 and score 2. Without the option to order by incresing number of variants.\n",
    "\n",
    "ADD THE OPTION TO SORT! If needed, by now is only alphabetically"
   ]
  },
  {
   "cell_type": "code",
   "execution_count": 6,
   "metadata": {},
   "outputs": [],
   "source": [
    "# Sum variants of each GPCR, barplot below heatmap, with damaging (red) and possibly damaging (orange)\n",
    "# anls.heatmap_horizontal_sum_mixed(gpcr_cmpos)"
   ]
  },
  {
   "cell_type": "code",
   "execution_count": 7,
   "metadata": {},
   "outputs": [],
   "source": [
    "# add True as 3rd parameter to display the barplot downwards\n",
    "# anls.heatmap_vert_sum_mixed(gpcr_cmpos,cm_gnum)"
   ]
  },
  {
   "cell_type": "markdown",
   "metadata": {},
   "source": [
    "## 2. Disease Analysis"
   ]
  },
  {
   "cell_type": "code",
   "execution_count": 8,
   "metadata": {},
   "outputs": [],
   "source": [
    "gpcr_cmpos_dis=anls.build_dataFrame(cm_gnum,0)\n",
    "anls.fill_in_dataFrame_diseases(gpcr_cmpos_dis,cm_gnum,df)\n",
    "# anls.heatmap_only_diseases(gpcr_cmpos_dis)"
   ]
  },
  {
   "cell_type": "markdown",
   "metadata": {},
   "source": [
    "+ Variant in MCR1, rs1805006, 2x50: related with 8 diseases, skin hair problems. Tagged as DAMAGING (similar).\n",
    "+ GNRHR, rs10489383, 6x30: related with 6 diseases, hypogonadism and extrange things. Tagged as DAMAGING (changed)."
   ]
  },
  {
   "cell_type": "markdown",
   "metadata": {},
   "source": [
    "### 2.1 Diasese heatmap compact"
   ]
  },
  {
   "cell_type": "code",
   "execution_count": 9,
   "metadata": {},
   "outputs": [],
   "source": [
    "def computeDimensions(listGnum,df,parameter,yaxis=all_gpcrs_axes):\n",
    "    '''Print GPCRs and Pos that have dis/PTM (depending on the parameter)\n",
    "    return a list len of GPCRs and len of pos'''\n",
    "    dim=[]\n",
    "    gpcrDis=set()\n",
    "    posDis=set()\n",
    "    p=re.compile(\".*\\((\\w*)\\)\")\n",
    "    for gpcrname in yaxis:# iteration over the GPCRs\n",
    "        gpcr=re.search(p,gpcrname).group(1) # only the short name\n",
    "        for ibspos in listGnum: # iterate over positions\n",
    "            disList=df.loc[(df.Short == gpcr) & (df.GPCRdb == ibspos), parameter].tolist()\n",
    "            if len(disList)>0:\n",
    "                if 'Yes' in disList or 'yes' in disList:\n",
    "                    print(ibspos, gpcr,disList)\n",
    "                    gpcrDis.add(gpcr)\n",
    "                    posDis.add(ibspos)\n",
    "    print('Set of GPCrs and len',gpcrDis,len(gpcrDis))\n",
    "    print('Set of positions and len',posDis,len(posDis))\n",
    "    dim.append(len(gpcrDis))\n",
    "    dim.append(len(posDis))\n",
    "    return dim\n",
    "\n",
    "# dimension=computeDimensions(cm_gnum,df,'disease')\n",
    "dimension=[12, 6]\n",
    "gpcrsDis=['MC4R', 'EDNRB', 'LHCGR', 'AGTR1', 'AVPR2', 'MC2R', 'GNRHR', 'P2RY12', 'OPN2', 'MC1R', 'PROKR2', 'GALR2']\n",
    "# posDis=['6x30', '6x48', '2x50', '3x39', '7x46', '3x50']\n",
    "# posDis.sort()\n",
    "posDis=['2x50', '3x39', '3x50', '6x30', '6x48', '7x46']\n",
    "# print(posDis)"
   ]
  },
  {
   "cell_type": "code",
   "execution_count": 10,
   "metadata": {},
   "outputs": [],
   "source": [
    "def fill_in_dataFrame_diseasesOnly(dataFrame, listGnum, df,disPos,disGpcr,yaxis=all_gpcrs_axes):\n",
    "    '''Fill in the df with 0,1,2,.. depending on the number of related diseases.\n",
    "    MAYBE tune with T/F to only the vars with impact score 2'''\n",
    "    p=re.compile(\".*\\((\\w*)\\)\")\n",
    "    difNums=set()\n",
    "    for gpcrname in yaxis:# iteration over the GPCRs\n",
    "        gpcr=re.search(p,gpcrname).group(1) # only the short name\n",
    "        for ibspos in listGnum: # iterate over positions\n",
    "            if ibspos in disPos and gpcr in disGpcr:\n",
    "                value=df.loc[(df.Short == gpcr) & (df.GPCRdb == ibspos), 'related_diseases'].tolist()\n",
    "                disList=df.loc[(df.Short == gpcr) & (df.GPCRdb == ibspos), 'disease'].tolist()\n",
    "                if len(disList)>0:\n",
    "                    if 'Yes' in disList or 'yes' in disList:\n",
    "                        dis='Yes'#Yes/No\n",
    "                    else:\n",
    "                        dis='No'\n",
    "                else:\n",
    "                    dis='No'\n",
    "                if len(value)>0:#if there are matches, non-void list   \n",
    "                    numValues=[x for x in value if x>=0]#avoid NaN\n",
    "                    if numValues:\n",
    "                        valueOk=max(numValues)\n",
    "#                         print(gpcr, ibspos, value, valueOk)\n",
    "    #                     print('Max value',valueOk)\n",
    "                if dis=='Yes': \n",
    "                    dataFrame[ibspos][gpcr]=valueOk # we will take tha max in case there\n",
    "                    difNums.add(valueOk)\n",
    "#                     print(ibspos, gpcrname,dataFrame[ibspos][gpcr])\n",
    "                    # are two rows matching\n",
    "                    #  if value equal to NaN, te cell will be zero\n",
    "    return difNums\n",
    "\n",
    "\n",
    "disOnly=pd.DataFrame(columns=posDis,index=gpcrsDis).fillna(value=0)\n",
    "difNumsResDis=fill_in_dataFrame_diseasesOnly(disOnly,cm_gnum,df,posDis,gpcrsDis)\n",
    "# anls.heatmap_only_diseases(disOnly)"
   ]
  },
  {
   "cell_type": "code",
   "execution_count": 11,
   "metadata": {},
   "outputs": [],
   "source": [
    "def pos_diseasesOnly(listGnum, df,yaxis=all_gpcrs_axes):\n",
    "    '''Build list of positions that have related diseases'''\n",
    "    p=re.compile(\".*\\((\\w*)\\)\")\n",
    "    posList=[]\n",
    "    for gpcrname in yaxis:# iteration over the GPCRs\n",
    "        gpcr=re.search(p,gpcrname).group(1) # only the short name\n",
    "        for ibspos in listGnum: # iterate over positions\n",
    "            disList=df.loc[(df.Short == gpcr) & (df.GPCRdb == ibspos), 'disease'].tolist()\n",
    "            if len(disList)>0:\n",
    "                dis=disList[0]#Yes/No\n",
    "            else:\n",
    "                dis='Out region'\n",
    "            if dis=='Yes':                     \n",
    "                posList.append(ibspos)\n",
    "#                     print(ibspos, gpcrname,dataFrame[ibspos][gpcr])\n",
    "                # are two rows matching\n",
    "                #  if value equal to NaN, te cell will be zero\n",
    "    return posList\n",
    "\n",
    "\n",
    "# listPos=pos_diseasesOnly(cm_gnum,df)\n",
    "# # listPos=['5x461', '7x31', '4x56', '3x37', '5x36', '7x42', '23x49', '2x60', '5x39', '2x53', '3x35', '2x53', '7x31', '3x32', '45x52', '3x28', '5x44', '6x48', '2x53', '23x49', '3x40', '6x52', '2x63', '7x42', '6x44', '5x43', '5x44', '3x25', '3x28', '5x47', '3x29', '2x63', '3x40', '4x56', '4x57', '5x461', '6x59', '2x63', '2x59', '2x63', '45x52', '6x55', '7x41', '7x35', '7x42', '4x57', '6x44', '45x50']\n",
    "# print(listPos)\n",
    "# setPos=set()# convert list to set to check how many positions are related with diseases\n",
    "# for element in listPos:\n",
    "#     setPos.add(element)\n",
    "# print(len(listPos), len(setPos))"
   ]
  },
  {
   "cell_type": "code",
   "execution_count": 12,
   "metadata": {},
   "outputs": [
    {
     "name": "stderr",
     "output_type": "stream",
     "text": [
      "2021-04-14 12:40:43,238 - numexpr.utils - INFO - NumExpr defaulting to 4 threads.\n"
     ]
    },
    {
     "data": {
      "image/png": "[encoded data removed]",
      "text/plain": [
       "<Figure size 360x360 with 2 Axes>"
      ]
     },
     "metadata": {
      "needs_background": "light"
     },
     "output_type": "display_data"
    }
   ],
   "source": [
    "# heatmap and barplots graphs\n",
    "def heatmap_only_diseases_nonZero(dataFrame,colorPalette='YlOrRd'):\n",
    "    '''Plot the data frame than contains the color scale for the diseases'''\n",
    "    color_map_sns=sns.color_palette(colorPalette,n_colors=40).as_hex()\n",
    "    fig, ax = plt.subplots(figsize=(5,5))\n",
    "    color_map=color_map_sns[14:]\n",
    "    color_map.insert(0,'#d7dbdd')\n",
    "    \n",
    "    \n",
    "    ax2=sns.heatmap(dataFrame, cmap=color_map, linewidths=0.1, annot=False, \n",
    "        square=True,xticklabels=True, yticklabels=True,ax=ax,cbar=True,cbar_kws={\"shrink\": .99,'label':'Number of associated diseases'})\n",
    "    \n",
    "    ax2.tick_params(bottom=True, top=True, labelbottom=True, labeltop=True)\n",
    "#     ax2.xaxis.set_ticks_position('top')\n",
    "    \n",
    "    plt.xticks(rotation=90) \n",
    "    \n",
    "    ax2.set(xlabel='Positions of conserved motifs', ylabel='GPCRs')\n",
    "    plt.show()\n",
    "    return None\n",
    "\n",
    "disOnlyClus=anls.cluster_df(disOnly)#cluster the dataframe\n",
    "heatmap_only_diseases_nonZero(disOnlyClus,'Blues')\n",
    "# disease/heatmapOnlyDis.png"
   ]
  },
  {
   "cell_type": "code",
   "execution_count": 13,
   "metadata": {},
   "outputs": [
    {
     "data": {
      "text/plain": [
       "{1.0, 2.0, 3.0, 6.0, 8.0}"
      ]
     },
     "execution_count": 13,
     "metadata": {},
     "output_type": "execute_result"
    }
   ],
   "source": [
    "# numer of associated diseases of the previous heatmap\n",
    "difNumsResDis"
   ]
  },
  {
   "cell_type": "markdown",
   "metadata": {},
   "source": [
    "## 3. PTM"
   ]
  },
  {
   "cell_type": "code",
   "execution_count": 16,
   "metadata": {},
   "outputs": [
    {
     "data": {
      "text/plain": [
       "False"
      ]
     },
     "execution_count": 16,
     "metadata": {},
     "output_type": "execute_result"
    }
   ],
   "source": [
    "gpcr_cmpos_ptm=anls.build_dataFrame(cm_gnum,0) # first all Zeros\n",
    "# now fill in the df 'gpcr_bspos_ptm' with '1' if there is a 'yes' in the original dataframe\n",
    "ptmValues=anls.fill_in_dataFrame_ptm(gpcr_cmpos_ptm,cm_gnum,df)\n",
    "ptmValues"
   ]
  },
  {
   "cell_type": "markdown",
   "metadata": {},
   "source": [
    "No PTMs in the conserved motifs."
   ]
  },
  {
   "cell_type": "markdown",
   "metadata": {},
   "source": [
    "## 4. 'Total' analysis (classA): score, disease, PTM\n",
    "- If score 2: RED -> 2\n",
    "- If score 1: ORANGE -> 1\n",
    "- IF score 0: PALE -> 0\n",
    "- If no-score: WHITE -> 3 \n",
    "- If score 2 + disease related: color BLUE -> cell 4\n",
    "- If score 2 + PTM: color PINK -> cell 5\n",
    "- If score 2 + disease related + PTM: color BLACK -> cell 6"
   ]
  },
  {
   "cell_type": "code",
   "execution_count": 17,
   "metadata": {},
   "outputs": [],
   "source": [
    "gpcr_cmpos_total=anls.build_dataFrame(cm_gnum,0)\n",
    "colorsToHeatmap=anls.fill_in_dataFrame_total(gpcr_cmpos_total,gpcr_cmpos,gpcr_cmpos_dis,gpcr_cmpos_ptm,cm_gnum)\n",
    "# anls.heatmap_only_total(gpcr_cmpos_total, colorsToHeatmap)"
   ]
  },
  {
   "cell_type": "code",
   "execution_count": 18,
   "metadata": {},
   "outputs": [
    {
     "data": {
      "image/png": "[encoded data removed]",
      "text/plain": [
       "<Figure size 216x360 with 1 Axes>"
      ]
     },
     "metadata": {
      "needs_background": "light"
     },
     "output_type": "display_data"
    }
   ],
   "source": [
    "anls.heatmap_vert_sum_mixed_total_allColors(gpcr_cmpos_total,cm_gnum,True,True,False, True, True, 0.9,3 )\n",
    "# legendOut, downwards, blue, notPink, notBlack\n",
    "#classA/vertical.png\n"
   ]
  },
  {
   "cell_type": "code",
   "execution_count": 20,
   "metadata": {},
   "outputs": [
    {
     "data": {
      "image/png": "[encoded data removed]",
      "text/plain": [
       "<Figure size 216x360 with 1 Axes>"
      ]
     },
     "metadata": {
      "needs_background": "light"
     },
     "output_type": "display_data"
    }
   ],
   "source": [
    "# to put in the part of the 'mapping of dam-pos-ben' as a substitution, take out diseases\n",
    "anls.heatmap_vert_sum_mixed_total_allColors(gpcr_cmpos_total,cm_gnum,True,False,True, True, True, 0.9,3 )\n",
    "# legendOut, downwards, blue, notPink, notBlack\n",
    "#classA/verticalUP.png"
   ]
  },
  {
   "cell_type": "markdown",
   "metadata": {},
   "source": [
    "## 5. Only aminergic: score, disease, PTM"
   ]
  },
  {
   "cell_type": "code",
   "execution_count": null,
   "metadata": {},
   "outputs": [],
   "source": [
    "families=['5-Hydroxytryptamine receptors', 'Acetylcholine receptors (muscarinic)', 'Adrenoceptors', 'Dopamine receptors', 'Histamine receptors','Trace amine receptor']\n",
    "aminergicSet=set()\n",
    "aminergic=[]\n",
    "aminergicLong=[]\n",
    "\n",
    "dataFile=\"myprot_list_struc.csv\"\n",
    "with open(os.path.join(resultspath,dataFile),\"r\") as myvarfile:\n",
    "    myvarread = csv.reader(myvarfile, delimiter=';') \n",
    "    for myrow in myvarread:\n",
    "        score=0\n",
    "        if myrow[0]=='Family':\n",
    "            continue\n",
    "        else:\n",
    "            if myrow[0] in families:\n",
    "                gpcr=myrow[1]+' ('+myrow[2]+')'\n",
    "                aminergicSet.add(myrow[2])\n",
    "                aminergicLong.append(gpcr)\n",
    "myvarfile.close()    \n",
    "aminergic=list(aminergicSet)     \n",
    "# delete the ones without variant info: \n",
    "aminergicLong.remove('5-hydroxytryptamine receptor 5B, pseudogene (HTR5BP)')\n",
    "\n",
    "len(aminergic)\n",
    "# print(aminergicLong)"
   ]
  },
  {
   "cell_type": "code",
   "execution_count": null,
   "metadata": {},
   "outputs": [],
   "source": [
    "gpcr_cmpos_total_amin=anls.build_dataFrame(cm_gnum,0,aminergicLong)\n",
    "anls.filter_aminergic(gpcr_cmpos_total,gpcr_cmpos_total_amin,aminergic,cm_gnum)"
   ]
  },
  {
   "cell_type": "code",
   "execution_count": null,
   "metadata": {},
   "outputs": [],
   "source": [
    "anls.heatmap_vert_sum_mixed_total_allColors(gpcr_cmpos_total_amin,cm_gnum,True,True, True, True, True, 0.9,3) # legendOut, downwards, notBlue\n",
    "#amin/amin_vertical.png, se le tiene que cortar la leyenda"
   ]
  },
  {
   "cell_type": "markdown",
   "metadata": {},
   "source": [
    "## 5. Clustering\n",
    "### 5.1 Clustering Class A, heatmap and horizontal sum"
   ]
  },
  {
   "cell_type": "code",
   "execution_count": null,
   "metadata": {},
   "outputs": [],
   "source": [
    "gpcr_cmpos=anls.cluster_df(gpcr_cmpos)\n",
    "gpcr_cmpos_count=dict(zip(all_gpcrs_axes,[0]*len(all_gpcrs_axes)))\n",
    "gpcr_cmpos_count_df=pd.DataFrame(list(gpcr_cmpos_count.items()),\n",
    "                      columns=['GPCR','Count'])\n",
    "# build dictionaries and df with only damaging:\n",
    "(gpcr_cmpos_count_damaging_df,df_damaging)=anls.get_count_data(2,gpcr_cmpos)#damaging\n",
    "# and only possibly damaging and damaging\n",
    "(gpcr_cmpos_count_all_df,df_all)=anls.get_count_data(1,gpcr_cmpos)# possibly damaging and damaging\n",
    "\n",
    "sorter=gpcr_cmpos.index\n",
    "gpcr_cmpos_count_df=anls.order_df_by_sorterlist(sorter,gpcr_cmpos_count_df)\n",
    "gpcr_cmpos_count_all_df=anls.order_df_by_sorterlist(sorter,gpcr_cmpos_count_all_df)\n",
    "gpcr_cmpos_count_damaging_df=anls.order_df_by_sorterlist(sorter,gpcr_cmpos_count_damaging_df)\n",
    "\n",
    "# visualize the clustered heatmap and horizontal barplots without dis, ptm info\n",
    "# anls.heatmap_only(gpcr_cmpos)\n",
    "# heatmap_horizontal_sum_mixed_cluster(gpcr_cmpos, gpcr_cmpos_count_all_df,gpcr_cmpos_count_damaging_df )"
   ]
  },
  {
   "cell_type": "code",
   "execution_count": null,
   "metadata": {},
   "outputs": [],
   "source": [
    "# build new dataframe clusterized and with dis/ptm info\n",
    "gpcr_cmpos_total_clus=pd.DataFrame(index=gpcr_cmpos.index, columns=gpcr_cmpos.columns).fillna(value=0)\n",
    "colorsToHeatmap=anls.fill_in_dataFrame_total(gpcr_cmpos_total_clus,gpcr_cmpos,gpcr_cmpos_dis,gpcr_cmpos_ptm,cm_gnum)\n"
   ]
  },
  {
   "cell_type": "code",
   "execution_count": null,
   "metadata": {},
   "outputs": [],
   "source": [
    "anls.heatmap_only_total(gpcr_cmpos_total_clus,'Positions of conserved motifs',\"Class A GPCRs\", colorsToHeatmap)\n",
    "# classA/heatmap.png"
   ]
  },
  {
   "cell_type": "code",
   "execution_count": null,
   "metadata": {},
   "outputs": [],
   "source": [
    "# horizontal barplot class A clusterized\n",
    "def get_counts(dataFrame, varType, yaxes=all_gpcrs_axes):\n",
    "    ''' Build a dictionary and a data frame with the values that are in the 'range'\n",
    "    of the corresponding varType, coming from the orignal dataframe'''\n",
    "    # select the correct scores for each varType\n",
    "    scores={'benign':[0,1,2,4,5,6],'posDam':[1,2,4,5,6],'dam':[2,4,5,6], 'disPTMjoin':[4,5,6], 'PTMjoin':[5,6], 'join':[6]}\n",
    "    myList=scores[varType]\n",
    "    #build dict with values as 0\n",
    "    gpcr_pos_count_sel=dict(zip(yaxes,[0]*len(yaxes)))\n",
    "    for gpcridx in gpcr_pos_count_sel.keys():# iterate over the GPCR names\n",
    "        # count how many times the cells has a valueof the correct list \n",
    "        count=len([varval for varval in dataFrame.loc[gpcridx].values if varval in myList])\n",
    "        gpcr_pos_count_sel[gpcridx]=count\n",
    "        \n",
    "    #build new data frame\n",
    "    gpcr_pos_count_sel_df=pd.DataFrame(list(gpcr_pos_count_sel.items()),\n",
    "                          columns=['GPCR','Count'])\n",
    "\n",
    "    df_sel=pd.DataFrame.from_dict(gpcr_pos_count_sel,orient=\"index\").T\n",
    "    return (gpcr_pos_count_sel_df,df_sel)\n",
    "\n",
    "def heatmap_total_horizontal_sum_mixed_cluster(dataFrame, small=False, ptm=False, disPTM=False, legendOut=False):\n",
    "    ''' Build the horizontal barplot, sum for each GPCR, with the disease and PTM info.\n",
    "    Add True as 2nd parameter if the heatmap will be for only aminergic (smaller df).\n",
    "    Add True as 3rd parameter if there are ptm values to be displayed (pink).\n",
    "    Add True as 4th parameter if there are Dis + ptm values to be displayed (black).\n",
    "    Add True as 5th parameter if you want the legend out of the plot'''\n",
    "    # build dictionaries and df with only damaging:\n",
    "    rows=list(dataFrame.index.values)\n",
    "    (gpcr_ibspos_count_ben_df,df_ben)=get_counts(dataFrame,'benign',rows)#bening\n",
    "    (gpcr_ibspos_count_damaging_df,df_damaging)=get_counts(dataFrame,'dam',rows)#damaging\n",
    "    # and only possibly damaging and damaging\n",
    "    (gpcr_ibspos_count_all_df,df_all)=get_counts(dataFrame,'posDam',rows)# possibly damaging and damaging\n",
    "    \n",
    "    # dam+dis\n",
    "    (gpcr_ibspos_count_dis_df,df_dis)=get_counts(dataFrame,'disPTMjoin',rows)#damaging+disease\n",
    "    # dam+ptm\n",
    "    (gpcr_ibspos_count_ptm_df,df_ptm)=get_counts(dataFrame,'PTMjoin',rows)#damaging+ptm\n",
    "    # dam+dis+ptm\n",
    "    (gpcr_ibspos_count_dis_ptm_df,df_dis_ptm)=get_counts(dataFrame,'join',rows)#damaging+dis+ptm\n",
    "\n",
    "    abundance_dist_damaging_df=anls.get_count_dist(gpcr_ibspos_count_damaging_df,df_damaging)\n",
    "    abundance_dist_all_df=anls.get_count_dist(gpcr_ibspos_count_all_df,df_all)\n",
    "    abundance_dist_bening_df=anls.get_count_dist(gpcr_ibspos_count_ben_df,df_ben)\n",
    "    \n",
    "    abundance_dist_dis_df=anls.get_count_dist(gpcr_ibspos_count_dis_df,df_dis)\n",
    "    abundance_dist_ptm_df=anls.get_count_dist(gpcr_ibspos_count_ptm_df,df_ptm)\n",
    "    abundance_dist_dis_ptm_df=anls.get_count_dist(gpcr_ibspos_count_dis_ptm_df,df_dis_ptm)\n",
    "    \n",
    "    #reprentation of both dataframes in a barplot\n",
    "    grid = plt.GridSpec(1, 1)\n",
    "    if not small:\n",
    "        fig, ax = plt.subplots(figsize=(4,40))\n",
    "    else: \n",
    "        fig, ax = plt.subplots(figsize=(6,11))\n",
    "    #benign\n",
    "    ax1=plt.subplot(grid[0, 0])\n",
    "    axB = sns.barplot(data=gpcr_ibspos_count_ben_df , x=\"Count\",y=\"GPCR\",color=\"#DDC8A6\",label=\"Benign variants\")\n",
    "    axB.get_yaxis()\n",
    "    axB.xaxis.set_ticks_position('top')\n",
    "    #axB.xaxis.set_label_position('top') \n",
    "    if small: \n",
    "        anls.change_width_h(axB, 0.9)\n",
    "        \n",
    "    # pos dam\n",
    "    ax2=plt.subplot(grid[0, 0])\n",
    "    axB = sns.barplot(data=gpcr_ibspos_count_all_df , x=\"Count\",y=\"GPCR\",color=\"#F3752B\",label=\"Possibly-damaging variants\")\n",
    "    axB.get_yaxis()\n",
    "    axB.xaxis.set_ticks_position('top')\n",
    "    #axB.xaxis.set_label_position('top') \n",
    "    if small: \n",
    "        anls.change_width_h(axB, 0.9)\n",
    "        \n",
    "    # dam\n",
    "    ax3=plt.subplot(grid[0, 0])\n",
    "    axB = sns.barplot(data=gpcr_ibspos_count_damaging_df , x=\"Count\",y=\"GPCR\",color=\"#A20021\",label=\"Damaging variants\")\n",
    "    axB.get_yaxis()\n",
    "    axB.xaxis.set_label_text(\"Number of variants\")\n",
    "    ax2.tick_params(bottom=True, top=True, labelbottom=True, labeltop=True)\n",
    "    #axB.xaxis.set_label_position('top') \n",
    "    if small: \n",
    "        anls.change_width_h(axB, 0.9)\n",
    "    # dis\n",
    "    ax4=plt.subplot(grid[0, 0])\n",
    "    axB = sns.barplot(data=gpcr_ibspos_count_dis_df , x=\"Count\",y=\"GPCR\",color=\"#09E9FB\",label=\"Damaging variants related with diseases\")\n",
    "    axB.get_yaxis()\n",
    "    axB.xaxis.set_label_text(\"Number of variants\")\n",
    "    ax2.tick_params(bottom=True, top=True, labelbottom=True, labeltop=True)\n",
    "    #axB.xaxis.set_label_position('top') \n",
    "    if small: \n",
    "        anls.change_width_h(axB, 0.9)\n",
    "    \n",
    "    # PTM\n",
    "    if ptm:\n",
    "        ax5=plt.subplot(grid[0, 0])\n",
    "        axB = sns.barplot(data=gpcr_ibspos_count_ptm_df , x=\"Count\",y=\"GPCR\",color=\"#F70F9A\",label=\"Damaging variants at PTMs\")\n",
    "        axB.get_yaxis()\n",
    "        axB.xaxis.set_label_text(\"Number of variants\")\n",
    "        ax2.tick_params(bottom=True, top=True, labelbottom=True, labeltop=True)\n",
    "        #axB.xaxis.set_label_position('top') \n",
    "        if small: \n",
    "            anls.change_width_h(axB, 0.9)\n",
    "    # PTM+Dis    \n",
    "    if disPTM:\n",
    "        ax6=plt.subplot(grid[0, 0])\n",
    "        axB = sns.barplot(data=gpcr_ibspos_count_dis_ptm_df , x=\"Count\",y=\"GPCR\",color=\"#030303\",label=\"Damaging variants disease related at PTMs\")\n",
    "        axB.get_yaxis()\n",
    "        axB.xaxis.set_label_text(\"Number of variants\")\n",
    "        ax2.tick_params(bottom=True, top=True, labelbottom=True, labeltop=True)\n",
    "        #axB.xaxis.set_label_position('top') \n",
    "        if small: \n",
    "            anls.change_width_h(axB, 0.9)\n",
    "#     if legendOut:\n",
    "#         plt.legend(bbox_to_anchor=(1.05, 1), loc=2, borderaxespad=0.)\n",
    "#     else:\n",
    "#         plt.legend()\n",
    "        \n",
    "    axB.get_yaxis().set_visible(False) # not visible\n",
    "    plt.show()\n",
    "    return None\n",
    "heatmap_total_horizontal_sum_mixed_cluster(gpcr_cmpos_total_clus,False,False,False,True)#non-small, NO PTMs,no Dis+PTM, legend OUT\n",
    "# classA/horizontal.png"
   ]
  },
  {
   "cell_type": "code",
   "execution_count": null,
   "metadata": {},
   "outputs": [],
   "source": [
    "# Small part of the heatmap\n",
    "gpcr_cmpos_total_clus_cut = pd.DataFrame(gpcr_cmpos_total_clus)[8:27].copy(deep=True)\n",
    "\n",
    "def heatmap_only_total_cut(dataFrame,colors,axisText,x=5,y=5):\n",
    "    \n",
    "    '''Plot the data frame than contains the info of the score, diseases and PTM'''    \n",
    "    colormap=[\"#DDC8A6\",\"#F3752B\",\"#A20021\", \"#EDEDF4\"] \n",
    "    if 'blue' in colors: # there are cells with 10\n",
    "        colormap.append( \"#09E9FB\")\n",
    "    if 'pink' in colors:# there are cells with 20\n",
    "        colormap.append( \"#F70F9A\")\n",
    "    if 'black' in colors: # there are cells with 30\n",
    "        colormap.append( \"#030303\")\n",
    "    print(colormap)\n",
    "    fig, ax = plt.subplots(figsize=(x,y))\n",
    "    # bening, poss, dam,nodata, dis,   ptm, dis-ptm\n",
    "    # 0,      1,     2,    3,    4,   5,      6\n",
    "    # pale, orange, red, white, blue, pink, black\n",
    "    ax2=sns.heatmap(dataFrame, cmap=colormap, linewidths=0.1, annot=False, cbar=False,square=True,xticklabels=True, yticklabels=True,ax=ax)\n",
    "    ax2.xaxis.set_ticks_position('top')\n",
    "    ax.set(xlabel=axisText,ylabel='Class A GPCRs')    \n",
    "    ax2.xaxis.set_label_position('top')\n",
    "    plt.xticks(rotation=90)\n",
    "    return None\n",
    "    \n",
    "heatmap_only_total_cut(gpcr_cmpos_total_clus_cut, colorsToHeatmap, 'Positions of conserved motifs',8,8)\n",
    "# classA/heatmapZoom.png\n"
   ]
  },
  {
   "cell_type": "code",
   "execution_count": null,
   "metadata": {},
   "outputs": [],
   "source": [
    "def heatmap_total_horizontal_sum_mixed_cluster_cut(dataFrame, x,y, small=False, dis=False, ptm=False, disPTM=False, legendOut=False, yText=False):\n",
    "    ''' Build the horizontal barplot, sum for each GPCR, with the disease and PTM info.\n",
    "    Add True as 2nd parameter if the heatmap will be for only aminergic (smaller df).\n",
    "    Add True as 3rd parameter if there are ptm values to be displayed (pink).\n",
    "    Add True as 4th parameter if there are Dis + ptm values to be displayed (black).\n",
    "    Add True as 5th parameter if you want the legend out of the plot\n",
    "    dd True as 6th parameter if you want to hide the ylabels'''\n",
    "    # build dictionaries and df with only damaging:\n",
    "    rows=list(dataFrame.index.values)\n",
    "    (gpcr_ibspos_count_ben_df,df_ben)=anls.get_counts(dataFrame,'benign',rows)#bening\n",
    "    (gpcr_ibspos_count_damaging_df,df_damaging)=anls.get_counts(dataFrame,'dam',rows)#damaging\n",
    "    # and only possibly damaging and damaging\n",
    "    (gpcr_ibspos_count_all_df,df_all)=anls.get_counts(dataFrame,'posDam',rows)# possibly damaging and damaging\n",
    "    \n",
    "    # dam+dis\n",
    "    (gpcr_ibspos_count_dis_df,df_dis)=anls.get_counts(dataFrame,'disPTMjoin',rows)#damaging+disease\n",
    "    # dam+ptm\n",
    "    (gpcr_ibspos_count_ptm_df,df_ptm)=anls.get_counts(dataFrame,'PTMjoin',rows)#damaging+ptm\n",
    "    # dam+dis+ptm\n",
    "    (gpcr_ibspos_count_dis_ptm_df,df_dis_ptm)=anls.get_counts(dataFrame,'join',rows)#damaging+dis+ptm\n",
    "\n",
    "    abundance_dist_damaging_df=anls.get_count_dist(gpcr_ibspos_count_damaging_df,df_damaging)\n",
    "    abundance_dist_all_df=anls.get_count_dist(gpcr_ibspos_count_all_df,df_all)\n",
    "    abundance_dist_bening_df=anls.get_count_dist(gpcr_ibspos_count_ben_df,df_ben)\n",
    "    \n",
    "    abundance_dist_dis_df=anls.get_count_dist(gpcr_ibspos_count_dis_df,df_dis)\n",
    "    abundance_dist_ptm_df=anls.get_count_dist(gpcr_ibspos_count_ptm_df,df_ptm)\n",
    "    abundance_dist_dis_ptm_df=anls.get_count_dist(gpcr_ibspos_count_dis_ptm_df,df_dis_ptm)\n",
    "    \n",
    "    #reprentation of both dataframes in a barplot\n",
    "    grid = plt.GridSpec(1, 1)\n",
    "    fig, ax = plt.subplots(figsize=(x,y)) \n",
    "    #benign\n",
    "    ax1=plt.subplot(grid[0, 0])\n",
    "    axB = sns.barplot(data=gpcr_ibspos_count_ben_df , x=\"Count\",y=\"GPCR\",color=\"#DDC8A6\",label=\"Benign variants\")\n",
    "    axB.get_yaxis()\n",
    "    axB.xaxis.set_ticks_position('top')\n",
    "    #axB.xaxis.set_label_position('top') \n",
    "    if small: \n",
    "        anls.change_width_h(axB, 0.9)\n",
    "    if not yText:\n",
    "        axB.get_yaxis().set_visible(False) # not visible\n",
    "        \n",
    "    # pos dam\n",
    "    ax2=plt.subplot(grid[0, 0])\n",
    "    axB = sns.barplot(data=gpcr_ibspos_count_all_df , x=\"Count\",y=\"GPCR\",color=\"#F3752B\",label=\"Possibly-damaging variants\")\n",
    "    axB.get_yaxis()\n",
    "    axB.xaxis.set_ticks_position('top')\n",
    "    #axB.xaxis.set_label_position('top') \n",
    "    if small: \n",
    "        anls.change_width_h(axB, 0.9)\n",
    "        \n",
    "    # dam\n",
    "    ax3=plt.subplot(grid[0, 0])\n",
    "    axB = sns.barplot(data=gpcr_ibspos_count_damaging_df , x=\"Count\",y=\"GPCR\",color=\"#A20021\",label=\"Damaging variants\")\n",
    "    axB.get_yaxis()\n",
    "    axB.xaxis.set_label_text(\"Number of variants\")\n",
    "    axB.xaxis.set_ticks_position('top')\n",
    "    #axB.xaxis.set_label_position('top') \n",
    "    if small: \n",
    "        anls.change_width_h(axB, 0.9)\n",
    "    # dis\n",
    "    if dis:\n",
    "        ax4=plt.subplot(grid[0, 0])\n",
    "        axB = sns.barplot(data=gpcr_ibspos_count_dis_df , x=\"Count\",y=\"GPCR\",color=\"#09E9FB\",label=\"Damaging variants related with diseases\")\n",
    "        axB.get_yaxis()\n",
    "        axB.xaxis.set_label_text(\"Number of variants\")\n",
    "        axB.xaxis.set_ticks_position('top')\n",
    "        #axB.xaxis.set_label_position('top') \n",
    "        if small: \n",
    "            anls.change_width_h(axB, 0.9)\n",
    "    \n",
    "\n",
    "\n",
    "    plt.legend(bbox_to_anchor=(1.05, 1), loc=2, borderaxespad=0.)\n",
    "    plt.show()\n",
    "    return None\n",
    "heatmap_total_horizontal_sum_mixed_cluster_cut(gpcr_cmpos_total_clus_cut,5,8,True,True,True,True)#non-small, PTMs(pink), PTM+Dis(black), legend out\n",
    "#classA/horizontalZoom\n"
   ]
  },
  {
   "cell_type": "code",
   "execution_count": null,
   "metadata": {},
   "outputs": [],
   "source": [
    "heatmap_vert_sum_mixed_total_allColors(gpcr_cmpos_total_clus_cut,cm_gnum,3,True,False) # downwards, notBlue\n",
    "# classA/verticalZoom\n"
   ]
  },
  {
   "cell_type": "markdown",
   "metadata": {},
   "source": [
    "### 5.2  Clustering Aminergic, heatmap and horizontal sum"
   ]
  },
  {
   "cell_type": "code",
   "execution_count": null,
   "metadata": {},
   "outputs": [],
   "source": [
    "gpcr_cmpos_total_amin=anls.cluster_df(gpcr_cmpos_total_amin)#cluster the dataframe\n",
    "\n",
    "rows=list(gpcr_cmpos_total_amin.index.values)\n",
    "gpcr_cmpos_count_amin=dict(zip(aminergicLong,[0]*len(aminergicLong)))\n",
    "gpcr_cmpos_count_amin_df=pd.DataFrame(list(gpcr_cmpos_count_amin.items()),\n",
    "                      columns=['GPCR','Count'])\n",
    "\n",
    "def heatmap_only_total_CM(dataFrame,axisText,x=40,y=40):\n",
    "    '''Plot the data frame than contains the info of the score, diseases and PTM, special for \n",
    "    CM aminergic: no 0 nor 4,5,6'''    \n",
    "    colormap=[\"#F3752B\",\"#A20021\", \"#EDEDF4\"]\n",
    "    fig, ax = plt.subplots(figsize=(x,y))\n",
    "    # bening, poss, dam,nodata, dis,   ptm, dis-ptm\n",
    "    # 0,      1,     2,    3,    4,   5,      6\n",
    "    # pale, orange, red, white, blue, pink, black\n",
    "    ax2=sns.heatmap(dataFrame, cmap=colormap, linewidths=0.1, annot=False, cbar=False,square=True,xticklabels=True, yticklabels=True,ax=ax)\n",
    "    ax2.xaxis.set_ticks_position('top')\n",
    "    ax.set(xlabel=axisText,ylabel='Aminergic GPCRs') \n",
    "    ax2.xaxis.set_label_position('top')\n",
    "    plt.xticks(rotation=90) \n",
    "    plt.show()\n",
    "    return None\n",
    "heatmap_only_total_CM(gpcr_cmpos_total_amin,'Positions of conserved motifs',10,11)\n",
    "\n",
    "#amin/amin_heatmap.png"
   ]
  },
  {
   "cell_type": "code",
   "execution_count": null,
   "metadata": {},
   "outputs": [],
   "source": [
    "# horizontal barplot\n",
    "heatmap_total_horizontal_sum_mixed_cluster_cut(gpcr_cmpos_total_amin,3,9,True,False,True,True)#non-small, PTMs(pink), PTM+Dis(black), legend out\n",
    "#amin/amin_horizontal.png"
   ]
  },
  {
   "cell_type": "markdown",
   "metadata": {},
   "source": [
    "# Mapping\n",
    "Now we will map in a template, an aminergic GPCR, the variants colored by frequency.\n",
    "+ Positions 'more porbably damaged when mutated' with more score '2' (and '1'). \n",
    "+ Positions 'more ralated with diseases', colored by number of related diseases/number of different variants.\n",
    "+ Positions related with PTMs (none in this region).\n",
    "+ Positions 'more interesting positions', the ones that have score 2 and are related with diseases/PTMs, for class A and aminergic."
   ]
  },
  {
   "cell_type": "code",
   "execution_count": null,
   "metadata": {},
   "outputs": [],
   "source": [
    "# en esta region yo no podria los scores sino una imagen con las posiciones en diferente color\n",
    "\n",
    "\n",
    "def min_max_freqs_percentage(freqMin, freqMax):\n",
    "    '''Compute the min and max frequencies in % in a list, min and max'''\n",
    "    values=[]\n",
    "    values.append(freqMin*100/len(all_gpcrs_axes))\n",
    "    values.append(freqMax*100/len(all_gpcrs_axes))\n",
    "    return values\n",
    "\n",
    "def create_reps_colormap(gpcr,pdbName,pdbPath,vars_display,colorPalette='YlOrRd',rep_chains=False):\n",
    "    ''' Configuration of a view of a GPCR with its varints of the BS in VDW representantion and\n",
    "    color depending on the number of times the variants appear in that position for all the GPCRs.\n",
    "    norm is used to spread the freq values for all the 61 colors, otherwise not all the color scale\n",
    "    may be reached'''\n",
    "     \n",
    "    pdb=pdbName\n",
    "    affected_vars=[]\n",
    "    unaffected_vars=[]\n",
    "    unknown_vars=[]\n",
    "    rep_chains=set()\n",
    "        \n",
    "    color_dic={}\n",
    "    freq_set=set()\n",
    "    for element in vars_display:\n",
    "        freq_set.add(element['value'])\n",
    "    freq_unique_sorted=list(freq_set)\n",
    "    freq_unique_sorted.sort()\n",
    "    norm_colors=[]\n",
    "    \n",
    "    if colorPalette=='Blues':\n",
    "        color_map_long=sns.color_palette(colorPalette,n_colors=len(freq_unique_sorted)+10).as_hex()\n",
    "        color_map=color_map_long[10:]\n",
    "        color_map.insert(0,'#ffffff')\n",
    "    elif colorPalette=='RdPu': \n",
    "        color_map=sns.color_palette(colorPalette,n_colors=len(freq_unique_sorted)).as_hex()\n",
    "        color_map.insert(0,'#ffffff')\n",
    "    else:\n",
    "        color_map=sns.color_palette(colorPalette,n_colors=len(freq_unique_sorted)).as_hex()\n",
    "    print('Frequencies:',freq_unique_sorted)\n",
    "#     print(color_map)\n",
    "    print('The min and max values of the frequencies in percentage:')\n",
    "    print(min_max_freqs_percentage(freq_unique_sorted[0],freq_unique_sorted[-1]))#min and max in %\n",
    "    \n",
    "    for i in range(0,len(freq_unique_sorted)):# build dictionary frequency:color\n",
    "        color_dic[freq_unique_sorted[i]]=color_map[i]    \n",
    "    \n",
    "    if rep_chains: \n",
    "        gpcr_sel=\"protein and (%s)\" % \" or \".join(rep_chains)\n",
    "    else:\n",
    "        gpcr_sel=\"protein and chain A and resid < 1000\"\n",
    "    mypdb=pdb+\".pdb\"\n",
    "    mypdbpath=os.path.join(pdbPath,mypdb)\n",
    "    mol = Molecule(mypdbpath)\n",
    "    mol.reps.add(sel=gpcr_sel,color=\"#f4f8ff\",style='NewCartoon')\n",
    "#     mol.reps.add(sel=gpcr_sel,style='VDW')\n",
    "\n",
    "    for var in vars_display:\n",
    "#         print(var['value'], color_dic[var['value']])\n",
    "        mysel=\"(name CA and resid \"+var[\"pdb_pos\"]+\" and chain \"+var[\"chain\"]+\")\"\n",
    "        mol.reps.add(sel=mysel ,color=color_dic[var['value']],style='VDW')\n",
    "    mol.center()\n",
    "    mol.camera = 'orthographic'\n",
    "    return mol"
   ]
  },
  {
   "cell_type": "markdown",
   "metadata": {},
   "source": [
    "### 1. Positions more porbably damaged when mutated"
   ]
  },
  {
   "cell_type": "code",
   "execution_count": null,
   "metadata": {},
   "outputs": [],
   "source": [
    "# return a dictionary with the position and frequency: score_freq_dict\n",
    "# score 2:\n",
    "score_freq_dict=anls.freq_score_dic(gpcr_cmpos,cm_gnum,2)\n",
    "# score 1:\n",
    "score_freq_dict_1=anls.freq_score_dic(gpcr_cmpos,cm_gnum,1)\n",
    "# score 0:\n",
    "score_freq_dict_0=anls.freq_score_dic(gpcr_cmpos,cm_gnum,0)\n",
    "# score 3:\n",
    "score_freq_dict_3=anls.freq_score_dic(gpcr_cmpos,cm_gnum,3)\n",
    "\n",
    "# % of cells in the heatmap that have score 2:\n",
    "anls.percentage_cells(all_gpcrs_axes,score_freq_dict,2)\n",
    "#score 1:\n",
    "anls.percentage_cells(all_gpcrs_axes,score_freq_dict_1,1)\n",
    "anls.percentage_cells(all_gpcrs_axes,score_freq_dict_0,0)\n",
    "anls.percentage_cells(all_gpcrs_axes,score_freq_dict_3,3)"
   ]
  },
  {
   "cell_type": "markdown",
   "metadata": {},
   "source": [
    "The number of cells is the number of GPCRs (rows, in this case class A) multiplied by the number of positions that form the CMs."
   ]
  },
  {
   "cell_type": "code",
   "execution_count": null,
   "metadata": {},
   "outputs": [],
   "source": [
    "gpcr=\"HTR2A\" # Template, 5-hydroxytryptamine receptor 2A, drug target, aminergic\n",
    "pdbname=\"6A94\" # inactive structure\n",
    "pdb_path=os.path.join(path_to_project,\"Data/pdb_files/\")\n",
    "pdb_filepath=pdb_path+pdbname+\".pdb\"\n",
    "json_filename=pdbname+\"_conv.json\"\n",
    "gpcr_pdb=anls.gpcr_pdb_dict_fom_json(dictpath+json_filename)\n",
    "\n",
    "\n",
    "# score 2\n",
    "vars_display=[]# list containing dictionaries with the position, chain and freq of variants\n",
    "for gnum, freq in score_freq_dict.items():\n",
    "    score_var_info={}\n",
    "    if gnum in gpcr_pdb:\n",
    "        score_var_info[\"pdb_pos\"]=gpcr_pdb[gnum][\"pos\"]\n",
    "        score_var_info[\"chain\"]=gpcr_pdb[gnum][\"chain\"]\n",
    "        score_var_info[\"value\"]=freq\n",
    "        vars_display.append(score_var_info)\n",
    "# vieww=create_reps_colormap(gpcr,pdbname,pdb_path,vars_display,'Reds')\n",
    "# vieww.camera = 'orthographic'\n",
    "# vieww.view()"
   ]
  },
  {
   "cell_type": "code",
   "execution_count": null,
   "metadata": {},
   "outputs": [],
   "source": [
    "# score 1\n",
    "vars_display_1=[]# list containing dictionaries with the position, chain and freq of variants\n",
    "for gnum, freq in score_freq_dict_1.items():\n",
    "    score_var_info_1={}\n",
    "    if gnum in gpcr_pdb:\n",
    "        score_var_info_1[\"pdb_pos\"]=gpcr_pdb[gnum][\"pos\"]\n",
    "        score_var_info_1[\"chain\"]=gpcr_pdb[gnum][\"chain\"]\n",
    "        score_var_info_1[\"value\"]=freq\n",
    "        vars_display_1.append(score_var_info_1)\n",
    "# vieww=create_reps_colormap(gpcr,pdbname,pdb_path,vars_display_1,'Reds')\n",
    "# vieww.camera = 'orthographic'\n",
    "# vieww.view()"
   ]
  },
  {
   "cell_type": "code",
   "execution_count": null,
   "metadata": {},
   "outputs": [],
   "source": [
    "# score 0\n",
    "vars_display_0=[]# list containing dictionaries with the position, chain and freq of variants\n",
    "for gnum, freq in score_freq_dict_0.items():\n",
    "    score_var_info_0={}\n",
    "    if gnum in gpcr_pdb:\n",
    "        score_var_info_0[\"pdb_pos\"]=gpcr_pdb[gnum][\"pos\"]\n",
    "        score_var_info_0[\"chain\"]=gpcr_pdb[gnum][\"chain\"]\n",
    "        score_var_info_0[\"value\"]=freq\n",
    "        vars_display_0.append(score_var_info_1)\n",
    "# vieww=create_reps_colormap(gpcr,pdbname,pdb_path,vars_display_0,'Reds')\n",
    "# vieww.camera = 'orthographic'\n",
    "# vieww.view()"
   ]
  },
  {
   "cell_type": "markdown",
   "metadata": {},
   "source": [
    "### 2. Positions more ralated with diseases\n",
    "#### 2.1 Colored by number of related diseases"
   ]
  },
  {
   "cell_type": "code",
   "execution_count": null,
   "metadata": {},
   "outputs": [],
   "source": [
    "relDiseases_freq_dict=anls.freq_disease_dic(gpcr_cmpos_dis, cm_gnum)"
   ]
  },
  {
   "cell_type": "code",
   "execution_count": null,
   "metadata": {},
   "outputs": [],
   "source": [
    "# Related diseases of variants in each position\n",
    "vars_display_relDis=[]# list containing dictionaries with the position, chain and freq of variants\n",
    "for gnum, freq in relDiseases_freq_dict.items():\n",
    "    score_var_info_relDis={}\n",
    "    if gnum in gpcr_pdb:\n",
    "        score_var_info_relDis[\"pdb_pos\"]=gpcr_pdb[gnum][\"pos\"]\n",
    "        score_var_info_relDis[\"chain\"]=gpcr_pdb[gnum][\"chain\"]\n",
    "        score_var_info_relDis[\"value\"]=freq\n",
    "        vars_display_relDis.append(score_var_info_relDis)\n",
    "vieww=create_reps_colormap(gpcr,pdbname,pdb_path,vars_display_relDis,'Blues')\n",
    "vieww.camera = 'orthographic'\n",
    "vieww.view()\n",
    "# maybe this image attached to the heatmapOnlyDis??\n",
    "# 6/7 positions of the CMs are related with diseases (1 as min, 12 as max)"
   ]
  },
  {
   "cell_type": "markdown",
   "metadata": {},
   "source": [
    "#### 2.2 Colored by number of different variants\n",
    "In here we will just consider the variants related with diseases that are also score 2."
   ]
  },
  {
   "cell_type": "code",
   "execution_count": null,
   "metadata": {},
   "outputs": [],
   "source": [
    "disDamaging_freq_dict=anls.freq_score_dic(gpcr_cmpos_total_clus,cm_gnum,4)\n",
    "# disDamaging_freq_dict\n",
    "anls.percentage_cells(all_gpcrs_axes,disDamaging_freq_dict,4)"
   ]
  },
  {
   "cell_type": "code",
   "execution_count": null,
   "metadata": {},
   "outputs": [],
   "source": [
    "# score 4, dis+damaging\n",
    "vars_display_dis=[]# list containing dictionaries with the position, chain and freq of variants\n",
    "for gnum, freq in disDamaging_freq_dict.items():\n",
    "    score_var_info_dis={}\n",
    "    if gnum in gpcr_pdb:\n",
    "        score_var_info_dis[\"pdb_pos\"]=gpcr_pdb[gnum][\"pos\"]\n",
    "        score_var_info_dis[\"chain\"]=gpcr_pdb[gnum][\"chain\"]\n",
    "        score_var_info_dis[\"value\"]=freq\n",
    "        vars_display_dis.append(score_var_info_dis)\n",
    "create_reps_colormap(gpcr,pdbname,pdb_path,vars_display_dis).view()"
   ]
  },
  {
   "cell_type": "markdown",
   "metadata": {},
   "source": [
    "### 2.3 Variants affecting PTMs\n",
    "There are not PTMs in the intracellular regions."
   ]
  },
  {
   "cell_type": "markdown",
   "metadata": {},
   "source": [
    "### 4. Positions 'more interesting' to simulate \n",
    "The ones that have score 2 and are related with diseases/PTMs in the aminergic family. As there is no variant  here realted with diseases or PTM, we look to the barplots. We see that the most interesting possition is the ionic lock, the one that is more time variated and with score 2. The GPCR with more variants (including 3x50) is the HTR1B. But we could choose another one that is an interesting drug target. "
   ]
  },
  {
   "cell_type": "code",
   "execution_count": null,
   "metadata": {},
   "outputs": [],
   "source": [
    "anls.heatmap_vert_sum_mixed(gpcr_cmpos,cm_gnum)"
   ]
  },
  {
   "cell_type": "code",
   "execution_count": null,
   "metadata": {},
   "outputs": [],
   "source": [
    "gpcr=\"HTR2B\" # 5-hydroxytryptamine receptor 2B\n",
    "pdbname=\"5TUD\" # inactive structure\n",
    "pdb_path=os.path.join(path_to_project,\"Data/pdb_files/\")\n",
    "pdb_filepath=pdb_path+pdbname+\".pdb\"\n",
    "json_filename=pdbname+\"_conv.json\"\n",
    "gpcr_pdb=anls.gpcr_pdb_dict_fom_json(dictpath+json_filename)\n",
    "\n",
    "gnum='3x50'\n",
    "if gnum in gpcr_pdb:\n",
    "    pdb_pos=gpcr_pdb[gnum][\"pos\"]#pdb coordinates\n",
    "    chain=gpcr_pdb[gnum][\"chain\"]#chain\n",
    "\n",
    "mol = Molecule(pdb_filepath)\n",
    "gpcr_sel=\"protein and chain D\"\n",
    "mol.reps.add(sel=gpcr_sel,color=\"#f4f8ff\",style='NewCartoon') # GPCR (no lig) in white newcartoon\n",
    "# interesting position\n",
    "mysel=\"(name CA and resid \"+pdb_pos+\" and chain \"+chain+\")\"\n",
    "mol.reps.add(sel=mysel ,color=\"#3875B1\",style='VDW')\n",
    "\n",
    "mol.view()"
   ]
  },
  {
   "cell_type": "code",
   "execution_count": null,
   "metadata": {},
   "outputs": [],
   "source": [
    "totalDis=0\n",
    "for key, value in relDiseases_freq_dict.items():\n",
    "    totalDis+=relDiseases_freq_dict[key]\n",
    "print('Total diseases',totalDis)\n",
    "\n",
    "totalDisDam=0\n",
    "for key, value in disDamaging_freq_dict.items():\n",
    "    totalDisDam+=disDamaging_freq_dict[key]\n",
    "print('Total diseases damaging',totalDisDam)"
   ]
  },
  {
   "cell_type": "markdown",
   "metadata": {},
   "source": [
    "We could say that this is the more sensitive region, none bening variants, and high population of damaging variants in each position which is consistent with the fact that those are conserved positions. We should choose some of those positions that are variants in a GPCR mental illness drug target."
   ]
  },
  {
   "cell_type": "code",
   "execution_count": null,
   "metadata": {},
   "outputs": [],
   "source": []
  },
  {
   "cell_type": "code",
   "execution_count": null,
   "metadata": {},
   "outputs": [],
   "source": []
  }
 ],
 "metadata": {
  "kernelspec": {
   "display_name": "Python 3",
   "language": "python",
   "name": "python3"
  },
  "language_info": {
   "codemirror_mode": {
    "name": "ipython",
    "version": 3
   },
   "file_extension": ".py",
   "mimetype": "text/x-python",
   "name": "python",
   "nbconvert_exporter": "python",
   "pygments_lexer": "ipython3",
   "version": "3.6.10"
  }
 },
 "nbformat": 4,
 "nbformat_minor": 4
}
